{
 "cells": [
  {
   "cell_type": "markdown",
   "metadata": {},
   "source": [
    "# Exercise 01 \n",
    "\n",
    "## Aim of the exercise\n",
    "\n",
    "The goal of this exercise is to extract and analyse pdb files from the PDB database.\n",
    "\n",
    "We will learn how to:\n",
    "\n",
    "- perform queries to the pdb database\n",
    "- extract pdb IDs – each structure is defined by its ID code\n",
    "- extract information about structures\n",
    "- perform different analyses (e.g. find  structure with lowest resolution)\n",
    "\n",
    "partially based on [Drazen Petrov](https://orcid.org/0000-0001-6221-7369)'s Exercises and on [TeachOpenCADD](https://jcheminf.biomedcentral.com/articles/10.1186/s13321-019-0351-x) and "
   ]
  },
  {
   "cell_type": "code",
   "execution_count": null,
   "metadata": {
    "tags": []
   },
   "outputs": [],
   "source": [
    "# Check if running on Google Colab\n",
    "try:\n",
    "    from google.colab import drive\n",
    "\n",
    "    is_google_colab = True\n",
    "except ImportError:\n",
    "    is_google_colab = False\n",
    "\n",
    "# If on Google Colab, install the package\n",
    "if is_google_colab:\n",
    "    %pip install numpy==1.26.4 scipy==1.14.1 pandas==2.2.2 matplotlib==3.9.2 biopandas==0.4.1 pypdb==2.4 tqdm==4.66.1 py3dmol==2.0.4\n",
    "\n",
    "# NOTE: Ignore specific warning message from ipykernel=5.5.6\n",
    "import warnings\n",
    "warnings.filterwarnings(\n",
    "    \"ignore\",\n",
    "    message=r\"`should_run_async`.*\",\n",
    "    category=DeprecationWarning,\n",
    "    module=r\"ipykernel\\.ipkernel\",\n",
    ")"
   ]
  },
  {
   "cell_type": "code",
   "execution_count": null,
   "metadata": {
    "tags": []
   },
   "outputs": [],
   "source": [
    "# import needed libraries\n",
    "import math\n",
    "\n",
    "import requests\n",
    "import json\n",
    "import tqdm\n",
    "from tqdm import tqdm\n",
    "\n",
    "import scipy\n",
    "import pandas as pd\n",
    "import numpy as np\n",
    "\n",
    "import matplotlib.pyplot as plt\n",
    "import matplotlib as mpl\n",
    "\n",
    "import pypdb\n",
    "import biopandas\n",
    "\n",
    "import py3Dmol\n",
    "\n",
    "\n",
    "mpl.rcParams[\"figure.dpi\"] = 120\n",
    "mpl.rcParams[\"figure.figsize\"] = [5, 3]"
   ]
  },
  {
   "cell_type": "code",
   "execution_count": null,
   "metadata": {},
   "outputs": [],
   "source": [
    "# Print versions of each library\n",
    "print(f\"Running on Google Colab: {is_google_colab}\")\n",
    "print(f\"numpy=={np.__version__}\")\n",
    "print(f\"scipy=={scipy.__version__}\")\n",
    "print(f\"pandas=={pd.__version__}\")\n",
    "print(f\"matplotlib=={plt.matplotlib.__version__}\")\n",
    "print(f\"biopandas=={biopandas.__version__}\")\n",
    "# print(f\"pypdb=={pypdb.__version__}\") # NOTE: pypdb does not have a __version__ attribute\n",
    "# print(f\"tqdm=={tqdm.__version__}\") # NOTE: tqdm does not have a __version__ attribute\n",
    "print(f\"py3dmol=={py3Dmol.__version__}\")"
   ]
  },
  {
   "cell_type": "markdown",
   "metadata": {},
   "source": [
    "## PDB Protein Data Bank\n",
    "\n",
    "The [RCSB PDB](https://www.rcsb.org/) (Research Collaboratory for Structural Bioinformatics Protein Data Bank) is a comprehensive database for the 3D structural information of biological macromolecules. The aim of RCSB PDB is to provide open access to 3D structural data of biological macromolecules to advance research and understanding of molecular biology and biochemistry. The RCSB PDB also provides a variety of tools and resources. Users can perform simple and advanced searches based on annotations relating to sequence, structure and function. These molecules are visualized, downloaded, and analyzed by users who range from students to specialized scientists. "
   ]
  },
  {
   "cell_type": "markdown",
   "metadata": {},
   "source": [
    "\n",
    "\n",
    "### Protein of interest\n",
    "\n",
    "Today we will take a look at the human tyrosine-protein kinase. This protein is involved in cell differentiation, cell division, cell adhesion, stress response and apoptosis. It is also a target for cancer therapy.\n",
    "\n",
    "The UNIPROT ID of this protein is P00519. You can find more information about this protein at [https://www.uniprot.org/uniprot/P00519](https://www.uniprot.org/uniprot/P00519)\n",
    "\n",
    "To perform a search in the PDB database, copy the uniprot id (P00519) to the search box at [https://www.rcsb.org/](https://www.rcsb.org/)\n",
    "Be free to explore the website and the information available for this protein."
   ]
  },
  {
   "cell_type": "markdown",
   "metadata": {},
   "source": [
    "### Programmatic access to PDB\n",
    "\n",
    "While performing search over the website is straightforward, making repeated searches to systematically analyze structures of interest is only possible using a programmatic access.\n",
    "\n",
    "Therefore, we will use the [PDB Search API](https://www.rcsb.org/docs/programmatic-access/web-services) to perform queries to the PDB database.\n",
    "\n",
    "How does it work? The API lets you search the PDB database with a JSON query in a URL and retrieve results in JSON format for further extraction.\n",
    "\n",
    "The API is well document in [https://search.rcsb.org/index.html#search-api](https://search.rcsb.org/index.html#search-api). You can find there also examples of queries [https://search.rcsb.org/index.html#examples](https://search.rcsb.org/index.html#examples).\n",
    "\n",
    "We will use [pypdb](https://github.com/williamgilpin/pypdb) to easily access and download PDB data based on metadata like protein and ligand names.\n"
   ]
  },
  {
   "cell_type": "code",
   "execution_count": null,
   "metadata": {
    "tags": []
   },
   "outputs": [],
   "source": [
    "# prepare search parameters using the uniprot ID of ABL1 (P00519)\n",
    "search_dict = {\n",
    "    \"query\": {\n",
    "        \"type\": \"terminal\",\n",
    "        \"label\": \"full_text\",\n",
    "        \"service\": \"full_text\",\n",
    "        \"parameters\": {\"value\": \"P00519\"},\n",
    "    },\n",
    "    \"return_type\": \"entry\",\n",
    "    \"request_options\": {\n",
    "        \"paginate\": {\"start\": 0, \"rows\": 10000},\n",
    "        \"results_content_type\": [\"experimental\"],\n",
    "        \"sort\": [{\"sort_by\": \"score\", \"direction\": \"desc\"}],\n",
    "        \"scoring_strategy\": \"combined\",\n",
    "    },\n",
    "}"
   ]
  },
  {
   "cell_type": "code",
   "execution_count": null,
   "metadata": {
    "tags": []
   },
   "outputs": [],
   "source": [
    "# performing the search\n",
    "response = requests.get(\n",
    "    \"https://search.rcsb.org/rcsbsearch/v2/query?json=\" + json.dumps(search_dict)\n",
    ")\n",
    "data = response.json()\n",
    "# printing the keys of the retreived dictionary\n",
    "data.keys()"
   ]
  },
  {
   "cell_type": "code",
   "execution_count": null,
   "metadata": {
    "tags": []
   },
   "outputs": [],
   "source": [
    "# showing the total number of hits (how does this compare to the search performed on the website directly?)\n",
    "data[\"total_count\"], len(data[\"result_set\"])"
   ]
  },
  {
   "cell_type": "code",
   "execution_count": null,
   "metadata": {
    "tags": []
   },
   "outputs": [],
   "source": [
    "data[\"result_set\"][0]"
   ]
  },
  {
   "cell_type": "code",
   "execution_count": null,
   "metadata": {
    "tags": []
   },
   "outputs": [],
   "source": [
    "def extract_pdb_ids(search_result: dict) -> list:\n",
    "    \"\"\"Extracts the PDB IDs from the search result.\"\"\"\n",
    "    pdb_IDs = []\n",
    "    for entry in search_result[\"result_set\"]:\n",
    "        pdb_IDs.append(entry[\"identifier\"])\n",
    "    return pdb_IDs\n",
    "\n",
    "\n",
    "found_pdb_ids = extract_pdb_ids(data)"
   ]
  },
  {
   "cell_type": "code",
   "execution_count": null,
   "metadata": {
    "tags": []
   },
   "outputs": [],
   "source": [
    "# here we look at how many hits we got\n",
    "len(found_pdb_ids)"
   ]
  },
  {
   "cell_type": "code",
   "execution_count": null,
   "metadata": {
    "tags": []
   },
   "outputs": [],
   "source": [
    "# here we look at the first 5 pdb codes\n",
    "found_pdb_ids[:5]"
   ]
  },
  {
   "cell_type": "markdown",
   "metadata": {},
   "source": [
    "### Extracting information of one protein"
   ]
  },
  {
   "cell_type": "code",
   "execution_count": null,
   "metadata": {
    "collapsed": false,
    "tags": []
   },
   "outputs": [],
   "source": [
    "# let's take a look at some information about one of the structures from the list (PDB ID 1BBZ)\n",
    "pdb_1bbz_info = pypdb.get_info(\"1BBZ\")\n",
    "for key, value in pdb_1bbz_info.items():\n",
    "    # print(key, value) # this line would print all the data available (long output)!\n",
    "    print(key, end=\", \")  # here we just print the keys"
   ]
  },
  {
   "cell_type": "markdown",
   "metadata": {},
   "source": [
    "Now, our problems is the fact that we have to much information. We are interested in parameters as resolution, method, date, number of atoms, etc.\n",
    " \n",
    "Let's try to extract this information from the dictionary.\n",
    "\n",
    "now try to do the same search direct on the PDB website https://www.rcsb.org/"
   ]
  },
  {
   "cell_type": "code",
   "execution_count": null,
   "metadata": {
    "tags": []
   },
   "outputs": [],
   "source": [
    "# let's extract some of the (interesting) information\n",
    "# of course, what is interesting depends on the project you are involved in\n",
    "# this is one example of such a function\n",
    "def extract_interesting_info(pdb_info: dict) -> dict:\n",
    "    \"\"\"Extracts interesting information from the PDB info.\"\"\"\n",
    "    info = {\n",
    "        \"pdb_id\": pdb_info[\"rcsb_id\"],\n",
    "        \"desc\": pdb_info[\"struct\"].get(\"pdbx_descriptor\"),\n",
    "        \"title\": pdb_info[\"struct\"][\"title\"],\n",
    "        \"method\": pdb_info[\"exptl\"][0][\"method\"],\n",
    "        \"date\": pdb_info[\"rcsb_accession_info\"][\"deposit_date\"],\n",
    "        \"num_atoms\": pdb_info[\"rcsb_entry_info\"][\"deposited_atom_count\"],\n",
    "        \"resolution\": None,\n",
    "        \"rwork\": None,\n",
    "        \"rfree\": None,\n",
    "    }\n",
    "\n",
    "    # only for X-ray\n",
    "    try:\n",
    "        xray_info = {\n",
    "            \"resolution\": pdb_info[\"refine\"][0][\"ls_dres_high\"],\n",
    "            \"rwork\": pdb_info[\"refine\"][0][\"ls_rfactor_rwork\"],\n",
    "            \"rfree\": pdb_info[\"refine\"][0][\"ls_rfactor_rfree\"],\n",
    "        }\n",
    "        info.update(xray_info)\n",
    "    except Exception as e:\n",
    "        print(f\"Error: {e}\")\n",
    "        pass\n",
    "\n",
    "    return (\n",
    "        info  # pdb_id, desc, title, method, date, num_atoms, resolution, rwork, rfree\n",
    "    )"
   ]
  },
  {
   "cell_type": "code",
   "execution_count": null,
   "metadata": {
    "tags": []
   },
   "outputs": [],
   "source": [
    "extract_interesting_info(pdb_1bbz_info)"
   ]
  },
  {
   "cell_type": "markdown",
   "metadata": {},
   "source": [
    "### Extracting information of the found proteins\n",
    "\n",
    "We will use the function defined `extract_interesting_info` to extract the information of each protein."
   ]
  },
  {
   "cell_type": "code",
   "execution_count": null,
   "metadata": {
    "tags": []
   },
   "outputs": [],
   "source": [
    "# let’s collect data for all retrieved pdb codes\n",
    "pdb_data = []\n",
    "for pdb_id in tqdm(found_pdb_ids):\n",
    "    pdb_data.append(extract_interesting_info(pypdb.get_info(pdb_id)))"
   ]
  },
  {
   "cell_type": "code",
   "execution_count": null,
   "metadata": {
    "tags": []
   },
   "outputs": [],
   "source": [
    "# now we store this data in a pandas dataframe\n",
    "pdbs = pd.DataFrame(pdb_data)\n",
    "pdbs.head()"
   ]
  },
  {
   "cell_type": "markdown",
   "metadata": {},
   "source": [
    "#### Let's make some plots\n",
    "\n",
    "looking at the release years and resolution of the structures"
   ]
  },
  {
   "cell_type": "code",
   "execution_count": null,
   "metadata": {
    "tags": []
   },
   "outputs": [],
   "source": [
    "# a little bit of preprocessing\n",
    "# let's convert the date column to datetime format\n",
    "pdbs[\"date\"] = pd.to_datetime(pdbs[\"date\"])\n",
    "pdbs[\"year\"] = pdbs[\"date\"].dt.year"
   ]
  },
  {
   "cell_type": "code",
   "execution_count": null,
   "metadata": {
    "tags": []
   },
   "outputs": [],
   "source": [
    "df = pdbs\n",
    "df[[\"date\"]].groupby(df[\"date\"].dt.year).count().plot(kind=\"bar\")"
   ]
  },
  {
   "cell_type": "code",
   "execution_count": null,
   "metadata": {
    "collapsed": false,
    "tags": []
   },
   "outputs": [],
   "source": [
    "structures_per_year = pdbs[\"year\"].value_counts().reset_index().sort_values(\"year\")\n",
    "structures_per_year"
   ]
  },
  {
   "cell_type": "code",
   "execution_count": null,
   "metadata": {
    "tags": []
   },
   "outputs": [],
   "source": [
    "# let's plot the number of structures per year\n",
    "# structures_per_year = pdbs['year'].value_counts().reset_index().sort_values('year') # <- this works for pandas>=2.0\n",
    "structures_per_year = pdbs[\"year\"].value_counts().reset_index()\n",
    "structures_per_year.columns = [\"year\", \"count\"]\n",
    "structures_per_year.sort_values(\"year\", inplace=True)\n",
    "structures_per_year"
   ]
  },
  {
   "cell_type": "code",
   "execution_count": null,
   "metadata": {
    "collapsed": false,
    "tags": []
   },
   "outputs": [],
   "source": [
    "# let's plot the number of structures per year\n",
    "structures_per_year.plot(x=\"year\", y=\"count\", style=\"o-\")"
   ]
  },
  {
   "cell_type": "code",
   "execution_count": null,
   "metadata": {
    "tags": []
   },
   "outputs": [],
   "source": [
    "# let's plot how the resolution changed over the years\n",
    "pdbs = pdbs.sort_values([\"year\"], ascending=True, na_position=\"last\")\n",
    "pdbs[[\"date\", \"year\", \"resolution\"]].head(10)"
   ]
  },
  {
   "cell_type": "code",
   "execution_count": null,
   "metadata": {
    "collapsed": false,
    "tags": []
   },
   "outputs": [],
   "source": [
    "pdbs.plot(x=\"year\", y=\"resolution\", style=\"o\")"
   ]
  },
  {
   "cell_type": "code",
   "execution_count": null,
   "metadata": {
    "tags": []
   },
   "outputs": [],
   "source": [
    "# let's observe the type of methods used to obtain the structures\n",
    "pdbs[\"method\"].unique()"
   ]
  },
  {
   "cell_type": "code",
   "execution_count": null,
   "metadata": {
    "tags": []
   },
   "outputs": [],
   "source": [
    "pdbs[pdbs.method == \"X-RAY DIFFRACTION\"].head()"
   ]
  },
  {
   "cell_type": "code",
   "execution_count": null,
   "metadata": {
    "tags": []
   },
   "outputs": [],
   "source": [
    "pdbs[pdbs.method == \"X-RAY DIFFRACTION\"].head().resolution"
   ]
  },
  {
   "cell_type": "code",
   "execution_count": null,
   "metadata": {
    "tags": []
   },
   "outputs": [],
   "source": [
    "pdbs.hist(column=\"resolution\")"
   ]
  },
  {
   "cell_type": "markdown",
   "metadata": {},
   "source": [
    "<img src=\"https://biopandas.github.io/biopandas/img/logos/logo_size_1.png\" width=\"200\" align=\"left\"/>\n",
    "\n",
    "## biopandas \n",
    "\n",
    "[BioPandas](https://biopandas.github.io/biopandas/) simplifies the handling of protein structure files, such as PDB files, for computational biologists. It utilizes pandas DataFrames, widely used in data science, to work with biological macromolecule structures from PDB and MOL2 files in structural biology.\n",
    "\n",
    "We will use it to extract the structure with the lowest resolution "
   ]
  },
  {
   "cell_type": "code",
   "execution_count": null,
   "metadata": {
    "tags": []
   },
   "outputs": [],
   "source": [
    "from biopandas.pdb import PandasPdb\n",
    "# The following warning is a biopandas issue that will be fixed in the next release"
   ]
  },
  {
   "cell_type": "code",
   "execution_count": null,
   "metadata": {
    "tags": []
   },
   "outputs": [],
   "source": [
    "pdbs[\"resolution\"].min()"
   ]
  },
  {
   "cell_type": "code",
   "execution_count": null,
   "metadata": {
    "tags": []
   },
   "outputs": [],
   "source": [
    "pdbs[\"resolution\"].idxmin()"
   ]
  },
  {
   "cell_type": "code",
   "execution_count": null,
   "metadata": {
    "tags": []
   },
   "outputs": [],
   "source": [
    "ID_min = pdbs[\"resolution\"].idxmin()\n",
    "pdbs.iloc[ID_min]\n"
   ]
  },
  {
   "cell_type": "code",
   "execution_count": null,
   "metadata": {
    "tags": []
   },
   "outputs": [],
   "source": [
    "pdbs[\"pdb_id\"].iloc[ID_min]"
   ]
  },
  {
   "cell_type": "code",
   "execution_count": null,
   "metadata": {
    "tags": []
   },
   "outputs": [],
   "source": [
    "pdb_ID = pdbs[\"pdb_id\"].iloc[ID_min]\n",
    "ppdb = PandasPdb().fetch_pdb(pdb_ID)\n",
    "ppdb"
   ]
  },
  {
   "cell_type": "code",
   "execution_count": null,
   "metadata": {
    "tags": []
   },
   "outputs": [],
   "source": [
    "ppdb.df[\"ATOM\"].head()"
   ]
  },
  {
   "cell_type": "code",
   "execution_count": null,
   "metadata": {
    "tags": []
   },
   "outputs": [],
   "source": [
    "ppdb.df[\"ATOM\"][\"b_factor\"].plot(kind=\"hist\")"
   ]
  },
  {
   "cell_type": "code",
   "execution_count": null,
   "metadata": {
    "tags": []
   },
   "outputs": [],
   "source": [
    "ppdb.df[\"ATOM\"][\"b_factor\"].plot(kind=\"line\")"
   ]
  },
  {
   "cell_type": "code",
   "execution_count": null,
   "metadata": {
    "tags": []
   },
   "outputs": [],
   "source": [
    "ppdb.df[\"ATOM\"].x_coord[0]"
   ]
  },
  {
   "cell_type": "code",
   "execution_count": null,
   "metadata": {
    "tags": []
   },
   "outputs": [],
   "source": [
    "def get_coord(pdb: PandasPdb, at: int) -> np.array:\n",
    "    \"\"\"Get the coordinates of an atom.\"\"\"\n",
    "    r = []\n",
    "    for coord in (\"x_coord\", \"y_coord\", \"z_coord\"):\n",
    "        r.append(pdb.df[\"ATOM\"][coord][at])\n",
    "    return np.array(r)\n",
    "\n",
    "\n",
    "def calc_dist(pdb: PandasPdb, at1: int, at2: int) -> tuple[float, float]:\n",
    "    \"\"\"Calculate the distance between two atoms.\"\"\"\n",
    "    r1, r2 = get_coord(pdb, at1), get_coord(pdb, at2)\n",
    "    r = r1 - r2\n",
    "    d = math.sqrt(sum(r**2))\n",
    "    d_alternative = np.linalg.norm(r)\n",
    "    return d, d_alternative\n",
    "\n",
    "\n",
    "calc_dist(ppdb, 0, 1)"
   ]
  },
  {
   "cell_type": "code",
   "execution_count": null,
   "metadata": {
    "tags": []
   },
   "outputs": [],
   "source": [
    "# help(ppdb)\n",
    "# execute to see what other function are available"
   ]
  },
  {
   "cell_type": "code",
   "execution_count": null,
   "metadata": {
    "tags": []
   },
   "outputs": [],
   "source": [
    "get_coord(ppdb, 0)\n",
    "# ppdb.distance()"
   ]
  },
  {
   "cell_type": "code",
   "execution_count": null,
   "metadata": {
    "tags": []
   },
   "outputs": [],
   "source": [
    "ppdb.distance(get_coord(ppdb, 0)).head()"
   ]
  },
  {
   "cell_type": "markdown",
   "metadata": {
    "collapsed": false
   },
   "source": [
    "## py3Dmol\n",
    "\n",
    "py3Dmol is a wrapper around the 3Dmol.js JavaScript library."
   ]
  },
  {
   "cell_type": "code",
   "execution_count": null,
   "metadata": {
    "collapsed": false
   },
   "outputs": [],
   "source": [
    "import py3Dmol\n",
    "\n",
    "view = py3Dmol.view(query=\"pdb:4XEY\")\n",
    "view.setStyle({\"cartoon\": {\"color\": \"spectrum\"}})\n",
    "view.zoomTo()\n",
    "view.show()"
   ]
  },
  {
   "cell_type": "markdown",
   "metadata": {},
   "source": [
    "# Exercises\n",
    "\n",
    "* Perform a PDB query on a protein of choice (e.g. from a uniprot ID or by textual input query) and retrieve the data from the PDB database - note to use a query that will lead to some tens or hundreds of structures\n",
    "* How many structures have you retrieved and how many of them are X-ray and how many NMR?\n",
    "* Sort the structures by the resolution\n",
    "* What is the min and max resolution\n",
    "* Visualize the structure b-factors (X-ray) or visualize all the structures per PDB (NMR). **Use py3Dmol for this task.**\n",
    "\n",
    "## For the project\n",
    "* chose one of the X-ray and one of the NMR structures and use pymol to visualize them (save visualizations as png files) - this task (pymol) only works on a local machine:<br>\n",
    "   - download the PDB file from the PDB database\n",
    "   - visualize secondary structure elements and describe the structure in terms of secondary structure, motifs, domain, ...\n",
    "   - zoom to the ligand or heteroatoms (if present) and analyze the aminoacids involved in the interaction\n",
    "   - for the X-ray structure, visualize b-factors by either changing the size of the atoms (spheres, see https://sourceforge.net/p/pymol/mailman/message/29616429/) or by color and cartoon thickness (see https://www.michaelchimenti.com/2014/09/five-cool-features-in-pymol-that-you-may-have-missed/)\n",
    "   - for the NMR structure, visualize the bundle. An NMR bundle is a set of structures that satisfy experimental data. This set of structures is reported within one PDB file.\n"
   ]
  },
  {
   "cell_type": "markdown",
   "metadata": {},
   "source": [
    "# Space for the Exercises\n",
    "please provide your solutions below this cell.\n",
    "\n",
    "Also you can provide me the information for the project. I can help you in the progress."
   ]
  },
  {
   "cell_type": "code",
   "execution_count": null,
   "metadata": {},
   "outputs": [],
   "source": []
  },
  {
   "cell_type": "code",
   "execution_count": null,
   "metadata": {},
   "outputs": [],
   "source": []
  },
  {
   "cell_type": "code",
   "execution_count": null,
   "metadata": {},
   "outputs": [],
   "source": []
  }
 ],
 "metadata": {
  "kernelspec": {
   "display_name": "Python 3",
   "language": "python",
   "name": "python3"
  },
  "language_info": {
   "codemirror_mode": {
    "name": "ipython",
    "version": 3
   },
   "file_extension": ".py",
   "mimetype": "text/x-python",
   "name": "python",
   "nbconvert_exporter": "python",
   "pygments_lexer": "ipython3",
   "version": "3.10.12"
  }
 },
 "nbformat": 4,
 "nbformat_minor": 4
}
