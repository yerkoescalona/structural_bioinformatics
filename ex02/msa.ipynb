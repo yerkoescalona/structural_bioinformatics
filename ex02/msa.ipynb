{
 "cells": [
  {
   "cell_type": "code",
   "execution_count": null,
   "id": "cqA9HSJ4k4Df",
   "metadata": {
    "id": "cqA9HSJ4k4Df"
   },
   "outputs": [],
   "source": [
    "# import packages\n",
    "if \"google.colab\" in str(get_ipython()) and \"CLUSTALO_INSTALLED\" not in dir():\n",
    "    print(\"Running on colab\")\n",
    "    !pip install -q condacolab\n",
    "    import condacolab\n",
    "\n",
    "    condacolab.install_mambaforge()\n",
    "    !mamba install -c conda-forge -c bioconda clustalo pymsaviz biopython==1.79 -y\n",
    "\n",
    "    CLUSTALO_INSTALLED = True\n"
   ]
  },
  {
   "cell_type": "markdown",
   "id": "0e0c5586-affa-4c98-b2d3-2375215a89ce",
   "metadata": {
    "collapsed": false,
    "id": "0e0c5586-affa-4c98-b2d3-2375215a89ce"
   },
   "source": [
    "# **Hint 2**: Use your knowledge to analyze a multiple sequence alignment (MSA).\n",
    "\n",
    "Below are cells detailing how to perform a multiple sequence alignment on a series of FASTA sequences (FtsZ sequences as example). First, you'll need to install Clustal Omega (clustalo) for the alignment process, and then install pymsaviz to visualize the alignment.\n",
    "\n",
    "The final code will generate an image where conserved regions are highlighted for easy observation.\n",
    "\n",
    "\n"
   ]
  },
  {
   "cell_type": "code",
   "execution_count": null,
   "id": "9RDmDIEllxY5",
   "metadata": {
    "id": "9RDmDIEllxY5"
   },
   "outputs": [],
   "source": [
    "%%writefile input.fasta\n",
    ">sp|Q42545|FTSZ1_ARATH Cell division protein FtsZ homolog 1, chloroplastic OS=Arabidopsis thaliana OX=3702 GN=FTSZ1 PE=1 SV=2\n",
    "MAIIPLAQLNELTISSSSSSFLTKSISSHSLHSSCICASSRISQFRGGFSKRRSDSTRSK\n",
    "SMRLRCSFSPMESARIKVIGVGGGGNNAVNRMISSGLQSVDFYAINTDSQALLQSSAENP\n",
    "LQIGELLTRGLGTGGNPLLGEQAAEESKDAIANALKGSDLVFITAGMGGGTGSGAAPVVA\n",
    "QISKDAGYLTVGVVTYPFSFEGRKRSLQALEAIEKLQKNVDTLIVIPNDRLLDIADEQTP\n",
    "LQDAFLLADDVLRQGVQGISDIITIPGLVNVDFADVKAVMKDSGTAMLGVGVSSSKNRAE\n",
    "EAAEQATLAPLIGSSIQSATGVVYNITGGKDITLQEVNRVSQVVTSLADPSANIIFGAVV\n",
    "DDRYTGEIHVTIIATGFSQSFQKTLLTDPRAAKLLDKMGSSGQQENKGMSLPHQKQSPST\n",
    "ISTKSSSPRRLFF\n",
    ">sp|P17865|FTSZ_BACSU Cell division protein FtsZ OS=Bacillus subtilis (strain 168) OX=224308 GN=ftsZ PE=1 SV=3\n",
    "MLEFETNIDGLASIKVIGVGGGGNNAVNRMIENEVQGVEYIAVNTDAQALNLSKAEVKMQ\n",
    "IGAKLTRGLGAGANPEVGKKAAEESKEQIEEALKGADMVFVTAGMGGGTGTGAAPVIAQI\n",
    "AKDLGALTVGVVTRPFTFEGRKRQLQAAGGISAMKEAVDTLIVIPNDRILEIVDKNTPML\n",
    "EAFREADNVLRQGVQGISDLIATPGLINLDFADVKTIMSNKGSALMGIGIATGENRAAEA\n",
    "AKKAISSPLLEAAIDGAQGVLMNITGGTNLSLYEVQEAADIVASASDQDVNMIFGSVINE\n",
    "NLKDEIVVTVIATGFIEQEKDVTKPQRPSLNQSIKTHNQSVPKREPKREEPQQQNTVSRH\n",
    "TSQPADDTLDIPTFLRNRNKRG\n",
    ">sp|P0A9A6|FTSZ_ECOLI Cell division protein FtsZ OS=Escherichia coli (strain K12) OX=83333 GN=ftsZ PE=1 SV=1\n",
    "MFEPMELTNDAVIKVIGVGGGGGNAVEHMVRERIEGVEFFAVNTDAQALRKTAVGQTIQI\n",
    "GSGITKGLGAGANPEVGRNAADEDRDALRAALEGADMVFIAAGMGGGTGTGAAPVVAEVA\n",
    "KDLGILTVAVVTKPFNFEGKKRMAFAEQGITELSKHVDSLITIPNDKLLKVLGRGISLLD\n",
    "AFGAANDVLKGAVQGIAELITRPGLMNVDFADVRTVMSEMGYAMMGSGVASGEDRAEEAA\n",
    "EMAISSPLLEDIDLSGARGVLVNITAGFDLRLDEFETVGNTIRAFASDNATVVIGTSLDP\n",
    "DMNDELRVTVVATGIGMDKRPEITLVTNKQVQQPVMDRYQQHGMAPLTQEQKPVAKVVND\n",
    "NAPQTAKEPDYLDIPAFLRKQAD\n",
    ">sp|P0A031|FTSZ_STAAU Cell division protein FtsZ OS=Staphylococcus aureus OX=1280 GN=ftsZ PE=1 SV=1\n",
    "MLEFEQGFNHLATLKVIGVGGGGNNAVNRMIDHGMNNVEFIAINTDGQALNLSKAESKIQ\n",
    "IGEKLTRGLGAGANPEIGKKAAEESREQIEDAIQGADMVFVTSGMGGGTGTGAAPVVAKI\n",
    "AKEMGALTVGVVTRPFSFEGRKRQTQAAAGVEAMKAAVDTLIVIPNDRLLDIVDKSTPMM\n",
    "EAFKEADNVLRQGVQGISDLIAVSGEVNLDFADVKTIMSNQGSALMGIGVSSGENRAVEA\n",
    "AKKAISSPLLETSIVGAQGVLMNITGGESLSLFEAQEAADIVQDAADEDVNMIFGTVINP\n",
    "ELQDEIVVTVIATGFDDKPTSHGRKSGSTGFGTSVNTSSNATSKDESFTSNSSNAQATDS\n",
    "VSERTHTTKEDDIPSFIRNREERRSRRTRR\n",
    ">sp|P9WN95|FTSZ_MYCTU Cell division protein FtsZ OS=Mycobacterium tuberculosis (strain ATCC 25618 / H37Rv) OX=83332 GN=ftsZ PE=1 SV=1\n",
    "MTPPHNYLAVIKVVGIGGGGVNAVNRMIEQGLKGVEFIAINTDAQALLMSDADVKLDVGR\n",
    "DSTRGLGAGADPEVGRKAAEDAKDEIEELLRGADMVFVTAGEGGGTGTGGAPVVASIARK\n",
    "LGALTVGVVTRPFSFEGKRRSNQAENGIAALRESCDTLIVIPNDRLLQMGDAAVSLMDAF\n",
    "RSADEVLLNGVQGITDLITTPGLINVDFADVKGIMSGAGTALMGIGSARGEGRSLKAAEI\n",
    "AINSPLLEASMEGAQGVLMSIAGGSDLGLFEINEAASLVQDAAHPDANIIFGTVIDDSLG\n",
    "DEVRVTVIAAGFDVSGPGRKPVMGETGGAHRIESAKAGKLTSTLFEPVDAVSVPLHTNGA\n",
    "TLSIGGDDDDVDVPPFMRR\n",
    ">sp|Q48327|FTSZ1_HALVD Cell division protein FtsZ 1 OS=Haloferax volcanii (strain ATCC 29605 / DSM 3757 / JCM 8879 / NBRC 14742 / NCIMB 2012 / VKM B-1768 / DS2) OX=309800 GN=ftsZ1 PE=1 SV=2\n",
    "MDSIVGDAIDEAEAEDMGDESAQVDGAANINRSGTMTDDELKAVLKDLQTNITVVGCGGA\n",
    "GGNTVNRMHEEGIKGAKLVAANTDVQHLVEIGADTKILMGEQKTQGRGAGSLPQVGEEAA\n",
    "LESQEEIYDAIEGSDMVFVTAGLGGGTGTGSAPVVAKAARESGALTIAIVTTPFTAEGEV\n",
    "RRTNAEAGLERLRDVSDTVIVVPNDRLLDAVGKLPVRQAFKVSDEVLMRSVKGITELITK\n",
    "PGLVNLDFADVKTVMERGGVAMIGLGESDSESKAQESVKSALRSPLLDVDISGANSALVN\n",
    "VTGGSDMSIEEAEGVVEEIYDRIDPDARIIWGTSVDDELEGMMRTMIVVTGVESPQIYGR\n",
    "NGEAQAHAEERLEDIDYVE\n",
    ">sp|P73456|FTSZ_SYNY3 Cell division protein FtsZ OS=Synechocystis sp. (strain ATCC 27184 / PCC 6803 / Kazusa) OX=1111708 GN=ftsZ PE=1 SV=1\n",
    "MTLNNDLPLNNIGFTGSGLNDGTEGLDDLFSSSIVDNEPLEALVETPTFASPSPNLKRDQ\n",
    "IVPSNIAKIKVIGVGGGGCNAVNRMIASGVTGIDFWAINTDSQALTNTNAPDCIQIGQKL\n",
    "TRGLGAGGNPAIGQKAAEESRDEIARSLEGTDLVFITAGMGGGTGTGAAPIVAEVAKEMG\n",
    "CLTVGIVTRPFTFEGRRRAKQAEEGINALQSRVDTLIVIPNNQLLSVIPAETPLQEAFRV\n",
    "ADDILRQGVQGISDIIIIPGLVNVDFADVRAVMADAGSALMGIGVGSGKSRAKEAATAAI\n",
    "SSPLLESSIQGAKGVVFNVTGGTDLTLHEVNVAAEIIYEVVDADANIIFGAVIDDRLQGE\n",
    "MRITVIATGFNGEKEKPQAKTSSKPVLSGPPAGVETVPSTTTPEDPLGEIPMAPELDIPD\n",
    "FLQKRRFPRR\n"
   ]
  },
  {
   "cell_type": "code",
   "execution_count": null,
   "id": "wQXuK2U9l-gl",
   "metadata": {
    "id": "wQXuK2U9l-gl"
   },
   "outputs": [],
   "source": [
    "# Assuming your FASTA file is named \"input.fasta\"\n",
    "!clustalo -i input.fasta -o output.fasta --force\n",
    "\n",
    "from pymsaviz import MsaViz\n",
    "\n",
    "msa_file = \"output.fasta\"\n",
    "mv = MsaViz(msa_file, wrap_length=60, show_count=True)\n",
    "\n",
    "# Extract MSA positions less than 50% consensus identity\n",
    "# Extract MSA positions with 50% or greater consensus identity\n",
    "high_identity_positions = []\n",
    "consensus_identity_list = mv._get_consensus_identity_list()\n",
    "for position, identity in enumerate(consensus_identity_list, 1):\n",
    "    if identity >= 90:\n",
    "        high_identity_positions.append(position)\n",
    "mv.add_markers(high_identity_positions, marker=\"x\", color=\"blue\")\n",
    "\n",
    "\n",
    "# Customize the output https://github.com/moshi4/pyMSAviz?tab=readme-ov-file#api-usage\n",
    "# # Add markers\n",
    "# mv.add_markers([1])\n",
    "# mv.add_markers([10, 20], color=\"orange\", marker=\"o\")\n",
    "# mv.add_markers([30, (40, 50), 55], color=\"green\", marker=\"+\")\n",
    "\n",
    "\n",
    "# # Add text annotations\n",
    "# mv.add_text_annotation((76, 102), \"Gap Region\", text_color=\"red\", range_color=\"red\")\n",
    "# mv.add_text_annotation((112, 123), \"Gap Region\", text_color=\"green\", range_color=\"green\")\n",
    "\n",
    "\n",
    "mv.savefig(\"output.png\")\n",
    "mv.plotfig()"
   ]
  },
  {
   "cell_type": "markdown",
   "id": "d3cfbad639a217f6",
   "metadata": {
    "collapsed": false,
    "id": "d3cfbad639a217f6"
   },
   "source": [
    "Happy modeling!"
   ]
  }
 ],
 "metadata": {
  "accelerator": "GPU",
  "colab": {
   "gpuType": "T4",
   "provenance": [],
   "toc_visible": true
  },
  "kernelspec": {
   "display_name": "Python 3",
   "name": "python3"
  },
  "language_info": {
   "codemirror_mode": {
    "name": "ipython",
    "version": 3
   },
   "file_extension": ".py",
   "mimetype": "text/x-python",
   "name": "python",
   "nbconvert_exporter": "python",
   "pygments_lexer": "ipython3",
   "version": "3.11.5"
  }
 },
 "nbformat": 4,
 "nbformat_minor": 5
}
