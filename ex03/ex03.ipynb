{
 "cells": [
  {
   "cell_type": "markdown",
   "metadata": {},
   "source": [
    "# Exercise 03\n",
    "\n",
    "## Aim of the exercise:\n",
    "\n",
    "We will learn to:\n",
    "\n",
    "- use OpenMM to simulate a protein in water\n",
    "- understand the steps for setting up a simulation\n",
    "\n",
    "This exercise is based on the official tutorials of [OpenMM](https://github.com/openmm/openmm_workshop_july2023) and [MDAnalysis](https://userguide.mdanalysis.org/stable/examples/quickstart.html)."
   ]
  },
  {
   "cell_type": "markdown",
   "metadata": {},
   "source": [
    "<img src=\"openmm_logo.png\" width=\"50\"/>\n",
    "\n",
    "# OpenMM\n",
    "\n",
    "OpenMM is a versatile and high-performance toolkit designed for molecular simulation. It stands out due to its unique blend of features, which include extreme flexibility, openness, and exceptional performance, particularly on modern GPUs.\n",
    "\n",
    "Summary of Contents:\n",
    "1. **Setup Conda Environment**: Instructions on preparing the necessary computational environment using Conda.\n",
    "2. **Download Protein File**: Steps to obtain the required protein structure file.\n",
    "3. **Load a PDB File into OpenMM**: Tutorial on how to import and use a PDB file within OpenMM.\n",
    "4. **Choose the Force-Field**: Guidance on selecting appropriate force-fields for the simulation.\n",
    "5. **Solvate the Protein with Water and Ions**: Process of adding water and ions to the protein environment.\n",
    "6. **Setup System and Integrator**: Instructions on initializing the simulation system and integrator.\n",
    "7. **Run Local Minimization**: Steps for performing local energy minimization of the system.\n",
    "8. **Setup Reporting**: How to configure reporting tools for monitoring simulation progress.\n",
    "9. **Run NVT Equilibration**: Conducting NVT (constant Number, Volume, Temperature) equilibration simulations.\n",
    "10. **Run NPT Production Molecular Dynamics**: Executing NPT (constant Number, Pressure, Temperature) production simulations.\n",
    "11. **Basic Analysis**: Introduction to fundamental analysis techniques for simulation data.\n",
    "12. **How to Use Checkpoints**: Instructions on setting up and utilizing checkpoints for long-term simulations.\n",
    "13. **Visualization**: Tips and tools for visualizing the simulation results.\n",
    "\n"
   ]
  },
  {
   "cell_type": "markdown",
   "metadata": {
    "id": "TUXynx95heyP"
   },
   "source": [
    "## Setup\n",
    "**First try and change runtime type to GPU!**  \n",
    "Click \"runtime\">\"change runtime type\" and select \"GPU\" from the \"Hardware accelerator\" dropdown menu.\n",
    "CPU works, but it is slower.\n"
   ]
  },
  {
   "cell_type": "code",
   "execution_count": null,
   "metadata": {
    "id": "mD8aoBG3heyP"
   },
   "outputs": [],
   "source": [
    "if \"google.colab\" in str(get_ipython()):\n",
    "    print(\"Running on colab\")\n",
    "    !pip install -q condacolab\n",
    "    import condacolab\n",
    "\n",
    "    condacolab.install_mambaforge()\n",
    "    !mamba install -y -c conda-forge openmm==8.2.0\n",
    "\n",
    "else:\n",
    "    print(\"Not running on colab.\")\n",
    "    print(\"Make sure you create and activate a new conda environment!\")"
   ]
  },
  {
   "cell_type": "markdown",
   "metadata": {},
   "source": [
    "**Note:** During this step on Colab the kernel will be restarted. This will produce the error message:\n",
    "\"Your session crashed for an unknown reason. \" This is normal and you can safely ignore it.\n",
    "\n",
    "**Note:** Installing the packages will take several minutes!"
   ]
  },
  {
   "cell_type": "code",
   "execution_count": null,
   "metadata": {},
   "outputs": [],
   "source": [
    "# check the installation\n",
    "!python -m openmm.testInstallation"
   ]
  },
  {
   "cell_type": "markdown",
   "metadata": {
    "id": "mOLccFBeheyQ"
   },
   "source": [
    "## Protein to Study: Villin headpiece\n",
    "\n",
    "\n",
    "Villin is a popular protein for molecular dynamics studies, and several papers on its folding have been published. Additionally, it has been found that the proximity of three phenylalanines that comprise the hydrophobic core is important for the correct structure.\n",
    "\n",
    "This is small fast folding protein commonly used as a toy system. Note that this PDB file has been cleaned up and is ready for use in OpenMM. If you try and use a PDB file directly from the protein data bank you may encounter errors. Please look at the [OpenMM FAQs](https://github.com/openmm/openmm/wiki/Frequently-Asked-Questions) and [PDBfixer](https://github.com/openmm/pdbfixer).\n",
    "\n",
    "![villin](./villin.png)\n",
    "**Figure**. Villin headpiece protein.\n"
   ]
  },
  {
   "cell_type": "code",
   "execution_count": null,
   "metadata": {},
   "outputs": [],
   "source": [
    "if \"google.colab\" in str(get_ipython()):\n",
    "    print(\"Running on colab\")\n",
    "    !wget https://raw.githubusercontent.com/yerkoescalona/structural_bioinformatics/main/ex03/villin.pdb\n",
    "else:\n",
    "    print(\"Not running on colab.\")\n",
    "    print(\"You should have villin.pdb in your path!\")"
   ]
  },
  {
   "cell_type": "markdown",
   "metadata": {
    "id": "fmRKRiDLheyR"
   },
   "source": [
    "## Load the PDB file into OpenMM\n",
    "<a id=\"load\"></a>\n",
    "\n",
    "First we need to import OpenMM.\n",
    "We then then load in the PDB file using the [PDBFile](http://docs.openmm.org/latest/api-python/generated/openmm.app.pdbfile.PDBFile.html#openmm.app.pdbfile.PDBFile) class."
   ]
  },
  {
   "cell_type": "code",
   "execution_count": null,
   "metadata": {
    "id": "Qz92cI6dheyR"
   },
   "outputs": [],
   "source": [
    "from openmm.app import (\n",
    "    ForceField,\n",
    "    Modeller,\n",
    "    HBonds,\n",
    "    Simulation,\n",
    "    DCDReporter,\n",
    "    StateDataReporter,\n",
    "    PME,\n",
    "    PDBFile,\n",
    "    CheckpointReporter,\n",
    ")\n",
    "from openmm import LangevinMiddleIntegrator, MonteCarloBarostat, XmlSerializer\n",
    "from openmm.unit import kelvin, nanometer, picosecond, picoseconds, bar, seconds\n",
    "from sys import stdout\n",
    "\n",
    "# load in the pdb file\n",
    "pdb = PDBFile(\"villin.pdb\")"
   ]
  },
  {
   "cell_type": "markdown",
   "metadata": {},
   "source": [
    "`PDBFile('file_name.pdb')` loads the PDB file from disk and puts the information into a `PDBFile` object which we have assign to the variable `pdb`. The object contains the molecular topology (atom names, residue types, bonds etc) and the atomic positions. These can be accessed as `pdb.topology` and `pdb.positions`. Take a look at the [API documentation](http://docs.openmm.org/latest/api-python/generated/openmm.app.pdbfile.PDBFile.html#openmm.app.pdbfile.PDBFile). All OpenMM classes have documentation available on the Python API reference: http://docs.openmm.org/latest/api-python/."
   ]
  },
  {
   "cell_type": "markdown",
   "metadata": {
    "id": "Ww5gjnUiheyR"
   },
   "source": [
    "## Define the force field\n",
    "<a id=\"ff\"></a>\n",
    "\n",
    "We need to define the forcefield we want to use. We will use the Amber14 forcefield and the TIP3P-FB water model. You can find out about all the forcefields available by default in OpenMM in the [documentation](http://docs.openmm.org/latest/userguide/application/02_running_sims.html?highlight=forcefield#force-fields)."
   ]
  },
  {
   "cell_type": "code",
   "execution_count": null,
   "metadata": {
    "id": "Gbv1xLdpheyR"
   },
   "outputs": [],
   "source": [
    "# Specify the forcefield\n",
    "forcefield = ForceField(\"amber14-all.xml\", \"amber14/tip3pfb.xml\")"
   ]
  },
  {
   "cell_type": "markdown",
   "metadata": {},
   "source": [
    "Force fields are defined by XML files. The line above loads in specified files. You can look at them in the OpenMM source code, e.g. [`amber14/tip3pfb.xml`](https://github.com/openmm/openmm/blob/master/wrappers/python/openmm/app/data/amber14/tip3pfb.xml). It is possible to create your own XML force field file. You can find details in the [user guide](http://docs.openmm.org/latest/userguide/application/05_creating_ffs.html#creating-force-fields)."
   ]
  },
  {
   "cell_type": "markdown",
   "metadata": {
    "id": "9ZNOQY8jheyR"
   },
   "source": [
    "## Solvate\n",
    "<a id=\"solvate\"></a>\n",
    "\n",
    "We can use the [`Modeller`](http://docs.openmm.org/latest/userguide/application/03_model_building_editing.html#model-building-and-editing) class to solvate the protein in a waterbox. "
   ]
  },
  {
   "cell_type": "code",
   "execution_count": null,
   "metadata": {
    "id": "CVxXXCzoheyR"
   },
   "outputs": [],
   "source": [
    "# create a Modeller object\n",
    "modeller = Modeller(pdb.topology, pdb.positions)\n",
    "\n",
    "\n",
    "# Solvate the protein in a box of water\n",
    "modeller.addSolvent(forcefield, padding=1.0 * nanometer)"
   ]
  },
  {
   "cell_type": "markdown",
   "metadata": {
    "id": "3pJIJqvsheyR"
   },
   "source": [
    "This command creates a box that has edges at least 1nm away from the solute and fills it with water molecules. Additionally, it adds in the required number of CL- and Na+ ions to make the system charge neutral. Optionally, you can specify the ion concentration as an argument to [`addSolvent`](http://docs.openmm.org/latest/api-python/generated/openmm.app.modeller.Modeller.html#openmm.app.modeller.Modeller.addSolvent). \n",
    "\n",
    "Note that the `nanometer` variable is a unit definition that was imported from `openmm.unit`. This is an example of the powerful units tracking and automatic conversion facility built into the OpenMM Python API that makes specifying unit-bearing quantities convenient and less error-prone. We could have equivalently specified `10*angstrom` instead of `1*nanometer` and achieved the same result. You can read more about the units library [here](http://docs.openmm.org/latest/userguide/library/05_languages_not_cpp.html#units-and-dimensional-analysis)."
   ]
  },
  {
   "cell_type": "markdown",
   "metadata": {},
   "source": [
    "\n",
    "## Setup system and Integrator\n",
    "<a id='system'></a>\n",
    "\n",
    "We now need to combine our molecular topology and the forcefield to create a complete description of the system. This is done using the [`ForceField`](http://docs.openmm.org/latest/api-python/generated/openmm.app.forcefield.ForceField.html#forcefield) object’s [`createSystem()`](http://docs.openmm.org/latest/api-python/generated/openmm.app.forcefield.ForceField.html#openmm.app.forcefield.ForceField.createSystem) method. We then create the integrator, and combine the integrator and system to create the Simulation object. Finally we set the initial atomic positions."
   ]
  },
  {
   "cell_type": "code",
   "execution_count": null,
   "metadata": {
    "id": "PlyqnotRheyR"
   },
   "outputs": [],
   "source": [
    "# Create a system. Here we define some forcefield settings such as the nonbonded method\n",
    "system = forcefield.createSystem(\n",
    "    modeller.topology,\n",
    "    nonbondedMethod=PME,\n",
    "    nonbondedCutoff=1.0 * nanometer,\n",
    "    constraints=HBonds,\n",
    ")\n",
    "\n",
    "# Define the integrator. The Langevin integrator is also a thermostat\n",
    "integrator = LangevinMiddleIntegrator(300 * kelvin, 1 / picosecond, 0.004 * picoseconds)\n",
    "\n",
    "# Create the Simulation\n",
    "simulation = Simulation(modeller.topology, system, integrator)\n",
    "simulation.context.setPositions(modeller.positions)"
   ]
  },
  {
   "cell_type": "markdown",
   "metadata": {},
   "source": [
    "The [System](http://docs.openmm.org/latest/api-python/generated/openmm.openmm.System.html#system) is an object than contains the complete mathematical description of the system we want to simulate. It contains four key bits of information:\n",
    " - The set of particles in the simulation\n",
    " - The forces acting on them\n",
    " - Details of any constraints\n",
    " - The dimensions of the periodic box\n",
    "\n",
    "The `integrator` advances the equations of motion. There are a variety of [integrators available in OpenMM](http://docs.openmm.org/latest/api-python/library.html#integrators). We are using the [LangevinMiddleIntegrator](http://docs.openmm.org/latest/api-python/generated/openmm.openmm.LangevinMiddleIntegrator.html#openmm.openmm.LangevinMiddleIntegrator) which performs Langevin dynamics.\n",
    "\n",
    "The [`Simulation`](http://docs.openmm.org/latest/api-python/generated/openmm.app.simulation.Simulation.html#openmm.app.simulation.Simulation) object manages all the process involved in running a simulation, such as advancing time and writing output. \n"
   ]
  },
  {
   "cell_type": "markdown",
   "metadata": {
    "id": "QFmwHMqhheyR"
   },
   "source": [
    "## Local energy minimization\n",
    "<a id=\"minim\"></a>\n",
    "\n",
    "It is a good idea to run local energy minimization at the start of a simulation because the coordinates in starting configuration file might produce very large forces. \n",
    "\n",
    "Due to how the minimizer is implemented it will not print out information during the run. You will need to be patient and wait for it to complete. This minimization step should take ~1 minute on CPU and a few seconds on GPU."
   ]
  },
  {
   "cell_type": "code",
   "execution_count": null,
   "metadata": {
    "id": "8XngRzXUheyS"
   },
   "outputs": [],
   "source": [
    "print(\"Minimizing energy\")\n",
    "simulation.minimizeEnergy()"
   ]
  },
  {
   "cell_type": "markdown",
   "metadata": {
    "id": "_oEETniPheyS"
   },
   "source": [
    "## Setup reporting\n",
    "<a id=\"reporting\"></a>\n",
    "\n",
    "To get output from a simulation you need to add \"reporters\". We use [`DCDReporter`](http://docs.openmm.org/latest/api-python/generated/openmm.app.dcdreporter.DCDReporter.html) to write the coordinates every 1000 timesteps to 'traj.dcd' and we use [`StateDataReporter`](http://docs.openmm.org/development/api-python/generated/openmm.app.statedatareporter.StateDataReporter.html) to print the timestep, potential energy, temperature, and volume to the screen; and the same to a file called 'md_log.txt'. The Simulation object contains a list of reporters in `simulation.reporters` and we use the append method to add the reporters to it."
   ]
  },
  {
   "cell_type": "code",
   "execution_count": null,
   "metadata": {
    "id": "mbG1iFPEheyS"
   },
   "outputs": [],
   "source": [
    "# Write trajectory to a file called traj.dcd every 1000 steps\n",
    "simulation.reporters.append(DCDReporter(\"traj.dcd\", 1000))\n",
    "\n",
    "# Print state information to the screen every 1000 steps\n",
    "simulation.reporters.append(\n",
    "    StateDataReporter(\n",
    "        stdout, 1000, step=True, potentialEnergy=True, temperature=True, volume=True\n",
    "    )\n",
    ")\n",
    "\n",
    "# Print the same info to a log file every 100 steps\n",
    "simulation.reporters.append(\n",
    "    StateDataReporter(\n",
    "        \"md_log.txt\",\n",
    "        100,\n",
    "        step=True,\n",
    "        potentialEnergy=True,\n",
    "        temperature=True,\n",
    "        volume=True,\n",
    "    )\n",
    ")\n"
   ]
  },
  {
   "cell_type": "markdown",
   "metadata": {
    "id": "dL4ykymVheyS"
   },
   "source": [
    "## NVT equilibration\n",
    "<a id=nvt></a>\n",
    "\n",
    "We are using a Langevin integrator which means we are simulating in the NVT ensemble. To equilibrate the temperature we just need to run the simulation for a number of timesteps."
   ]
  },
  {
   "cell_type": "code",
   "execution_count": null,
   "metadata": {
    "id": "d0LsqNQUheyS"
   },
   "outputs": [],
   "source": [
    "print(\"Running NVT\")\n",
    "simulation.step(10000)"
   ]
  },
  {
   "cell_type": "markdown",
   "metadata": {
    "id": "8QLi5oWCheyS"
   },
   "source": [
    "## NPT production MD\n",
    "<a id=npt></a>\n",
    "\n",
    "To run our simulation in the NPT ensemble we need to add in a barostat to control the pressure. We can use [`MonteCarloBarostat`](http://docs.openmm.org/latest/api-python/generated/openmm.openmm.MonteCarloBarostat.html#openmm.openmm.MonteCarloBarostat). The parameters are the pressure (1 bar) and the temperature (300 K). The barostat assumes the simulation is being run at constant temperature, but it does not itself do anything to regulate the temperature. It is therefore critical that you always use it along with a Langevin integrator or Andersen thermostat, and that you specify the same temperature for both the barostat and the integrator or thermostat. Otherwise, you will get incorrect results."
   ]
  },
  {
   "cell_type": "code",
   "execution_count": null,
   "metadata": {
    "id": "A66nwWBTheyS"
   },
   "outputs": [],
   "source": [
    "system.addForce(MonteCarloBarostat(1 * bar, 300 * kelvin))\n",
    "\n",
    "# It is important to call the reinitialize method on the simulation\n",
    "# otherwise the modifications will not be applied.\n",
    "simulation.context.reinitialize(preserveState=True)"
   ]
  },
  {
   "cell_type": "markdown",
   "metadata": {},
   "source": [
    "We then run the simulation for 10000 steps."
   ]
  },
  {
   "cell_type": "code",
   "execution_count": null,
   "metadata": {},
   "outputs": [],
   "source": [
    "print(\"Running NPT\")\n",
    "simulation.step(10000)"
   ]
  },
  {
   "cell_type": "markdown",
   "metadata": {
    "id": "nrzBoLSnheyS"
   },
   "source": [
    "## Analysis\n",
    "<a id=analysis></a>\n",
    "\n",
    "We can now do some basic analysis using Python. We will plot the time evolution of the potential energy, temperature, and box volume. Remember that OpenMM itself is primarily an MD engine, for in-depth analysis of your simulations you can use other python packages such as [MDtraj](https://www.mdtraj.org/), or [MDAnalysis](https://www.mdanalysis.org/).\n"
   ]
  },
  {
   "cell_type": "code",
   "execution_count": null,
   "metadata": {
    "id": "Co3JDaJDheyS"
   },
   "outputs": [],
   "source": [
    "import pandas as pd\n",
    "import matplotlib.pyplot as plt\n",
    "\n",
    "md_log_df = pd.read_csv(\"md_log.txt\", delimiter=\",\", header=0)\n",
    "md_log_df.rename(columns={'#\"Step\"': \"Step\"}, inplace=True)\n",
    "\n",
    "fig, ax = plt.subplots(figsize=(12, 8), nrows=3, sharex=True)\n",
    "md_log_df.plot(x=\"Step\", y=\"Potential Energy (kJ/mole)\", ax=ax[0])\n",
    "md_log_df.plot(x=\"Step\", y=\"Temperature (K)\", ax=ax[1])\n",
    "md_log_df.plot(x=\"Step\", y=\"Box Volume (nm^3)\", ax=ax[2])\n",
    "plt.show()"
   ]
  },
  {
   "cell_type": "markdown",
   "metadata": {
    "id": "My7Z10-QheyS"
   },
   "source": [
    "## Checkpointing\n",
    "<a id=checkpoints></a>\n",
    "\n",
    "When you run long simulations it is useful to be able to save checkpoints. This means you can restart them in the case of a crash. Or it means you can resume them if you need to fit within the time constraints of a HPC job scheduler.\n",
    "\n",
    "To run a resume a simulation we need to have three files saved to disk that we can load in:\n",
    "1. The topology - this will be a PDB file of our solvated system.\n",
    "2. A serialized `System` -  this is an xml file that contains the forcefield settings.\n",
    "3. A checkpoint file - this is a binary file that contains the positions, velocities, box vectors, and other internal data such as the states of random number generators.\n",
    "\n",
    "The first two only need to be saved once because they are constant throughout the simulation. The checkpoint file needs to be saved frequently. You can then resume a simulation from the timestep when the checkpoint file was last saved.\n",
    "\n",
    "\n",
    "### Setup the checkpoint\n",
    "\n",
    "We will create the topology file using `PDBFile` to write a PDB file of the system. We will use `XmlSerializer` of save the serialized system to an xml file. And we will use `CheckpointReporter` to regularly create checkpoint files."
   ]
  },
  {
   "cell_type": "code",
   "execution_count": null,
   "metadata": {
    "id": "imxKHC32heyS"
   },
   "outputs": [],
   "source": [
    "# Save the toplogy as a PDB file.\n",
    "with open(\"topology.pdb\", \"w\") as output:\n",
    "    PDBFile.writeFile(\n",
    "        simulation.topology,\n",
    "        simulation.context.getState(getPositions=True).getPositions(),\n",
    "        output,\n",
    "    )\n",
    "\n",
    "# save a serialized version of the system. This stores the forcefield parameters.\n",
    "with open(\"system.xml\", \"w\") as output:\n",
    "    output.write(XmlSerializer.serialize(system))\n",
    "\n",
    "# Setup a checkpoint reporter. This stores the positions, velocities, and box vectors. It will save\n",
    "# a checkpoint every 1000 timesteps.\n",
    "simulation.reporters.append(CheckpointReporter(\"checkpoint.chk\", 1000))\n"
   ]
  },
  {
   "cell_type": "markdown",
   "metadata": {},
   "source": [
    "`CheckpointReporter` saves periodic checkpoints of a simulation. The checkpoints will overwrite one another - only the last checkpoint will be saved in the file. Loading a checkpoint will restore a simulation to a reasonably close, but usually not identical, state to when it was written. The checkpoint contains data that is highly specific to the System, Platform, and the hardware and software of the computer it was created on. If you try and load it on a computer with different hardware it is likely to fail. Checkpoints created with different versions of OpenMM are often incompatible. \n",
    "\n",
    "For a more portable way of saving the state of a simulation you can save the checkpoint as an xml state file. Read the [API docs](http://docs.openmm.org/development/api-python/generated/openmm.app.checkpointreporter.CheckpointReporter.html) for more information."
   ]
  },
  {
   "cell_type": "markdown",
   "metadata": {
    "id": "LbSN1vjdheyS"
   },
   "source": [
    "### Running for a set time limit\n",
    "\n",
    "We can run for a set amount of wall-clock time using the [`runForClockTime`](http://docs.openmm.org/latest/api-python/generated/openmm.app.simulation.Simulation.html#openmm.app.simulation.Simulation.runForClockTime) method. By [wall-clock](https://en.wikipedia.org/wiki/Elapsed_real_time) time we mean the actual time a program runs for as measured by looking at a clock on a wall (or a watch, or a timer etc) as opposed to the simulated time.\n"
   ]
  },
  {
   "cell_type": "code",
   "execution_count": null,
   "metadata": {},
   "outputs": [],
   "source": [
    "# run for 30 seconds\n",
    "simulation.runForClockTime(30.0 * seconds)"
   ]
  },
  {
   "cell_type": "markdown",
   "metadata": {
    "id": "sVyOa336heyS"
   },
   "source": [
    "### Resume from a checkpoint\n",
    "\n",
    "We now have the required files 'topology.pdb', 'system.xml', and 'checkpoint.chk'. We will need to load them in so we can resume the simulation from the last checkpoint. Note that we have to define the integrator again as well as the simulation reporters. Furthermore, we have set the `append=True` flag to the DCD and StateData reporters.\n",
    "\n",
    "You will need to add a line of code to make the simulation run for 30 seconds of wall time."
   ]
  },
  {
   "cell_type": "code",
   "execution_count": null,
   "metadata": {
    "id": "DgAu-mflheyS"
   },
   "outputs": [],
   "source": [
    "pdb = PDBFile(\"topology.pdb\")\n",
    "\n",
    "with open(\"system.xml\") as input:\n",
    "    system = XmlSerializer.deserialize(input.read())\n",
    "\n",
    "# Define the integrator.\n",
    "integrator = LangevinMiddleIntegrator(300 * kelvin, 1 / picosecond, 0.004 * picoseconds)\n",
    "\n",
    "# Create the Simulation\n",
    "simulation = Simulation(pdb.topology, system, integrator)\n",
    "\n",
    "# set the positions, velocities, and box vectors from the checkpoint file\n",
    "simulation.loadCheckpoint(\"checkpoint.chk\")\n",
    "\n",
    "# We still need to define the reporters again\n",
    "\n",
    "# Write trajectory to a file called traj.dcd every 1000 steps\n",
    "simulation.reporters.append(DCDReporter(\"traj.dcd\", 1000, append=True))\n",
    "\n",
    "# Print state information to the screen every 1000 steps\n",
    "simulation.reporters.append(\n",
    "    StateDataReporter(\n",
    "        stdout, 1000, step=True, potentialEnergy=True, temperature=True, volume=True\n",
    "    )\n",
    ")\n",
    "\n",
    "# Print the same info to a log file every 100 steps\n",
    "simulation.reporters.append(\n",
    "    StateDataReporter(\n",
    "        \"md_log.txt\",\n",
    "        100,\n",
    "        step=True,\n",
    "        potentialEnergy=True,\n",
    "        temperature=True,\n",
    "        volume=True,\n",
    "        append=True,\n",
    "    )\n",
    ")\n",
    "\n",
    "\n",
    "# Setup a checkpoint reporter. This stores the positions, velocities, and box vectors.\n",
    "simulation.reporters.append(CheckpointReporter(\"checkpoint.chk\", 1000))\n",
    "\n",
    "\n",
    "# write the code to run for 30 seconds of wall clock time\n",
    "simulation.runForClockTime(30.0 * seconds)\n"
   ]
  },
  {
   "cell_type": "markdown",
   "metadata": {
    "id": "H1WMB3XLheyS"
   },
   "source": [
    "### Resume multiple times\n",
    "\n",
    "We can practice resuming multiple times. This is something you might have to do to fit a long simulation within the limits of a HPC job scheduler.\n",
    "\n",
    "You will need to add the code to create the `Simulation` object."
   ]
  },
  {
   "cell_type": "code",
   "execution_count": null,
   "metadata": {
    "id": "RW2SPj2XheyS"
   },
   "outputs": [],
   "source": [
    "for i in range(3):\n",
    "    print(\"Resuming from checkpoint iteration = \", i)\n",
    "\n",
    "    pdb = PDBFile(\"topology.pdb\")\n",
    "\n",
    "    with open(\"system.xml\") as input:\n",
    "        system = XmlSerializer.deserialize(input.read())\n",
    "\n",
    "    # Define the integrator.\n",
    "    integrator = LangevinMiddleIntegrator(\n",
    "        300 * kelvin, 1 / picosecond, 0.004 * picoseconds\n",
    "    )\n",
    "\n",
    "    # Create the Simulation\n",
    "    # write the code to create the simulation object\n",
    "    simulation = Simulation(pdb.topology, system, integrator)\n",
    "\n",
    "    # set the positions, velocities, and box vectors from the checkpoint file\n",
    "    simulation.loadCheckpoint(\"checkpoint.chk\")\n",
    "\n",
    "    # We still need to define the reporters again\n",
    "\n",
    "    # Write trajectory to a file called traj.dcd every 1000 steps\n",
    "    simulation.reporters.append(DCDReporter(\"traj.dcd\", 1000, append=True))\n",
    "\n",
    "    # Print state information to the screen every 1000 steps\n",
    "    simulation.reporters.append(\n",
    "        StateDataReporter(\n",
    "            stdout, 1000, step=True, potentialEnergy=True, temperature=True, volume=True\n",
    "        )\n",
    "    )\n",
    "\n",
    "    # Print the same info to a log file every 100 steps\n",
    "    simulation.reporters.append(\n",
    "        StateDataReporter(\n",
    "            \"md_log.txt\",\n",
    "            100,\n",
    "            step=True,\n",
    "            potentialEnergy=True,\n",
    "            temperature=True,\n",
    "            volume=True,\n",
    "            append=True,\n",
    "        )\n",
    "    )\n",
    "\n",
    "    # Setup a checkpoint reporter. This stores the positions, velocities, and box vectors.\n",
    "    simulation.reporters.append(CheckpointReporter(\"checkpoint.chk\", 1000))\n",
    "\n",
    "    # run for 30 seconds\n",
    "    simulation.runForClockTime(30.0 * seconds)\n"
   ]
  },
  {
   "cell_type": "markdown",
   "metadata": {
    "id": "X6UXRboOheyT"
   },
   "source": [
    "### Analysis\n",
    "\n",
    "we can redo the analysis on the longer trajectory."
   ]
  },
  {
   "cell_type": "code",
   "execution_count": null,
   "metadata": {
    "id": "e2ft2bO2heyT"
   },
   "outputs": [],
   "source": [
    "import pandas as pd\n",
    "import matplotlib.pyplot as plt\n",
    "\n",
    "md_log_df = pd.read_csv(\"md_log.txt\", delimiter=\",\", header=0)\n",
    "md_log_df.rename(columns={'#\"Step\"': \"Step\"}, inplace=True)\n",
    "\n",
    "fig, ax = plt.subplots(figsize=(12, 8), nrows=3, sharex=True)\n",
    "md_log_df.plot(x=\"Step\", y=\"Potential Energy (kJ/mole)\", ax=ax[0])\n",
    "md_log_df.plot(x=\"Step\", y=\"Temperature (K)\", ax=ax[1])\n",
    "md_log_df.plot(x=\"Step\", y=\"Box Volume (nm^3)\", ax=ax[2])\n",
    "plt.show()"
   ]
  },
  {
   "cell_type": "markdown",
   "metadata": {
    "id": "KH4DdmhAheyT"
   },
   "source": [
    "## Visualization\n",
    "<a id=\"viz\"></a>\n",
    "\n",
    "We can use the `nglview` package to view the simulation structures and trajectories in the juyter notebook.\n",
    "\n",
    "For more serious visualization and rendering there a variety of programs available (https://en.wikipedia.org/wiki/List_of_molecular_graphics_systems). A couple of the most popular ones are:\n",
    "- [VMD](https://www.ks.uiuc.edu/Research/vmd/)\n",
    "- [PyMol](https://pymol.org/)\n",
    "\n",
    "**Note this does not currently work in Colab**"
   ]
  },
  {
   "cell_type": "code",
   "execution_count": null,
   "metadata": {},
   "outputs": [],
   "source": [
    "if \"google.colab\" in str(get_ipython()):\n",
    "    # https://github.com/googlecolab/colabtools/issues/3409\n",
    "    import locale\n",
    "\n",
    "    locale.getpreferredencoding = lambda: \"UTF-8\"\n",
    "    !mamba install -y -c conda-forge nglview mdtraj"
   ]
  },
  {
   "cell_type": "code",
   "execution_count": null,
   "metadata": {},
   "outputs": [],
   "source": [
    "import mdtraj\n",
    "import nglview\n",
    "\n",
    "traj = mdtraj.load(\"traj.dcd\", top=\"topology.pdb\")\n",
    "view = nglview.show_mdtraj(traj)\n",
    "view.add_representation(\"licorice\", selection=\"water\")\n",
    "view"
   ]
  },
  {
   "cell_type": "markdown",
   "metadata": {},
   "source": [
    "**Optional**\n",
    "1. Download the files \"topology.pdb\" and \"traj.dcd\" from Colab.\n",
    "2. Install [VMD](https://www.ks.uiuc.edu/Research/vmd/).\n",
    "3. Open \"topology.pdb\" with VMD or another program of your choice. In VMD you can then go \"file\">\"load data into molecule\" and select \"traj.dcd\"."
   ]
  },
  {
   "cell_type": "markdown",
   "metadata": {},
   "source": [
    "# MDAnalysis \n",
    "\n",
    "[MDAnalysis](https://www.mdanalysis.org/) is a Python library for analyzing molecular dynamics (MD) simulations. It supports various MD formats for reading and writing trajectories and atom selections. Key features include reading particle-based trajectories, accessing atomic coordinates via NumPy arrays, powerful atom selection commands, and the ability to manipulate and write out trajectories. This makes it a flexible and efficient tool for complex MD analysis tasks.\n"
   ]
  },
  {
   "cell_type": "code",
   "execution_count": null,
   "metadata": {},
   "outputs": [],
   "source": [
    "if \"google.colab\" in str(get_ipython()):\n",
    "    # https://github.com/googlecolab/colabtools/issues/3409\n",
    "    import locale\n",
    "\n",
    "    locale.getpreferredencoding = lambda: \"UTF-8\"\n",
    "    !mamba install -y -c conda-forge mdanalysis==2.7.0"
   ]
  },
  {
   "cell_type": "code",
   "execution_count": null,
   "metadata": {},
   "outputs": [],
   "source": [
    "import MDAnalysis as mda"
   ]
  },
  {
   "cell_type": "markdown",
   "metadata": {},
   "source": [
    "MDAnalysis is a Python package for accessing and analyzing molecular dynamics trajectory data. Its core data structures include:\n",
    "\n",
    "- **Atom**: Represents a particle, even if it's a coarse-grained bead.\n",
    "- **AtomGroup**: A crucial class where atoms are grouped. Most data can be accessed through AtomGroups.\n",
    "- **Universe**: Combines all particles in an AtomGroup with a trajectory, providing access to the entire molecular system.\n",
    "\n",
    "Working with MDAnalysis typically starts with loading data into a `Universe`."
   ]
  },
  {
   "cell_type": "code",
   "execution_count": null,
   "metadata": {},
   "outputs": [],
   "source": [
    "# loading a trajectory\n",
    "u = mda.Universe(\"topology.pdb\", \"traj.dcd\")\n",
    "u"
   ]
  },
  {
   "cell_type": "markdown",
   "metadata": {},
   "source": [
    "The trajectory of the simulation is saved in the `u.trajectory` attribute. It is an iterator that yields a `Timestep` object for each frame in the trajectory. The `Timestep` object contains the coordinates of all atoms in the simulation at a given time step. The `Timestep` object also contains the simulation box dimensions, the simulation time, and the simulation step."
   ]
  },
  {
   "cell_type": "code",
   "execution_count": null,
   "metadata": {},
   "outputs": [],
   "source": [
    "# Get the number of frames in the trajectory\n",
    "len(u.trajectory)"
   ]
  },
  {
   "cell_type": "markdown",
   "metadata": {},
   "source": [
    "Get the number of residues and atoms in the protein"
   ]
  },
  {
   "cell_type": "code",
   "execution_count": null,
   "metadata": {},
   "outputs": [],
   "source": [
    "u.residues, u.atoms"
   ]
  },
  {
   "cell_type": "markdown",
   "metadata": {},
   "source": [
    "MDAnalysis has powerful selection tools that allow you to select atoms based on their properties. For example:"
   ]
  },
  {
   "cell_type": "code",
   "execution_count": null,
   "metadata": {},
   "outputs": [],
   "source": [
    "# Select the first 5 residues of the protein\n",
    "print(u.select_atoms(\"resid 1:5\").residues)\n",
    "# Select the residues that are within 5 angstroms of the first residue\n",
    "print(u.select_atoms(\"around 5 resid 1\").residues)\n",
    "# Selec the PHE residues\n",
    "print(u.select_atoms(\"resname PHE\").residues)"
   ]
  },
  {
   "cell_type": "markdown",
   "metadata": {},
   "source": [
    "For the `Universe` object, water molecules are considered as residues. To select only the protein, you can use the `protein` keyword."
   ]
  },
  {
   "cell_type": "code",
   "execution_count": null,
   "metadata": {},
   "outputs": [],
   "source": [
    "# Select the protein\n",
    "protein = u.select_atoms(\"protein\")"
   ]
  },
  {
   "cell_type": "code",
   "execution_count": null,
   "metadata": {},
   "outputs": [],
   "source": [
    "type(protein)"
   ]
  },
  {
   "cell_type": "markdown",
   "metadata": {},
   "source": [
    "`AtomGroups` are the core data structure in MDAnalysis. You can get the positions of the atoms in an `AtomGroup` as a numpy array, as well as other properties such as the atom names, residue names, residue numbers, and residue IDs."
   ]
  },
  {
   "cell_type": "code",
   "execution_count": null,
   "metadata": {},
   "outputs": [],
   "source": [
    "protein.positions"
   ]
  },
  {
   "cell_type": "code",
   "execution_count": null,
   "metadata": {},
   "outputs": [],
   "source": [
    "print(\"Center of Mass:\", protein.center_of_mass())\n",
    "print(\"Center of Geometry:\", protein.center_of_geometry())\n",
    "print(\"Total Mass:\", protein.total_mass())\n",
    "print(\"Radius of Gyration:\", protein.radius_of_gyration())"
   ]
  },
  {
   "cell_type": "markdown",
   "metadata": {},
   "source": [
    "## Working with trajectories\n",
    "\n",
    "The trajectory of a Universe contains the changing coordinate information. \n",
    "The standard way to assess the information of each frame in a trajectory is to iterate over it. When the timestep changes, the universe only contains information associated with that timestep.\n",
    "\n"
   ]
  },
  {
   "cell_type": "code",
   "execution_count": null,
   "metadata": {},
   "outputs": [],
   "source": [
    "for ts in u.trajectory:\n",
    "    time = u.trajectory.time\n",
    "    rgyr = protein.radius_of_gyration()\n",
    "    print(f\"Frame: {ts.frame:3d}, Time: {time:4.0f} ps, Rgyr: {rgyr:.4f} A\")"
   ]
  },
  {
   "cell_type": "markdown",
   "metadata": {},
   "source": [
    "In order to collect the radius of gyration, we can iterate over the trajectory and store the information in a list.\n",
    "This can then be converted into other data structures, such as a numpy array or a pandas DataFrame. It can be plotted (as below), or used for further analysis."
   ]
  },
  {
   "cell_type": "code",
   "execution_count": null,
   "metadata": {},
   "outputs": [],
   "source": [
    "import pandas as pd\n",
    "\n",
    "rgyr = []\n",
    "time = []\n",
    "protein = u.select_atoms(\"protein\")\n",
    "for ts in u.trajectory:\n",
    "    time.append(u.trajectory.time)\n",
    "    rgyr.append(protein.radius_of_gyration())\n",
    "\n",
    "rgyr_df = pd.DataFrame(rgyr, columns=[\"Radius of gyration (A)\"], index=time)\n",
    "rgyr_df.index.name = \"Time (ps)\"\n",
    "rgyr_df"
   ]
  },
  {
   "cell_type": "code",
   "execution_count": null,
   "metadata": {},
   "outputs": [],
   "source": [
    "rgyr_df.plot(title=\"Radius of gyration\")\n",
    "plt.show()"
   ]
  },
  {
   "cell_type": "markdown",
   "metadata": {},
   "source": [
    "RMSD is a common metric for assessing the similarity of two structures."
   ]
  },
  {
   "cell_type": "code",
   "execution_count": null,
   "metadata": {},
   "outputs": [],
   "source": [
    "from MDAnalysis.analysis import rms\n",
    "\n",
    "bb = u.select_atoms(\"backbone\")\n",
    "\n",
    "u.trajectory[0]  # first frame\n",
    "first = bb.positions\n",
    "\n",
    "u.trajectory[-1]  # last frame\n",
    "last = bb.positions\n",
    "\n",
    "rms.rmsd(first, last)"
   ]
  },
  {
   "cell_type": "markdown",
   "metadata": {},
   "source": [
    "In the trajectory analysis, we can calculate the RMSD of each frame to the first frame."
   ]
  },
  {
   "cell_type": "code",
   "execution_count": null,
   "metadata": {},
   "outputs": [],
   "source": [
    "u.trajectory[0]  # set to first frame\n",
    "rmsd_analysis = rms.RMSD(u, select=\"backbone\", groupselections=[\"name CA\", \"protein\"])\n",
    "rmsd_analysis.run()"
   ]
  },
  {
   "cell_type": "code",
   "execution_count": null,
   "metadata": {},
   "outputs": [],
   "source": [
    "rmsd_analysis.results.rmsd.shape"
   ]
  },
  {
   "cell_type": "markdown",
   "metadata": {},
   "source": [
    "We can interpret this as an array with 30 rows and 5 columns. Each row is the RMSD associated with a frame in the trajectory. The columns are as follows:\n",
    "\n",
    "1. Frame number\n",
    "2. Time (ps)\n",
    "3. RMSD (backbone)\n",
    "4. RMSD (C-alpha)\n",
    "5. RMSD (protein)"
   ]
  },
  {
   "cell_type": "code",
   "execution_count": null,
   "metadata": {},
   "outputs": [],
   "source": [
    "import pandas as pd\n",
    "\n",
    "rmsd_df = pd.DataFrame(\n",
    "    rmsd_analysis.results.rmsd[:, 2:],\n",
    "    columns=[\"Backbone\", \"C-alphas\", \"Protein\"],\n",
    "    index=rmsd_analysis.results.rmsd[:, 1],\n",
    ")\n",
    "rmsd_df.index.name = \"Time (ps)\"\n",
    "rmsd_df.head()"
   ]
  },
  {
   "cell_type": "code",
   "execution_count": null,
   "metadata": {},
   "outputs": [],
   "source": [
    "rmsd_df.plot(title=\"RMSD\")\n",
    "plt.show()"
   ]
  },
  {
   "cell_type": "markdown",
   "metadata": {},
   "source": [
    "# Exercises\n",
    "\n",
    "1. Extend the simulation, running 3 more iterations (See `Resume multiple times` subsubsection).\n",
    "2. Use MDAnalysis to calculate the radius of gyration and RMSD of the protein for each frame in the trajectory. Plot the radius of gyration as a function of time.\n",
    "3. Plot the RMSD of the backbone and the Total Potential Energy of the simulation as a function of time (use subplots). Are they correlated? Why or why not?\n",
    "4. Use MDAnalysis to calculate the distances between sidechains of the three phenylalanines that comprise the hydrophobic core. Plot the distances as a function of time. Is the hydrophobic core stable? Why or why not?\n",
    "\n",
    "Hint: Use labels and legends in the plots to make them more readable.\n"
   ]
  },
  {
   "cell_type": "markdown",
   "metadata": {},
   "source": [
    "# For the project\n",
    "\n",
    "This could take plenty of time, so please, start early!.\n",
    "\n",
    "1. Use OpenMM to run a simulation of your protein of interest.\n",
    "2. Execute the simulation until observe a stable RMSD and Total Energy. In real life experiments, you will need to run the simulation for a long time.  \n",
    "3. Use MDAnalysis to analyze the trajectory. Calculate the RMSD of the backbone and the Total Energy of the simulation as a function of time.\n",
    "4. Compare the last snapshot of the trajectory with the initial structure and the one predicted by Alphafold. Are they similar? Why or why not?\n",
    "\n",
    "The first step could be complicated. Most of the PDBs contain errors, like missing atoms or residues.\n",
    "You need to fix your PDB before you can use it with OpenMM.\n",
    "You can use [PDBfixer](https://github.com/openmm/pdbfixer)."
   ]
  },
  {
   "cell_type": "code",
   "execution_count": null,
   "metadata": {},
   "outputs": [],
   "source": [
    "if \"google.colab\" in str(get_ipython()):\n",
    "    # https://github.com/googlecolab/colabtools/issues/3409\n",
    "    import locale\n",
    "\n",
    "    locale.getpreferredencoding = lambda: \"UTF-8\"\n",
    "    !mamba install -y -c conda-forge pdbfixer"
   ]
  },
  {
   "cell_type": "markdown",
   "metadata": {},
   "source": [
    "For example, to create the villin.pdb file used in this tutorial, you need to execute the following code:"
   ]
  },
  {
   "cell_type": "code",
   "execution_count": null,
   "metadata": {},
   "outputs": [],
   "source": [
    "!pdbfixer YOURPROTEIN.pdb"
   ]
  },
  {
   "cell_type": "markdown",
   "metadata": {},
   "source": [
    "You can also execute pdbfixer and it will pop up a web interface. "
   ]
  },
  {
   "cell_type": "code",
   "execution_count": null,
   "metadata": {},
   "outputs": [],
   "source": []
  }
 ],
 "metadata": {
  "accelerator": "GPU",
  "colab": {
   "gpuType": "T4",
   "provenance": []
  },
  "kernelspec": {
   "display_name": ".venv",
   "language": "python",
   "name": "python3"
  },
  "language_info": {
   "codemirror_mode": {
    "name": "ipython",
    "version": 3
   },
   "file_extension": ".py",
   "mimetype": "text/x-python",
   "name": "python",
   "nbconvert_exporter": "python",
   "pygments_lexer": "ipython3",
   "version": "3.10.15"
  }
 },
 "nbformat": 4,
 "nbformat_minor": 1
}
