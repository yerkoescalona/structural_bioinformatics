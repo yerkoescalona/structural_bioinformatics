{
 "cells": [
  {
   "cell_type": "markdown",
   "id": "9c76193b-c854-4e09-aaa4-7ae7ac8d886f",
   "metadata": {},
   "source": [
    "# Python Crash Course for Bio Data Scientists\n",
    "\n",
    "> **📋 LEGACY CODE NOTICE**  \n",
    "> This notebook is legacy code that was used as the foundation to create the new **Scientific Python Crash Course for Structural Bioinformatics** (`structural_bioinfo_crash_course.ipynb`). The new version is more focused on structural bioinformatics applications and uses modern interactive visualizations with Plotly.\n",
    "\n",
    "This crash course aims to help my students at FHWN. \n",
    "\n",
    "It is not meant to be a complete course but rather a quick introduction to the most important concepts.\n",
    "\n",
    "This crash course is based on \"Programming with Python\" from the University of Natural Resources and Life Sciences, Vienna (BOKU), written by Drazen Petrov and Yerko Escalona.\n"
   ]
  },
  {
   "cell_type": "code",
   "execution_count": 2,
   "id": "e4dd002af170d0b8",
   "metadata": {
    "ExecuteTime": {
     "end_time": "2023-10-23T21:24:18.103144559Z",
     "start_time": "2023-10-23T21:24:17.090689226Z"
    },
    "collapsed": false
   },
   "outputs": [],
   "source": [
    "# Check if running on Google Colab\n",
    "try:\n",
    "    from google.colab import drive  # type: ignore  # noqa: F401\n",
    "\n",
    "    is_google_colab = True\n",
    "except ImportError:\n",
    "    is_google_colab = False\n",
    "\n",
    "# If on Google Colab, install the package\n",
    "if is_google_colab:\n",
    "    %pip install numpy==2.0.2 scipy==1.16.1 pandas==2.2.2 matplotlib==3.10.0"
   ]
  },
  {
   "cell_type": "code",
   "execution_count": 3,
   "id": "286ba0c04f2485f6",
   "metadata": {
    "ExecuteTime": {
     "end_time": "2023-10-23T21:24:22.251201472Z",
     "start_time": "2023-10-23T21:24:17.090972518Z"
    },
    "collapsed": false
   },
   "outputs": [],
   "source": [
    "import numpy as np\n",
    "import pandas as pd\n",
    "import scipy\n",
    "import matplotlib.pyplot as plt"
   ]
  },
  {
   "cell_type": "code",
   "execution_count": 4,
   "id": "9b0e601b",
   "metadata": {},
   "outputs": [
    {
     "name": "stdout",
     "output_type": "stream",
     "text": [
      "Running on Google Colab: False\n",
      "numpy==2.0.2\n",
      "pandas==2.2.2\n",
      "scipy==1.16.1\n",
      "matplotlib==3.10.0\n"
     ]
    }
   ],
   "source": [
    "# Print versions of each library\n",
    "print(f\"Running on Google Colab: {is_google_colab}\")\n",
    "print(f\"numpy=={np.__version__}\")\n",
    "print(f\"pandas=={pd.__version__}\")\n",
    "print(f\"scipy=={scipy.__version__}\")\n",
    "print(f\"matplotlib=={plt.matplotlib.__version__}\")"
   ]
  },
  {
   "cell_type": "markdown",
   "id": "f856979c1667df22",
   "metadata": {
    "collapsed": false
   },
   "source": [
    "## Overview\n",
    "\n",
    "Let's talks about:\n",
    "\n",
    "- Numpy\n",
    "- Matplotlib\n",
    "- Scipy\n",
    "- Pandas"
   ]
  },
  {
   "cell_type": "markdown",
   "id": "0c9c66f5-b07b-4c7f-b034-194957a6586a",
   "metadata": {
    "slideshow": {
     "slide_type": "slide"
    }
   },
   "source": [
    "## Numpy \n",
    "\n",
    "[NumPy](https://numpy.org/) is the fundamental package for scientific computing with Python\n",
    "\n",
    "Python objects:\t\n",
    "- high-level number objects: integers, floating point\n",
    "- containers: lists (costless insertion and append), dictionaries (fast lookup)\n",
    "\n",
    "NumPy provides:\t\n",
    "- extension package to Python for multi-dimensional arrays\n",
    "- closer to hardware (efficiency)\n",
    "- designed for scientific computation (convenience)\n",
    "- Also known as array oriented computing\n"
   ]
  },
  {
   "cell_type": "markdown",
   "id": "71f55c6f-410c-4738-9530-b9aa161e55e7",
   "metadata": {
    "collapsed": false
   },
   "source": [
    "### Integration problem\n",
    "\n",
    "We will use the trapezoidal rule to calculate the integral of the following function:\n",
    "\n",
    "$$f(x) = 0.007x^3 + 0.01x^2 - 0.2x + 1$$\n",
    "\n",
    "see https://en.wikipedia.org/wiki/Trapezoidal_rule"
   ]
  },
  {
   "cell_type": "code",
   "execution_count": 5,
   "id": "ad743565-b839-4497-8b4f-354a979172d2",
   "metadata": {
    "ExecuteTime": {
     "end_time": "2023-10-23T21:24:22.264985198Z",
     "start_time": "2023-10-23T21:24:17.835020950Z"
    },
    "collapsed": false
   },
   "outputs": [
    {
     "data": {
      "text/html": [
       "<img src=\"https://upload.wikimedia.org/wikipedia/commons/1/10/WikiTrap.gif\"/>"
      ],
      "text/plain": [
       "<IPython.core.display.Image object>"
      ]
     },
     "execution_count": 5,
     "metadata": {},
     "output_type": "execute_result"
    }
   ],
   "source": [
    "from IPython.display import Image\n",
    "\n",
    "Image(url=\"https://upload.wikimedia.org/wikipedia/commons/1/10/WikiTrap.gif\")"
   ]
  },
  {
   "cell_type": "markdown",
   "id": "13407a99-2868-4e39-827b-7dfd0ebc02f3",
   "metadata": {
    "collapsed": false
   },
   "source": [
    "### Algorithm\n",
    "##### Idea:\n",
    "split the x range (that is of length N) into N-1 segments. for each segment, calculate the average of the y values and based on that, the area of the trapez defined by the x axis and the 2 points of the segment\n",
    "\n",
    "##### Algorithm:\n",
    "\n",
    "1. initialize a sum (integral) to 0 \n",
    "1. repeat: generate an index (i) that starts with 0 and increases by 1 until N-1\n",
    "    1. assign x1 = x[i]\n",
    "    1. assign x2 = x[i+1]\n",
    "    1. assign y1 = y[i]\n",
    "    1. assign y2 = y[i+1]\n",
    "    1. area = (x2 - x1) * (y1 + y2) / 2\n",
    "    1. add area to the sum\n",
    "\n"
   ]
  },
  {
   "cell_type": "code",
   "execution_count": 6,
   "id": "b93b8785-15ff-4f3c-8ff9-eaf95e258413",
   "metadata": {
    "ExecuteTime": {
     "end_time": "2023-10-23T21:24:22.265164267Z",
     "start_time": "2023-10-23T21:24:17.835325371Z"
    },
    "collapsed": false
   },
   "outputs": [],
   "source": [
    "# data generation\n",
    "def fnc(x):\n",
    "    \"\"\"Function to generate polynomial data.\"\"\"\n",
    "    return 0.007 * x * x * x + 0.01 * x * x - 0.2 * x + 1\n",
    "\n",
    "\n",
    "x = [(i - 500) / 2 for i in range(1000)]\n",
    "y = [fnc(i) for i in x]"
   ]
  },
  {
   "cell_type": "code",
   "execution_count": 7,
   "id": "ea77ca2f-4aeb-413c-a1cb-68bb43cb37c5",
   "metadata": {
    "ExecuteTime": {
     "end_time": "2023-10-23T21:24:22.265383398Z",
     "start_time": "2023-10-23T21:24:17.835524038Z"
    },
    "collapsed": false
   },
   "outputs": [
    {
     "name": "stdout",
     "output_type": "stream",
     "text": [
      "49855.70896874991\n",
      "CPU times: user 4.66 ms, sys: 0 ns, total: 4.66 ms\n",
      "Wall time: 4.59 ms\n"
     ]
    }
   ],
   "source": [
    "%%time\n",
    "# Python implementation\n",
    "integral_sum = 0\n",
    "for i in range(len(x) - 1):\n",
    "    x1 = x[i]\n",
    "    x2 = x[i + 1]\n",
    "    y1 = y[i]\n",
    "    y2 = y[i + 1]\n",
    "    area = (x2 - x1) * (y1 + y2) / 2\n",
    "    integral_sum += area\n",
    "\n",
    "print(integral_sum)"
   ]
  },
  {
   "cell_type": "code",
   "execution_count": 8,
   "id": "2884c5af2ec2201b",
   "metadata": {
    "ExecuteTime": {
     "end_time": "2023-10-23T21:24:22.265691182Z",
     "start_time": "2023-10-23T21:24:17.835678598Z"
    },
    "collapsed": false
   },
   "outputs": [
    {
     "name": "stdout",
     "output_type": "stream",
     "text": [
      "CPU times: user 1.61 ms, sys: 95 μs, total: 1.7 ms\n",
      "Wall time: 1.83 ms\n"
     ]
    },
    {
     "data": {
      "text/plain": [
       "np.float64(49855.7089687502)"
      ]
     },
     "execution_count": 8,
     "metadata": {},
     "output_type": "execute_result"
    }
   ],
   "source": [
    "%%time\n",
    "# Numpy implementation\n",
    "y = np.array(y)\n",
    "dx = np.diff(x)\n",
    "avg_y = (y[:-1] + y[1:]) / 2\n",
    "np.sum(dx * avg_y)"
   ]
  },
  {
   "cell_type": "code",
   "execution_count": 9,
   "id": "8768177a-f911-4f32-94f5-2dee0d39e518",
   "metadata": {
    "ExecuteTime": {
     "end_time": "2023-10-23T21:24:22.265991547Z",
     "start_time": "2023-10-23T21:24:17.840065865Z"
    },
    "collapsed": false
   },
   "outputs": [
    {
     "name": "stdout",
     "output_type": "stream",
     "text": [
      "CPU times: user 2.79 ms, sys: 0 ns, total: 2.79 ms\n",
      "Wall time: 2.08 ms\n"
     ]
    },
    {
     "name": "stderr",
     "output_type": "stream",
     "text": [
      "<timed eval>:2: DeprecationWarning: `trapz` is deprecated. Use `trapezoid` instead, or one of the numerical integration functions in `scipy.integrate`.\n"
     ]
    },
    {
     "data": {
      "text/plain": [
       "np.float64(49855.7089687502)"
      ]
     },
     "execution_count": 9,
     "metadata": {},
     "output_type": "execute_result"
    }
   ],
   "source": [
    "%%time\n",
    "# Numpy implementation II\n",
    "np.trapz(y, x)"
   ]
  },
  {
   "cell_type": "markdown",
   "id": "b073c484-7d3b-4556-8fe9-8f6e9fc90aaa",
   "metadata": {
    "collapsed": false
   },
   "source": [
    "\n",
    "advantages of using Numpy for this specific case:\n",
    "\n",
    "- in order to create `x` and `y` variables, you don't need `for` loops\n",
    "- you have already implemented the trapezoidal rule algorithm\n",
    "- it is precise"
   ]
  },
  {
   "cell_type": "markdown",
   "id": "1f68154e-62f5-4df7-bfec-4ad3b666c39c",
   "metadata": {},
   "source": [
    "### creating an array"
   ]
  },
  {
   "cell_type": "code",
   "execution_count": 10,
   "id": "4e878429-e364-4b43-b983-f5a051132de5",
   "metadata": {
    "ExecuteTime": {
     "end_time": "2023-10-23T21:24:22.266308985Z",
     "start_time": "2023-10-23T21:24:17.847766548Z"
    },
    "slideshow": {
     "slide_type": "slide"
    }
   },
   "outputs": [
    {
     "data": {
      "text/plain": [
       "array([0, 1, 2, 3, 4, 5])"
      ]
     },
     "execution_count": 10,
     "metadata": {},
     "output_type": "execute_result"
    }
   ],
   "source": [
    "import numpy as np\n",
    "\n",
    "a = np.array([0, 1, 2, 3, 4, 5])  # creating an array from a list\n",
    "a"
   ]
  },
  {
   "cell_type": "code",
   "execution_count": 11,
   "id": "b72881a1-66cd-44b5-9a8b-fce1c4a49de8",
   "metadata": {
    "ExecuteTime": {
     "end_time": "2023-10-23T21:24:22.266600786Z",
     "start_time": "2023-10-23T21:24:17.854450157Z"
    }
   },
   "outputs": [
    {
     "name": "stdout",
     "output_type": "stream",
     "text": [
      "1\n",
      "(6,)\n"
     ]
    }
   ],
   "source": [
    "# get the dimension and shape of the array\n",
    "print(a.ndim)\n",
    "print(a.shape)"
   ]
  },
  {
   "cell_type": "code",
   "execution_count": 12,
   "id": "f29ae627-e093-4ba3-ae37-a4295a53479c",
   "metadata": {
    "ExecuteTime": {
     "end_time": "2023-10-23T21:24:22.266821570Z",
     "start_time": "2023-10-23T21:24:17.899096413Z"
    }
   },
   "outputs": [
    {
     "data": {
      "text/plain": [
       "array([[0, 1, 2],\n",
       "       [3, 4, 5]])"
      ]
     },
     "execution_count": 12,
     "metadata": {},
     "output_type": "execute_result"
    }
   ],
   "source": [
    "# create a 2D array\n",
    "b = np.array([[0, 1, 2], [3, 4, 5]])\n",
    "b"
   ]
  },
  {
   "cell_type": "code",
   "execution_count": 13,
   "id": "ff5acfca-1e05-4e22-9c8a-1839f8d750a1",
   "metadata": {
    "ExecuteTime": {
     "end_time": "2023-10-23T21:24:22.267014366Z",
     "start_time": "2023-10-23T21:24:17.899247273Z"
    }
   },
   "outputs": [
    {
     "name": "stdout",
     "output_type": "stream",
     "text": [
      "2\n",
      "(2, 3)\n"
     ]
    }
   ],
   "source": [
    "# array properties\n",
    "print(b.ndim)\n",
    "print(b.shape)"
   ]
  },
  {
   "cell_type": "code",
   "execution_count": 14,
   "id": "ba891813-3bd8-46ae-8307-9b66b7aa36ec",
   "metadata": {
    "ExecuteTime": {
     "end_time": "2023-10-23T21:24:22.267326616Z",
     "start_time": "2023-10-23T21:24:17.899397750Z"
    }
   },
   "outputs": [
    {
     "data": {
      "text/plain": [
       "array([[0, 3],\n",
       "       [1, 4],\n",
       "       [2, 5]])"
      ]
     },
     "execution_count": 14,
     "metadata": {},
     "output_type": "execute_result"
    }
   ],
   "source": [
    "b.T  # Transpose"
   ]
  },
  {
   "cell_type": "markdown",
   "id": "2ed0c331-06ba-4efd-b035-caa3cd21ac7b",
   "metadata": {},
   "source": [
    "### arange / linspace"
   ]
  },
  {
   "cell_type": "code",
   "execution_count": 15,
   "id": "02a0bdae-7220-4ef6-882f-77ccc25bea84",
   "metadata": {
    "ExecuteTime": {
     "end_time": "2023-10-23T21:24:22.267534400Z",
     "start_time": "2023-10-23T21:24:17.899558942Z"
    },
    "slideshow": {
     "slide_type": "slide"
    }
   },
   "outputs": [
    {
     "data": {
      "text/plain": [
       "array([ 0. ,  2.5,  5. ,  7.5, 10. ])"
      ]
     },
     "execution_count": 15,
     "metadata": {},
     "output_type": "execute_result"
    }
   ],
   "source": [
    "# similar to range, in NumPy it is arange\n",
    "np.arange(0, 12.5, 2.5)"
   ]
  },
  {
   "cell_type": "code",
   "execution_count": 16,
   "id": "f7076436-c251-4eb2-9292-847e63c4fa09",
   "metadata": {
    "ExecuteTime": {
     "end_time": "2023-10-23T21:24:22.267741411Z",
     "start_time": "2023-10-23T21:24:17.899754894Z"
    }
   },
   "outputs": [
    {
     "data": {
      "text/plain": [
       "array([ 0. ,  2.5,  5. ,  7.5, 10. ])"
      ]
     },
     "execution_count": 16,
     "metadata": {},
     "output_type": "execute_result"
    }
   ],
   "source": [
    "# but in NumPy you have linear space\n",
    "np.linspace(0, 10, 5)"
   ]
  },
  {
   "cell_type": "code",
   "execution_count": 17,
   "id": "742e026b-7154-4f51-8182-49999d0a957d",
   "metadata": {
    "ExecuteTime": {
     "end_time": "2023-10-23T21:24:22.267944373Z",
     "start_time": "2023-10-23T21:24:17.943125465Z"
    },
    "slideshow": {
     "slide_type": "slide"
    }
   },
   "outputs": [
    {
     "data": {
      "text/plain": [
       "array([[1., 1., 1.],\n",
       "       [1., 1., 1.],\n",
       "       [1., 1., 1.]])"
      ]
     },
     "execution_count": 17,
     "metadata": {},
     "output_type": "execute_result"
    }
   ],
   "source": [
    "# create an array of ones with shape (3,3)\n",
    "np.ones((3, 3))"
   ]
  },
  {
   "cell_type": "code",
   "execution_count": 18,
   "id": "acb2d43a-8edf-4677-848f-029924f9dff9",
   "metadata": {
    "ExecuteTime": {
     "end_time": "2023-10-23T21:24:22.268145710Z",
     "start_time": "2023-10-23T21:24:17.943364325Z"
    }
   },
   "outputs": [
    {
     "data": {
      "text/plain": [
       "array([[0., 0., 0.],\n",
       "       [0., 0., 0.]])"
      ]
     },
     "execution_count": 18,
     "metadata": {},
     "output_type": "execute_result"
    }
   ],
   "source": [
    "# create an array of zeros with shape (2,3)\n",
    "np.zeros((2, 3))"
   ]
  },
  {
   "cell_type": "code",
   "execution_count": 19,
   "id": "a5a0e0e1-640b-4ec2-a71f-3c2bdca9e05c",
   "metadata": {
    "ExecuteTime": {
     "end_time": "2023-10-23T21:24:22.268351045Z",
     "start_time": "2023-10-23T21:24:17.943509692Z"
    }
   },
   "outputs": [
    {
     "data": {
      "text/plain": [
       "array([[0.8809306 , 0.11665735],\n",
       "       [0.43886328, 0.19756094],\n",
       "       [0.93513243, 0.18943835]])"
      ]
     },
     "execution_count": 19,
     "metadata": {},
     "output_type": "execute_result"
    }
   ],
   "source": [
    "# create an array of random numbers with shape (3,2)\n",
    "np.random.random((3, 2))  # shape = 3x2"
   ]
  },
  {
   "cell_type": "markdown",
   "id": "f4c85eb6d128b37d",
   "metadata": {
    "collapsed": false
   },
   "source": [
    "### indexing"
   ]
  },
  {
   "cell_type": "code",
   "execution_count": 20,
   "id": "988cf4e0-2a63-4f31-b792-3754cabdf108",
   "metadata": {
    "ExecuteTime": {
     "end_time": "2023-10-23T21:24:22.268540091Z",
     "start_time": "2023-10-23T21:24:17.943643219Z"
    }
   },
   "outputs": [
    {
     "name": "stdout",
     "output_type": "stream",
     "text": [
      "[0 1 2 3 4 5 6 7 8 9]\n",
      "0\n",
      "1\n",
      "9\n",
      "[1 2 3 4]\n",
      "[0 2 4 6 8]\n"
     ]
    }
   ],
   "source": [
    "# indexing works similarly to lists\n",
    "c = np.arange(10)\n",
    "print(c)\n",
    "print(c[0])  # first element\n",
    "print(c[1])  # second\n",
    "print(c[-1])  # last\n",
    "print(c[1:5])  # 2nd to 5th\n",
    "print(c[::2])  # every second element"
   ]
  },
  {
   "cell_type": "code",
   "execution_count": 21,
   "id": "dbdceac1-1b72-4bab-93b8-2adc79b4f585",
   "metadata": {
    "ExecuteTime": {
     "end_time": "2023-10-23T21:24:22.268769090Z",
     "start_time": "2023-10-23T21:24:17.943797994Z"
    }
   },
   "outputs": [
    {
     "name": "stdout",
     "output_type": "stream",
     "text": [
      "[[1 2 3]\n",
      " [4 5 6]\n",
      " [7 8 9]]\n"
     ]
    }
   ],
   "source": [
    "# but how to index 2D arrays?\n",
    "d = np.arange(1, 10).reshape((3, 3))  # same as d = np.array([[1,2,3],[4,5,6],[7,8,9]])\n",
    "print(d)"
   ]
  },
  {
   "cell_type": "code",
   "execution_count": 22,
   "id": "20306e9c-255a-42e7-b15c-4f7ea15c9c30",
   "metadata": {
    "ExecuteTime": {
     "end_time": "2023-10-23T21:24:22.298451280Z",
     "start_time": "2023-10-23T21:24:17.943991021Z"
    }
   },
   "outputs": [
    {
     "name": "stdout",
     "output_type": "stream",
     "text": [
      "1\n",
      "4\n",
      "2\n",
      "9\n",
      "1\n"
     ]
    }
   ],
   "source": [
    "print(d[0, 0])  # 1st row 1st column\n",
    "print(d[1, 0])  # 2nd row 1st column\n",
    "print(d[0, 1])  # 1st row 2nd column\n",
    "print(d[-1, -1])  # last row last column\n",
    "## list style indexing\n",
    "print(d[0][0])  # 1st row 1st column"
   ]
  },
  {
   "cell_type": "code",
   "execution_count": 23,
   "id": "45807ac6-e36a-4be6-ab40-024506275bcb",
   "metadata": {
    "ExecuteTime": {
     "end_time": "2023-10-23T21:24:22.298920184Z",
     "start_time": "2023-10-23T21:24:17.987189878Z"
    }
   },
   "outputs": [
    {
     "name": "stdout",
     "output_type": "stream",
     "text": [
      "[4 5 6]\n",
      "[2 5 8]\n"
     ]
    }
   ],
   "source": [
    "print(d[1, :])  # 2nd row (: means all)\n",
    "print(d[:, 1])  # 2nd column (: means all)"
   ]
  },
  {
   "cell_type": "code",
   "execution_count": 24,
   "id": "bd6a5862-a337-4db8-8f9e-dd741ca9b60a",
   "metadata": {
    "ExecuteTime": {
     "end_time": "2023-10-23T21:24:22.299223157Z",
     "start_time": "2023-10-23T21:24:17.987364646Z"
    }
   },
   "outputs": [
    {
     "name": "stdout",
     "output_type": "stream",
     "text": [
      "[[5 6]\n",
      " [8 9]]\n"
     ]
    }
   ],
   "source": [
    "print(d[1:3, 1:3])  # 2nd and 3rd row and 2nd and 3rd column"
   ]
  },
  {
   "cell_type": "code",
   "execution_count": 25,
   "id": "900d7258-66f5-47c4-9052-ce6602e7a2ec",
   "metadata": {
    "ExecuteTime": {
     "end_time": "2023-10-23T21:24:22.299640604Z",
     "start_time": "2023-10-23T21:24:17.987527444Z"
    }
   },
   "outputs": [
    {
     "data": {
      "text/plain": [
       "array([[1, 2, 3],\n",
       "       [7, 8, 9]])"
      ]
     },
     "execution_count": 25,
     "metadata": {},
     "output_type": "execute_result"
    }
   ],
   "source": [
    "d[(0, 2), :]  # 1st and 3rd rows; all columns"
   ]
  },
  {
   "cell_type": "markdown",
   "id": "95a6dcf2-937f-415a-984e-ab120e9eb45a",
   "metadata": {},
   "source": [
    "### operations"
   ]
  },
  {
   "cell_type": "code",
   "execution_count": 26,
   "id": "5bfec5f5-cf33-4d5e-a916-b5a74e6bc4f7",
   "metadata": {
    "ExecuteTime": {
     "end_time": "2023-10-23T21:24:22.300166528Z",
     "start_time": "2023-10-23T21:24:17.987682914Z"
    },
    "slideshow": {
     "slide_type": "slide"
    }
   },
   "outputs": [
    {
     "data": {
      "text/plain": [
       "array([[1, 2],\n",
       "       [3, 4]])"
      ]
     },
     "execution_count": 26,
     "metadata": {},
     "output_type": "execute_result"
    }
   ],
   "source": [
    "a = np.array([[1, 2], [3, 4]])\n",
    "a"
   ]
  },
  {
   "cell_type": "code",
   "execution_count": 27,
   "id": "4a9ce556-9bc6-4302-bf7f-258044f18e08",
   "metadata": {
    "ExecuteTime": {
     "end_time": "2023-10-23T21:24:22.300655669Z",
     "start_time": "2023-10-23T21:24:17.987823091Z"
    }
   },
   "outputs": [
    {
     "data": {
      "text/plain": [
       "array([[0, 1],\n",
       "       [2, 3]])"
      ]
     },
     "execution_count": 27,
     "metadata": {},
     "output_type": "execute_result"
    }
   ],
   "source": [
    "a - 1"
   ]
  },
  {
   "cell_type": "code",
   "execution_count": 28,
   "id": "cc070c63-6a0c-49a2-b2d4-a71cf5946ab3",
   "metadata": {
    "ExecuteTime": {
     "end_time": "2023-10-23T21:24:22.301129139Z",
     "start_time": "2023-10-23T21:24:17.987993493Z"
    }
   },
   "outputs": [
    {
     "data": {
      "text/plain": [
       "array([[2, 4],\n",
       "       [6, 8]])"
      ]
     },
     "execution_count": 28,
     "metadata": {},
     "output_type": "execute_result"
    }
   ],
   "source": [
    "a * 2"
   ]
  },
  {
   "cell_type": "code",
   "execution_count": 29,
   "id": "1ad5e601-4ef5-4646-afb9-b19619c3a924",
   "metadata": {
    "ExecuteTime": {
     "end_time": "2023-10-23T21:24:22.301495732Z",
     "start_time": "2023-10-23T21:24:17.991940482Z"
    }
   },
   "outputs": [
    {
     "data": {
      "text/plain": [
       "array([[ 1,  4],\n",
       "       [ 9, 16]])"
      ]
     },
     "execution_count": 29,
     "metadata": {},
     "output_type": "execute_result"
    }
   ],
   "source": [
    "a * a"
   ]
  },
  {
   "cell_type": "code",
   "execution_count": 30,
   "id": "b2d00d4a-0870-498e-a035-a773284c73d8",
   "metadata": {
    "ExecuteTime": {
     "end_time": "2023-10-23T21:24:22.301774468Z",
     "start_time": "2023-10-23T21:24:18.039151089Z"
    }
   },
   "outputs": [
    {
     "data": {
      "text/plain": [
       "(np.int64(1), np.int64(1))"
      ]
     },
     "execution_count": 30,
     "metadata": {},
     "output_type": "execute_result"
    }
   ],
   "source": [
    "# dot product\n",
    "vec1 = np.array([0, 1, 2])\n",
    "vec2 = np.array([2, 1, 0])\n",
    "vec1.dot(vec2), np.dot(vec1, vec2)"
   ]
  },
  {
   "cell_type": "code",
   "execution_count": 31,
   "id": "e3d18825-accd-41fa-b152-cc40b2aa5f40",
   "metadata": {
    "ExecuteTime": {
     "end_time": "2023-10-23T21:24:22.302130891Z",
     "start_time": "2023-10-23T21:24:18.039405247Z"
    }
   },
   "outputs": [
    {
     "name": "stdout",
     "output_type": "stream",
     "text": [
      "[[1 2]\n",
      " [3 4]]\n"
     ]
    }
   ],
   "source": [
    "# logical operations\n",
    "a = np.array([[1, 2], [3, 4]])\n",
    "print(a)"
   ]
  },
  {
   "cell_type": "code",
   "execution_count": 32,
   "id": "b118e29e-1646-4be0-8971-21c544dd11fa",
   "metadata": {
    "ExecuteTime": {
     "end_time": "2023-10-23T21:24:22.302481859Z",
     "start_time": "2023-10-23T21:24:18.039587666Z"
    },
    "slideshow": {
     "slide_type": "slide"
    }
   },
   "outputs": [
    {
     "data": {
      "text/plain": [
       "array([[False,  True],\n",
       "       [False, False]])"
      ]
     },
     "execution_count": 32,
     "metadata": {},
     "output_type": "execute_result"
    }
   ],
   "source": [
    "a == 2"
   ]
  },
  {
   "cell_type": "code",
   "execution_count": 33,
   "id": "d5615b5d-6491-4351-b162-aeeb96151d4c",
   "metadata": {
    "ExecuteTime": {
     "end_time": "2023-10-23T21:24:22.302858961Z",
     "start_time": "2023-10-23T21:24:18.039738259Z"
    }
   },
   "outputs": [
    {
     "data": {
      "text/plain": [
       "array([2])"
      ]
     },
     "execution_count": 33,
     "metadata": {},
     "output_type": "execute_result"
    }
   ],
   "source": [
    "a[a == 2]"
   ]
  },
  {
   "cell_type": "code",
   "execution_count": 34,
   "id": "235e5de6-1e12-4c90-bfde-7749d4e31f4b",
   "metadata": {
    "ExecuteTime": {
     "end_time": "2023-10-23T21:24:22.303103471Z",
     "start_time": "2023-10-23T21:24:18.039947801Z"
    }
   },
   "outputs": [
    {
     "data": {
      "text/plain": [
       "array([[False,  True],\n",
       "       [ True,  True]])"
      ]
     },
     "execution_count": 34,
     "metadata": {},
     "output_type": "execute_result"
    }
   ],
   "source": [
    "a > 1"
   ]
  },
  {
   "cell_type": "code",
   "execution_count": 35,
   "id": "dbdaba5f-75ac-46ae-9a2e-2ec9fad80d9e",
   "metadata": {
    "ExecuteTime": {
     "end_time": "2023-10-23T21:24:22.303320006Z",
     "start_time": "2023-10-23T21:24:18.040093705Z"
    }
   },
   "outputs": [
    {
     "data": {
      "text/plain": [
       "array([2, 3, 4])"
      ]
     },
     "execution_count": 35,
     "metadata": {},
     "output_type": "execute_result"
    }
   ],
   "source": [
    "a[a > 1]"
   ]
  },
  {
   "cell_type": "code",
   "execution_count": 36,
   "id": "983f404d-b9a9-4068-9c2c-5ab5c7d1a5af",
   "metadata": {
    "ExecuteTime": {
     "end_time": "2023-10-23T21:24:22.303623056Z",
     "start_time": "2023-10-23T21:24:18.079148418Z"
    }
   },
   "outputs": [
    {
     "name": "stdout",
     "output_type": "stream",
     "text": [
      "10\n",
      "2.5\n",
      "1.118033988749895\n",
      "4\n",
      "1\n"
     ]
    }
   ],
   "source": [
    "# get properties of the array\n",
    "a = np.array([[1, 2], [3, 4]])\n",
    "print(a.sum())\n",
    "print(a.mean())\n",
    "print(a.std())\n",
    "print(a.max())\n",
    "print(a.min())"
   ]
  },
  {
   "cell_type": "code",
   "execution_count": 37,
   "id": "ad0fc49c-c553-4a68-a211-157e2a977df7",
   "metadata": {
    "ExecuteTime": {
     "end_time": "2023-10-23T21:24:22.303954574Z",
     "start_time": "2023-10-23T21:24:18.079332812Z"
    }
   },
   "outputs": [
    {
     "name": "stdout",
     "output_type": "stream",
     "text": [
      "[4 6]\n",
      "[3 7]\n"
     ]
    }
   ],
   "source": [
    "print(a.sum(axis=0))  # applied to columns\n",
    "print(a.sum(axis=1))  # applied to rows"
   ]
  },
  {
   "cell_type": "code",
   "execution_count": 38,
   "id": "b2326682-7a81-41ad-919d-d90fc86cd598",
   "metadata": {
    "ExecuteTime": {
     "end_time": "2023-10-23T21:24:22.354847484Z",
     "start_time": "2023-10-23T21:24:18.079415792Z"
    }
   },
   "outputs": [
    {
     "data": {
      "text/plain": [
       "(np.int64(10),\n",
       " np.float64(2.5),\n",
       " np.float64(1.118033988749895),\n",
       " np.int64(4),\n",
       " np.int64(1))"
      ]
     },
     "execution_count": 38,
     "metadata": {},
     "output_type": "execute_result"
    }
   ],
   "source": [
    "np.sum(a), np.mean(a), np.std(a), np.max(a), np.min(a)  # other way of doing the same"
   ]
  },
  {
   "cell_type": "code",
   "execution_count": 39,
   "id": "f6e52285-5d1e-4c1f-94aa-903a649fe6ff",
   "metadata": {
    "ExecuteTime": {
     "end_time": "2023-10-23T21:24:22.355281378Z",
     "start_time": "2023-10-23T21:24:18.079537511Z"
    }
   },
   "outputs": [
    {
     "data": {
      "text/plain": [
       "(np.float64(2.5), np.float64(1.25))"
      ]
     },
     "execution_count": 39,
     "metadata": {},
     "output_type": "execute_result"
    }
   ],
   "source": [
    "np.median(a), np.var(a)  # median and variance"
   ]
  },
  {
   "cell_type": "code",
   "execution_count": 40,
   "id": "023a246f-9490-44f7-8bc3-875b0bd720c3",
   "metadata": {
    "ExecuteTime": {
     "end_time": "2023-10-23T21:24:22.355632811Z",
     "start_time": "2023-10-23T21:24:18.079681683Z"
    }
   },
   "outputs": [
    {
     "data": {
      "text/plain": [
       "(nan, inf)"
      ]
     },
     "execution_count": 40,
     "metadata": {},
     "output_type": "execute_result"
    }
   ],
   "source": [
    "np.nan, np.inf"
   ]
  },
  {
   "cell_type": "markdown",
   "id": "1c657478-bb68-4fdd-bce5-c63360050f75",
   "metadata": {
    "slideshow": {
     "slide_type": "slide"
    }
   },
   "source": [
    "### MATPLOTLIB\n",
    "\n",
    "[Matplotlib](https://matplotlib.org/) is a Python 2D plotting library which produces publication quality figures in a variety of hardcopy formats and interactive environments across platforms.\n",
    "\n"
   ]
  },
  {
   "cell_type": "code",
   "execution_count": 41,
   "id": "e8e46348-92b5-406d-a9de-f5572df5c932",
   "metadata": {
    "ExecuteTime": {
     "end_time": "2023-10-23T21:24:22.767215249Z",
     "start_time": "2023-10-23T21:24:18.092980665Z"
    },
    "slideshow": {
     "slide_type": "slide"
    }
   },
   "outputs": [
    {
     "data": {
      "image/png": "[encoded data removed]",
      "text/plain": [
       "<Figure size 640x480 with 1 Axes>"
      ]
     },
     "metadata": {},
     "output_type": "display_data"
    }
   ],
   "source": [
    "import matplotlib.pyplot as plt\n",
    "import numpy as np\n",
    "\n",
    "x = np.array([1, 2, 3])\n",
    "y = np.array([2, 1, 3])\n",
    "\n",
    "# simple plot\n",
    "plt.plot(x, y)\n",
    "\n",
    "plt.xlabel(\"x\")\n",
    "plt.ylabel(\"y\")\n",
    "\n",
    "plt.show()"
   ]
  },
  {
   "cell_type": "code",
   "execution_count": 42,
   "id": "bbc84804-2d9c-49bf-9795-8e7cdf986201",
   "metadata": {
    "ExecuteTime": {
     "end_time": "2023-10-23T21:24:22.767616396Z",
     "start_time": "2023-10-23T21:24:18.335025407Z"
    },
    "slideshow": {
     "slide_type": "slide"
    }
   },
   "outputs": [
    {
     "data": {
      "image/png": "[encoded data removed]",
      "text/plain": [
       "<Figure size 1500x300 with 6 Axes>"
      ]
     },
     "metadata": {},
     "output_type": "display_data"
    }
   ],
   "source": [
    "x = np.array([1, 2, 3])\n",
    "y = np.array([2, 1, 3])\n",
    "e = np.array([0.5, 0.2, 0.3])\n",
    "\n",
    "\n",
    "plt.figure(figsize=(15, 3))\n",
    "\n",
    "# generating more subplots\n",
    "plt.subplot(151)\n",
    "plt.title(\"bar\")\n",
    "plt.bar([str(i) for i in x], y)  # bar plot\n",
    "\n",
    "plt.subplot(152)\n",
    "plt.title(\"scatter\")\n",
    "plt.scatter(x, y)  # scatter plot\n",
    "\n",
    "plt.subplot(153)\n",
    "plt.title(\"plot\")\n",
    "plt.plot(x, y)  # simple plot\n",
    "\n",
    "plt.subplot(154)\n",
    "plt.title(\"errorbar\")\n",
    "plt.errorbar(x, y, e)  # simple plot with error bars\n",
    "\n",
    "plt.subplot(155)\n",
    "plt.title(\"imshow\")  # im plot\n",
    "plt.imshow([y])\n",
    "plt.colorbar()\n",
    "\n",
    "plt.show()\n",
    "plt.show()"
   ]
  },
  {
   "cell_type": "code",
   "execution_count": 43,
   "id": "475b4b1c-19c9-4763-9894-6fd3082d73f3",
   "metadata": {
    "ExecuteTime": {
     "end_time": "2023-10-23T21:24:22.767834989Z",
     "start_time": "2023-10-23T21:24:19.019277013Z"
    }
   },
   "outputs": [
    {
     "data": {
      "image/png": "[encoded data removed]",
      "text/plain": [
       "<Figure size 640x480 with 1 Axes>"
      ]
     },
     "metadata": {},
     "output_type": "display_data"
    }
   ],
   "source": [
    "# NumPy + Matplotlib\n",
    "x = np.linspace(-np.pi * 2, np.pi * 2, 256)  # generate x values\n",
    "plt.plot(x, np.cos(x), label=\"cosine\")  # generate and plot cosine\n",
    "plt.plot(x, np.sin(x), label=\"sine\")  # generate and plot sine\n",
    "plt.legend()\n",
    "plt.show()"
   ]
  },
  {
   "cell_type": "markdown",
   "id": "acf9cc9f-d58b-40fb-b58d-2eb5207c20af",
   "metadata": {},
   "source": [
    "## Scipy package \n",
    "\n",
    "[SciPy](https://scipy.org/) is organized into subpackages covering different scientific computing domains.\n",
    "\n",
    "These are summarized in the following table:\n",
    "\n",
    "| Subpackage  | Description                                        |\n",
    "|-------------|----------------------------------------------------|\n",
    "| cluster     | Clustering algorithms                              |\n",
    "| constants   | Physical and mathematical constants                |\n",
    "| fftpack     | Fast Fourier Transform routines                    |\n",
    "| integrate   | Integration and ordinary differential equation solvers |\n",
    "| interpolate | Interpolation and smoothing splines                |\n",
    "| io          | Input and Output                                   |\n",
    "| linalg      | Linear algebra                                     |\n",
    "| ndimage     | N-dimensional image processing                     |\n",
    "| odr         | Orthogonal distance regression                     |\n",
    "| optimize    | Optimization and root-finding routines             |\n",
    "| signal      | Signal processing                                  |\n",
    "| sparse      | Sparse matrices and associated routines             |\n",
    "| spatial     | Spatial data structures and algorithms              |\n",
    "| special     | Special functions                                  |\n",
    "| stats       | Statistical distributions and functions             |\n",
    "\n"
   ]
  },
  {
   "cell_type": "code",
   "execution_count": 44,
   "id": "1b7edcfb-1a2e-4884-8c39-3ad7c265a583",
   "metadata": {
    "ExecuteTime": {
     "end_time": "2023-10-23T21:24:22.768020587Z",
     "start_time": "2023-10-23T21:24:19.189776613Z"
    }
   },
   "outputs": [
    {
     "data": {
      "image/png": "[encoded data removed]",
      "text/plain": [
       "<Figure size 640x480 with 1 Axes>"
      ]
     },
     "metadata": {},
     "output_type": "display_data"
    }
   ],
   "source": [
    "# linear regression\n",
    "from scipy.stats import linregress\n",
    "\n",
    "\n",
    "def f(x):\n",
    "    \"\"\"Function to generate a line.\"\"\"\n",
    "    return 1.2 * x + 3.4\n",
    "\n",
    "\n",
    "x = np.linspace(-5, 5, 50)\n",
    "y = f(x) + np.random.random(50)  # adding noise to each point\n",
    "\n",
    "plt.scatter(x, y)\n",
    "plt.show()"
   ]
  },
  {
   "cell_type": "code",
   "execution_count": 45,
   "id": "cb7c5b20-44e9-4eb9-900f-5ce56d4d3279",
   "metadata": {
    "ExecuteTime": {
     "end_time": "2023-10-23T21:24:22.768202309Z",
     "start_time": "2023-10-23T21:24:19.655971281Z"
    }
   },
   "outputs": [
    {
     "name": "stdout",
     "output_type": "stream",
     "text": [
      "LinregressResult(slope=np.float64(1.1952340860421788), intercept=np.float64(3.9297393573002584), rvalue=np.float64(0.9966618313156715), pvalue=np.float64(6.791389465996011e-54), stderr=np.float64(0.014131586525921723), intercept_stderr=np.float64(0.04161858850280757))\n"
     ]
    }
   ],
   "source": [
    "res_lin_reg = linregress(x, y)\n",
    "print(res_lin_reg)"
   ]
  },
  {
   "cell_type": "code",
   "execution_count": 46,
   "id": "15ffc596-821f-4879-aa31-b8e56f08d426",
   "metadata": {
    "ExecuteTime": {
     "end_time": "2023-10-23T21:24:22.768394933Z",
     "start_time": "2023-10-23T21:24:19.699046839Z"
    }
   },
   "outputs": [
    {
     "data": {
      "image/png": "[encoded data removed]",
      "text/plain": [
       "<Figure size 640x480 with 1 Axes>"
      ]
     },
     "metadata": {},
     "output_type": "display_data"
    }
   ],
   "source": [
    "plt.scatter(x, y)\n",
    "y_fit = x * res_lin_reg.slope + res_lin_reg.intercept\n",
    "plt.plot(x, y_fit)\n",
    "plt.show()"
   ]
  },
  {
   "cell_type": "markdown",
   "id": "8284e3d3-5b21-4401-af67-8a83e2b4c3bf",
   "metadata": {},
   "source": [
    "## Pandas\n",
    "\n",
    "\"[pandas](https://pandas.pydata.org/) is a fast, powerful, flexible and easy to use open source data analysis and manipulation tool,\n",
    "built on top of the Python programming language.\"<br>\n",
    "\n",
    "\n",
    "but why Pandas?\n",
    "\n",
    "### Numpy indexing and limitations"
   ]
  },
  {
   "cell_type": "code",
   "execution_count": null,
   "id": "21366c9a-65c8-4a63-858c-9d2a35051f44",
   "metadata": {
    "ExecuteTime": {
     "end_time": "2023-10-23T21:24:22.768566216Z",
     "start_time": "2023-10-23T21:24:19.867088058Z"
    }
   },
   "outputs": [
    {
     "name": "stdout",
     "output_type": "stream",
     "text": [
      "Writing population.csv\n"
     ]
    }
   ],
   "source": [
    "%%writefile population.csv\n",
    "country, population, capital\n",
    "Austria, 8902600, Vienna\n",
    "Germany, 83149300, Berlin\n",
    "Croatia, 4076246, Zagreb\n",
    "Chile, 17574003, Santiago"
   ]
  },
  {
   "cell_type": "code",
   "execution_count": 48,
   "id": "0826fa56-7106-4f73-8029-e69aaea36af6",
   "metadata": {
    "ExecuteTime": {
     "end_time": "2023-10-23T21:24:22.768797337Z",
     "start_time": "2023-10-23T21:24:19.867311634Z"
    }
   },
   "outputs": [
    {
     "data": {
      "text/plain": [
       "array([(b'Austria',  8902600, b'Vienna'),\n",
       "       (b'Germany', 83149300, b'Berlin'),\n",
       "       (b'Croatia',  4076246, b'Zagreb'),\n",
       "       (b'Chile', 17574003, b'Santiago')],\n",
       "      dtype=[('country', 'S20'), ('population', '<i4'), ('capital', 'S20')])"
      ]
     },
     "execution_count": 48,
     "metadata": {},
     "output_type": "execute_result"
    }
   ],
   "source": [
    "import numpy as np\n",
    "\n",
    "dt = np.dtype([(\"country\", \"S20\"), (\"population\", \"i4\"), (\"capital\", \"S20\")])\n",
    "data = np.loadtxt(\"population.csv\", skiprows=1, delimiter=\",\", dtype=dt)\n",
    "data"
   ]
  },
  {
   "cell_type": "code",
   "execution_count": 49,
   "id": "b8bbe96a-1d74-4b6e-9501-4f018f0f255e",
   "metadata": {
    "ExecuteTime": {
     "end_time": "2023-10-23T21:24:22.768999480Z",
     "start_time": "2023-10-23T21:24:19.867515535Z"
    }
   },
   "outputs": [
    {
     "data": {
      "text/plain": [
       "array([b'Austria', b'Germany', b'Croatia', b'Chile'], dtype='|S20')"
      ]
     },
     "execution_count": 49,
     "metadata": {},
     "output_type": "execute_result"
    }
   ],
   "source": [
    "data[\"country\"]"
   ]
  },
  {
   "cell_type": "code",
   "execution_count": 50,
   "id": "80111d44-1a81-4f21-a6c5-15b47e7cf212",
   "metadata": {
    "ExecuteTime": {
     "end_time": "2023-10-23T21:24:22.769186523Z",
     "start_time": "2023-10-23T21:24:19.867663118Z"
    }
   },
   "outputs": [
    {
     "data": {
      "text/plain": [
       "array([ 8902600, 83149300,  4076246, 17574003], dtype=int32)"
      ]
     },
     "execution_count": 50,
     "metadata": {},
     "output_type": "execute_result"
    }
   ],
   "source": [
    "data[\"population\"]"
   ]
  },
  {
   "cell_type": "markdown",
   "id": "48293e46-d3fb-4f7e-a7af-6f288f785410",
   "metadata": {},
   "source": [
    "You can access to the columns, but if you want to ask for the population in a certain country."
   ]
  },
  {
   "cell_type": "code",
   "execution_count": 51,
   "id": "9215c962-f923-4334-8f89-02869f0a72e1",
   "metadata": {
    "ExecuteTime": {
     "end_time": "2023-10-23T21:24:22.769372754Z",
     "start_time": "2023-10-23T21:24:19.867801978Z"
    }
   },
   "outputs": [
    {
     "data": {
      "text/plain": [
       "array([4076246], dtype=int32)"
      ]
     },
     "execution_count": 51,
     "metadata": {},
     "output_type": "execute_result"
    }
   ],
   "source": [
    "data[\"population\"][data[\"country\"] == b\"Croatia\"]"
   ]
  },
  {
   "cell_type": "markdown",
   "id": "57c268db-a06f-487c-b509-ad23947ab0d3",
   "metadata": {},
   "source": [
    "The code is getting ugly."
   ]
  },
  {
   "cell_type": "markdown",
   "id": "ecd52738-b50b-4306-b24b-2190a70555cf",
   "metadata": {},
   "source": [
    "### basics"
   ]
  },
  {
   "cell_type": "code",
   "execution_count": 52,
   "id": "75f27520-c54e-4a72-8d67-14b5ef4e0453",
   "metadata": {
    "ExecuteTime": {
     "end_time": "2023-10-23T21:24:22.769461262Z",
     "start_time": "2023-10-23T21:24:19.868045570Z"
    }
   },
   "outputs": [],
   "source": [
    "import pandas as pd"
   ]
  },
  {
   "cell_type": "code",
   "execution_count": 53,
   "id": "831c26a5-42ea-476e-9560-790817f7ced3",
   "metadata": {
    "ExecuteTime": {
     "end_time": "2023-10-23T21:24:22.769813837Z",
     "start_time": "2023-10-23T21:24:19.874490919Z"
    }
   },
   "outputs": [
    {
     "data": {
      "text/html": [
       "<div>\n",
       "<style scoped>\n",
       "    .dataframe tbody tr th:only-of-type {\n",
       "        vertical-align: middle;\n",
       "    }\n",
       "\n",
       "    .dataframe tbody tr th {\n",
       "        vertical-align: top;\n",
       "    }\n",
       "\n",
       "    .dataframe thead th {\n",
       "        text-align: right;\n",
       "    }\n",
       "</style>\n",
       "<table border=\"1\" class=\"dataframe\">\n",
       "  <thead>\n",
       "    <tr style=\"text-align: right;\">\n",
       "      <th></th>\n",
       "      <th>country</th>\n",
       "      <th>population</th>\n",
       "      <th>capital</th>\n",
       "    </tr>\n",
       "  </thead>\n",
       "  <tbody>\n",
       "    <tr>\n",
       "      <th>0</th>\n",
       "      <td>Austria</td>\n",
       "      <td>8902600</td>\n",
       "      <td>Vienna</td>\n",
       "    </tr>\n",
       "    <tr>\n",
       "      <th>1</th>\n",
       "      <td>Germany</td>\n",
       "      <td>83149300</td>\n",
       "      <td>Berlin</td>\n",
       "    </tr>\n",
       "    <tr>\n",
       "      <th>2</th>\n",
       "      <td>Croatia</td>\n",
       "      <td>4076246</td>\n",
       "      <td>Zagreb</td>\n",
       "    </tr>\n",
       "    <tr>\n",
       "      <th>3</th>\n",
       "      <td>Chile</td>\n",
       "      <td>17574003</td>\n",
       "      <td>Santiago</td>\n",
       "    </tr>\n",
       "  </tbody>\n",
       "</table>\n",
       "</div>"
      ],
      "text/plain": [
       "   country  population   capital\n",
       "0  Austria     8902600    Vienna\n",
       "1  Germany    83149300    Berlin\n",
       "2  Croatia     4076246    Zagreb\n",
       "3    Chile    17574003  Santiago"
      ]
     },
     "execution_count": 53,
     "metadata": {},
     "output_type": "execute_result"
    }
   ],
   "source": [
    "data = pd.read_csv(\"population.csv\", delimiter=\",\")\n",
    "data"
   ]
  },
  {
   "cell_type": "code",
   "execution_count": 54,
   "id": "0cc521ed-fcb6-416e-98c9-ca1c95b74f13",
   "metadata": {
    "ExecuteTime": {
     "end_time": "2023-10-23T21:24:22.770143113Z",
     "start_time": "2023-10-23T21:24:19.915065420Z"
    }
   },
   "outputs": [
    {
     "data": {
      "text/html": [
       "<div>\n",
       "<style scoped>\n",
       "    .dataframe tbody tr th:only-of-type {\n",
       "        vertical-align: middle;\n",
       "    }\n",
       "\n",
       "    .dataframe tbody tr th {\n",
       "        vertical-align: top;\n",
       "    }\n",
       "\n",
       "    .dataframe thead th {\n",
       "        text-align: right;\n",
       "    }\n",
       "</style>\n",
       "<table border=\"1\" class=\"dataframe\">\n",
       "  <thead>\n",
       "    <tr style=\"text-align: right;\">\n",
       "      <th></th>\n",
       "      <th>population</th>\n",
       "      <th>capital</th>\n",
       "    </tr>\n",
       "    <tr>\n",
       "      <th>country</th>\n",
       "      <th></th>\n",
       "      <th></th>\n",
       "    </tr>\n",
       "  </thead>\n",
       "  <tbody>\n",
       "    <tr>\n",
       "      <th>Austria</th>\n",
       "      <td>8902600</td>\n",
       "      <td>Vienna</td>\n",
       "    </tr>\n",
       "    <tr>\n",
       "      <th>Germany</th>\n",
       "      <td>83149300</td>\n",
       "      <td>Berlin</td>\n",
       "    </tr>\n",
       "    <tr>\n",
       "      <th>Croatia</th>\n",
       "      <td>4076246</td>\n",
       "      <td>Zagreb</td>\n",
       "    </tr>\n",
       "    <tr>\n",
       "      <th>Chile</th>\n",
       "      <td>17574003</td>\n",
       "      <td>Santiago</td>\n",
       "    </tr>\n",
       "  </tbody>\n",
       "</table>\n",
       "</div>"
      ],
      "text/plain": [
       "         population   capital\n",
       "country                      \n",
       "Austria     8902600    Vienna\n",
       "Germany    83149300    Berlin\n",
       "Croatia     4076246    Zagreb\n",
       "Chile      17574003  Santiago"
      ]
     },
     "execution_count": 54,
     "metadata": {},
     "output_type": "execute_result"
    }
   ],
   "source": [
    "data.set_index(\"country\")  # set index"
   ]
  },
  {
   "cell_type": "code",
   "execution_count": 55,
   "id": "31cd11e0-7ae1-4b93-a4f7-10d8fbaaa93a",
   "metadata": {
    "ExecuteTime": {
     "end_time": "2023-10-23T21:24:22.770439289Z",
     "start_time": "2023-10-23T21:24:19.915273341Z"
    }
   },
   "outputs": [
    {
     "data": {
      "text/html": [
       "<div>\n",
       "<style scoped>\n",
       "    .dataframe tbody tr th:only-of-type {\n",
       "        vertical-align: middle;\n",
       "    }\n",
       "\n",
       "    .dataframe tbody tr th {\n",
       "        vertical-align: top;\n",
       "    }\n",
       "\n",
       "    .dataframe thead th {\n",
       "        text-align: right;\n",
       "    }\n",
       "</style>\n",
       "<table border=\"1\" class=\"dataframe\">\n",
       "  <thead>\n",
       "    <tr style=\"text-align: right;\">\n",
       "      <th></th>\n",
       "      <th>population</th>\n",
       "      <th>capital</th>\n",
       "    </tr>\n",
       "    <tr>\n",
       "      <th>country</th>\n",
       "      <th></th>\n",
       "      <th></th>\n",
       "    </tr>\n",
       "  </thead>\n",
       "  <tbody>\n",
       "    <tr>\n",
       "      <th>Austria</th>\n",
       "      <td>8902600</td>\n",
       "      <td>Vienna</td>\n",
       "    </tr>\n",
       "    <tr>\n",
       "      <th>Germany</th>\n",
       "      <td>83149300</td>\n",
       "      <td>Berlin</td>\n",
       "    </tr>\n",
       "    <tr>\n",
       "      <th>Croatia</th>\n",
       "      <td>4076246</td>\n",
       "      <td>Zagreb</td>\n",
       "    </tr>\n",
       "    <tr>\n",
       "      <th>Chile</th>\n",
       "      <td>17574003</td>\n",
       "      <td>Santiago</td>\n",
       "    </tr>\n",
       "  </tbody>\n",
       "</table>\n",
       "</div>"
      ],
      "text/plain": [
       "         population   capital\n",
       "country                      \n",
       "Austria     8902600    Vienna\n",
       "Germany    83149300    Berlin\n",
       "Croatia     4076246    Zagreb\n",
       "Chile      17574003  Santiago"
      ]
     },
     "execution_count": 55,
     "metadata": {},
     "output_type": "execute_result"
    }
   ],
   "source": [
    "data = pd.read_csv(\"population.csv\", delimiter=\",\", index_col=0)\n",
    "data"
   ]
  },
  {
   "cell_type": "code",
   "execution_count": 56,
   "id": "ee70eaf1-17e2-4aaf-bfad-493e3bbd5553",
   "metadata": {
    "ExecuteTime": {
     "end_time": "2023-10-23T21:24:22.770635038Z",
     "start_time": "2023-10-23T21:24:19.915412436Z"
    }
   },
   "outputs": [
    {
     "data": {
      "text/plain": [
       "(4, 2)"
      ]
     },
     "execution_count": 56,
     "metadata": {},
     "output_type": "execute_result"
    }
   ],
   "source": [
    "data.shape"
   ]
  },
  {
   "cell_type": "code",
   "execution_count": 57,
   "id": "3b23ceed-faef-4549-b70e-7041deaa19c4",
   "metadata": {
    "ExecuteTime": {
     "end_time": "2023-10-23T21:24:22.770952128Z",
     "start_time": "2023-10-23T21:24:19.959054118Z"
    }
   },
   "outputs": [
    {
     "data": {
      "text/html": [
       "<div>\n",
       "<style scoped>\n",
       "    .dataframe tbody tr th:only-of-type {\n",
       "        vertical-align: middle;\n",
       "    }\n",
       "\n",
       "    .dataframe tbody tr th {\n",
       "        vertical-align: top;\n",
       "    }\n",
       "\n",
       "    .dataframe thead th {\n",
       "        text-align: right;\n",
       "    }\n",
       "</style>\n",
       "<table border=\"1\" class=\"dataframe\">\n",
       "  <thead>\n",
       "    <tr style=\"text-align: right;\">\n",
       "      <th></th>\n",
       "      <th>population</th>\n",
       "      <th>capital</th>\n",
       "    </tr>\n",
       "    <tr>\n",
       "      <th>country</th>\n",
       "      <th></th>\n",
       "      <th></th>\n",
       "    </tr>\n",
       "  </thead>\n",
       "  <tbody>\n",
       "    <tr>\n",
       "      <th>Austria</th>\n",
       "      <td>8902600</td>\n",
       "      <td>Vienna</td>\n",
       "    </tr>\n",
       "    <tr>\n",
       "      <th>Germany</th>\n",
       "      <td>83149300</td>\n",
       "      <td>Berlin</td>\n",
       "    </tr>\n",
       "  </tbody>\n",
       "</table>\n",
       "</div>"
      ],
      "text/plain": [
       "         population capital\n",
       "country                    \n",
       "Austria     8902600  Vienna\n",
       "Germany    83149300  Berlin"
      ]
     },
     "execution_count": 57,
     "metadata": {},
     "output_type": "execute_result"
    }
   ],
   "source": [
    "data.head(2)  # 5 by default"
   ]
  },
  {
   "cell_type": "code",
   "execution_count": 58,
   "id": "e039489c-1567-4c7c-a422-51b3fad6f692",
   "metadata": {
    "ExecuteTime": {
     "end_time": "2023-10-23T21:24:22.771140157Z",
     "start_time": "2023-10-23T21:24:19.959261149Z"
    }
   },
   "outputs": [
    {
     "name": "stdout",
     "output_type": "stream",
     "text": [
      "columns\t Index(['population', 'capital'], dtype='object')\n",
      "keys\t Index(['population', 'capital'], dtype='object')\n",
      "index\t Index(['Austria', 'Germany', 'Croatia', 'Chile'], dtype='object', name='country')\n"
     ]
    }
   ],
   "source": [
    "print(\"columns\\t\", data.columns)\n",
    "print(\"keys\\t\", data.keys())\n",
    "print(\"index\\t\", data.index)"
   ]
  },
  {
   "cell_type": "markdown",
   "id": "e7131d0b-8898-4e4d-b490-33901fd6e5d4",
   "metadata": {},
   "source": [
    "### indexing, slicing, attribute access"
   ]
  },
  {
   "cell_type": "code",
   "execution_count": 59,
   "id": "50623f00-53ef-42c4-88f8-7063c5655abf",
   "metadata": {
    "ExecuteTime": {
     "end_time": "2023-10-23T21:24:22.771338301Z",
     "start_time": "2023-10-23T21:24:19.959401781Z"
    }
   },
   "outputs": [
    {
     "data": {
      "text/plain": [
       "country\n",
       "Austria     8902600\n",
       "Germany    83149300\n",
       "Croatia     4076246\n",
       "Chile      17574003\n",
       "Name: population, dtype: int64"
      ]
     },
     "execution_count": 59,
     "metadata": {},
     "output_type": "execute_result"
    }
   ],
   "source": [
    "# dictionary style\n",
    "data[\"population\"]"
   ]
  },
  {
   "cell_type": "code",
   "execution_count": 60,
   "id": "b4136e65-4d26-4196-bfa2-be77cf458f75",
   "metadata": {
    "ExecuteTime": {
     "end_time": "2023-10-23T21:24:22.771534833Z",
     "start_time": "2023-10-23T21:24:19.959526774Z"
    }
   },
   "outputs": [
    {
     "data": {
      "text/plain": [
       "country\n",
       "Austria     8902600\n",
       "Germany    83149300\n",
       "Croatia     4076246\n",
       "Chile      17574003\n",
       "Name: population, dtype: int64"
      ]
     },
     "execution_count": 60,
     "metadata": {},
     "output_type": "execute_result"
    }
   ],
   "source": [
    "# object\n",
    "data.population"
   ]
  },
  {
   "cell_type": "code",
   "execution_count": 61,
   "id": "b48ee723-827c-45cd-8b48-7d0af0f43f7e",
   "metadata": {
    "ExecuteTime": {
     "end_time": "2023-10-23T21:24:22.771740026Z",
     "start_time": "2023-10-23T21:24:19.959666079Z"
    }
   },
   "outputs": [
    {
     "data": {
      "text/plain": [
       "np.int64(8902600)"
      ]
     },
     "execution_count": 61,
     "metadata": {},
     "output_type": "execute_result"
    }
   ],
   "source": [
    "data[\"population\"][\"Austria\"]"
   ]
  },
  {
   "cell_type": "code",
   "execution_count": 62,
   "id": "f00858f3-b276-4744-bed2-eebb085865bc",
   "metadata": {
    "ExecuteTime": {
     "end_time": "2023-10-23T21:24:22.771922233Z",
     "start_time": "2023-10-23T21:24:20.003109861Z"
    }
   },
   "outputs": [
    {
     "data": {
      "text/plain": [
       "np.int64(8902600)"
      ]
     },
     "execution_count": 62,
     "metadata": {},
     "output_type": "execute_result"
    }
   ],
   "source": [
    "data.population.Austria"
   ]
  },
  {
   "cell_type": "code",
   "execution_count": 63,
   "id": "0f63cf0b-446a-495d-a89d-9689304668f5",
   "metadata": {
    "ExecuteTime": {
     "end_time": "2023-10-23T21:24:22.825982614Z",
     "start_time": "2023-10-23T21:24:20.003376990Z"
    }
   },
   "outputs": [
    {
     "data": {
      "text/plain": [
       "population    83149300\n",
       "capital         Berlin\n",
       "Name: Germany, dtype: object"
      ]
     },
     "execution_count": 63,
     "metadata": {},
     "output_type": "execute_result"
    }
   ],
   "source": [
    "# indexing with loc\n",
    "data.loc[\"Germany\"]"
   ]
  },
  {
   "cell_type": "code",
   "execution_count": 64,
   "id": "9c2c55fa-1298-4d84-871b-00c58125453b",
   "metadata": {
    "ExecuteTime": {
     "end_time": "2023-10-23T21:24:22.826393300Z",
     "start_time": "2023-10-23T21:24:20.003577719Z"
    }
   },
   "outputs": [
    {
     "data": {
      "text/plain": [
       "'Berlin'"
      ]
     },
     "execution_count": 64,
     "metadata": {},
     "output_type": "execute_result"
    }
   ],
   "source": [
    "data.loc[\"Germany\", \"capital\"]"
   ]
  },
  {
   "cell_type": "code",
   "execution_count": 65,
   "id": "4a2f190e-eefc-4207-9f39-4e742d8ce7e7",
   "metadata": {
    "ExecuteTime": {
     "end_time": "2023-10-23T21:24:22.826596708Z",
     "start_time": "2023-10-23T21:24:20.003726708Z"
    }
   },
   "outputs": [
    {
     "data": {
      "text/plain": [
       "population    83149300\n",
       "capital         Berlin\n",
       "Name: Germany, dtype: object"
      ]
     },
     "execution_count": 65,
     "metadata": {},
     "output_type": "execute_result"
    }
   ],
   "source": [
    "data.loc[\"Germany\", :]"
   ]
  },
  {
   "cell_type": "code",
   "execution_count": 66,
   "id": "ac06c504-751e-4cd0-97ea-a0a227b5c3e9",
   "metadata": {
    "ExecuteTime": {
     "end_time": "2023-10-23T21:24:22.826782170Z",
     "start_time": "2023-10-23T21:24:20.003865678Z"
    }
   },
   "outputs": [
    {
     "data": {
      "text/plain": [
       "country\n",
       "Croatia      Zagreb\n",
       "Chile      Santiago\n",
       "Name: capital, dtype: object"
      ]
     },
     "execution_count": 66,
     "metadata": {},
     "output_type": "execute_result"
    }
   ],
   "source": [
    "data.loc[[\"Croatia\", \"Chile\"], \"capital\"]"
   ]
  },
  {
   "cell_type": "code",
   "execution_count": 67,
   "id": "79e704f8-54c2-430a-b0dd-2f9b00ec26f0",
   "metadata": {
    "ExecuteTime": {
     "end_time": "2023-10-23T21:24:22.826981800Z",
     "start_time": "2023-10-23T21:24:20.004027077Z"
    }
   },
   "outputs": [
    {
     "data": {
      "text/plain": [
       "population    83149300\n",
       "capital         Berlin\n",
       "Name: Germany, dtype: object"
      ]
     },
     "execution_count": 67,
     "metadata": {},
     "output_type": "execute_result"
    }
   ],
   "source": [
    "# indexing with loc\n",
    "data.iloc[1]"
   ]
  },
  {
   "cell_type": "code",
   "execution_count": 68,
   "id": "ff69a6ff-6e71-4979-bfa4-5b5eb5f29e62",
   "metadata": {
    "ExecuteTime": {
     "end_time": "2023-10-23T21:24:22.827196557Z",
     "start_time": "2023-10-23T21:24:20.047171368Z"
    }
   },
   "outputs": [
    {
     "data": {
      "text/plain": [
       "country\n",
       "Germany      Berlin\n",
       "Croatia      Zagreb\n",
       "Chile      Santiago\n",
       "Name: capital, dtype: object"
      ]
     },
     "execution_count": 68,
     "metadata": {},
     "output_type": "execute_result"
    }
   ],
   "source": [
    "data.iloc[1:, 1]"
   ]
  },
  {
   "cell_type": "code",
   "execution_count": 69,
   "id": "c23db3aa-414f-4b25-b011-37e2a3f149d9",
   "metadata": {
    "ExecuteTime": {
     "end_time": "2023-10-23T21:24:22.827543296Z",
     "start_time": "2023-10-23T21:24:20.047420747Z"
    }
   },
   "outputs": [
    {
     "data": {
      "text/html": [
       "<div>\n",
       "<style scoped>\n",
       "    .dataframe tbody tr th:only-of-type {\n",
       "        vertical-align: middle;\n",
       "    }\n",
       "\n",
       "    .dataframe tbody tr th {\n",
       "        vertical-align: top;\n",
       "    }\n",
       "\n",
       "    .dataframe thead th {\n",
       "        text-align: right;\n",
       "    }\n",
       "</style>\n",
       "<table border=\"1\" class=\"dataframe\">\n",
       "  <thead>\n",
       "    <tr style=\"text-align: right;\">\n",
       "      <th></th>\n",
       "      <th>population</th>\n",
       "      <th>capital</th>\n",
       "    </tr>\n",
       "    <tr>\n",
       "      <th>country</th>\n",
       "      <th></th>\n",
       "      <th></th>\n",
       "    </tr>\n",
       "  </thead>\n",
       "  <tbody>\n",
       "    <tr>\n",
       "      <th>Austria</th>\n",
       "      <td>8902600</td>\n",
       "      <td>Vienna</td>\n",
       "    </tr>\n",
       "    <tr>\n",
       "      <th>Germany</th>\n",
       "      <td>83149300</td>\n",
       "      <td>Berlin</td>\n",
       "    </tr>\n",
       "  </tbody>\n",
       "</table>\n",
       "</div>"
      ],
      "text/plain": [
       "         population capital\n",
       "country                    \n",
       "Austria     8902600  Vienna\n",
       "Germany    83149300  Berlin"
      ]
     },
     "execution_count": 69,
     "metadata": {},
     "output_type": "execute_result"
    }
   ],
   "source": [
    "data.iloc[0:2, [0, 1]]"
   ]
  },
  {
   "cell_type": "code",
   "execution_count": 70,
   "id": "6cd8bc1c-e05f-4471-a755-ec9dd5de3e49",
   "metadata": {
    "ExecuteTime": {
     "end_time": "2023-10-23T21:24:22.827901307Z",
     "start_time": "2023-10-23T21:24:20.047640442Z"
    }
   },
   "outputs": [
    {
     "data": {
      "text/html": [
       "<div>\n",
       "<style scoped>\n",
       "    .dataframe tbody tr th:only-of-type {\n",
       "        vertical-align: middle;\n",
       "    }\n",
       "\n",
       "    .dataframe tbody tr th {\n",
       "        vertical-align: top;\n",
       "    }\n",
       "\n",
       "    .dataframe thead th {\n",
       "        text-align: right;\n",
       "    }\n",
       "</style>\n",
       "<table border=\"1\" class=\"dataframe\">\n",
       "  <thead>\n",
       "    <tr style=\"text-align: right;\">\n",
       "      <th></th>\n",
       "      <th>population</th>\n",
       "      <th>capital</th>\n",
       "    </tr>\n",
       "    <tr>\n",
       "      <th>country</th>\n",
       "      <th></th>\n",
       "      <th></th>\n",
       "    </tr>\n",
       "  </thead>\n",
       "  <tbody>\n",
       "    <tr>\n",
       "      <th>Austria</th>\n",
       "      <td>8902600</td>\n",
       "      <td>Vienna</td>\n",
       "    </tr>\n",
       "    <tr>\n",
       "      <th>Germany</th>\n",
       "      <td>83149300</td>\n",
       "      <td>Berlin</td>\n",
       "    </tr>\n",
       "  </tbody>\n",
       "</table>\n",
       "</div>"
      ],
      "text/plain": [
       "         population capital\n",
       "country                    \n",
       "Austria     8902600  Vienna\n",
       "Germany    83149300  Berlin"
      ]
     },
     "execution_count": 70,
     "metadata": {},
     "output_type": "execute_result"
    }
   ],
   "source": [
    "data[:2]"
   ]
  },
  {
   "cell_type": "markdown",
   "id": "336dab80-0305-4206-9417-c7f0d189bdf2",
   "metadata": {},
   "source": [
    "### assigning values"
   ]
  },
  {
   "cell_type": "code",
   "execution_count": 71,
   "id": "4d79128c-644c-493b-8bc6-3b7bbf1b2861",
   "metadata": {
    "ExecuteTime": {
     "end_time": "2023-10-23T21:24:22.828187398Z",
     "start_time": "2023-10-23T21:24:20.047798255Z"
    }
   },
   "outputs": [
    {
     "data": {
      "text/html": [
       "<div>\n",
       "<style scoped>\n",
       "    .dataframe tbody tr th:only-of-type {\n",
       "        vertical-align: middle;\n",
       "    }\n",
       "\n",
       "    .dataframe tbody tr th {\n",
       "        vertical-align: top;\n",
       "    }\n",
       "\n",
       "    .dataframe thead th {\n",
       "        text-align: right;\n",
       "    }\n",
       "</style>\n",
       "<table border=\"1\" class=\"dataframe\">\n",
       "  <thead>\n",
       "    <tr style=\"text-align: right;\">\n",
       "      <th></th>\n",
       "      <th>population</th>\n",
       "      <th>capital</th>\n",
       "    </tr>\n",
       "    <tr>\n",
       "      <th>country</th>\n",
       "      <th></th>\n",
       "      <th></th>\n",
       "    </tr>\n",
       "  </thead>\n",
       "  <tbody>\n",
       "    <tr>\n",
       "      <th>Austria</th>\n",
       "      <td>8902600</td>\n",
       "      <td>Vienna</td>\n",
       "    </tr>\n",
       "    <tr>\n",
       "      <th>Germany</th>\n",
       "      <td>83149300</td>\n",
       "      <td>Berlin</td>\n",
       "    </tr>\n",
       "    <tr>\n",
       "      <th>Croatia</th>\n",
       "      <td>4076246</td>\n",
       "      <td>Zagreb</td>\n",
       "    </tr>\n",
       "    <tr>\n",
       "      <th>Chile</th>\n",
       "      <td>17574003</td>\n",
       "      <td>Santiago</td>\n",
       "    </tr>\n",
       "  </tbody>\n",
       "</table>\n",
       "</div>"
      ],
      "text/plain": [
       "         population   capital\n",
       "country                      \n",
       "Austria     8902600    Vienna\n",
       "Germany    83149300    Berlin\n",
       "Croatia     4076246    Zagreb\n",
       "Chile      17574003  Santiago"
      ]
     },
     "execution_count": 71,
     "metadata": {},
     "output_type": "execute_result"
    }
   ],
   "source": [
    "data_orig = data.copy()\n",
    "df = data\n",
    "df"
   ]
  },
  {
   "cell_type": "code",
   "execution_count": 72,
   "id": "5f48d1fe-9e5a-4689-b30b-12dd3c5f2030",
   "metadata": {
    "ExecuteTime": {
     "end_time": "2023-10-23T21:24:22.828596622Z",
     "start_time": "2023-10-23T21:24:20.050603587Z"
    }
   },
   "outputs": [
    {
     "name": "stdout",
     "output_type": "stream",
     "text": [
      "8902600\n",
      "10000000\n"
     ]
    },
    {
     "data": {
      "text/html": [
       "<div>\n",
       "<style scoped>\n",
       "    .dataframe tbody tr th:only-of-type {\n",
       "        vertical-align: middle;\n",
       "    }\n",
       "\n",
       "    .dataframe tbody tr th {\n",
       "        vertical-align: top;\n",
       "    }\n",
       "\n",
       "    .dataframe thead th {\n",
       "        text-align: right;\n",
       "    }\n",
       "</style>\n",
       "<table border=\"1\" class=\"dataframe\">\n",
       "  <thead>\n",
       "    <tr style=\"text-align: right;\">\n",
       "      <th></th>\n",
       "      <th>population</th>\n",
       "      <th>capital</th>\n",
       "    </tr>\n",
       "    <tr>\n",
       "      <th>country</th>\n",
       "      <th></th>\n",
       "      <th></th>\n",
       "    </tr>\n",
       "  </thead>\n",
       "  <tbody>\n",
       "    <tr>\n",
       "      <th>Austria</th>\n",
       "      <td>10000000</td>\n",
       "      <td>Vienna</td>\n",
       "    </tr>\n",
       "    <tr>\n",
       "      <th>Germany</th>\n",
       "      <td>83149300</td>\n",
       "      <td>Berlin</td>\n",
       "    </tr>\n",
       "    <tr>\n",
       "      <th>Croatia</th>\n",
       "      <td>4076246</td>\n",
       "      <td>Zagreb</td>\n",
       "    </tr>\n",
       "    <tr>\n",
       "      <th>Chile</th>\n",
       "      <td>17574003</td>\n",
       "      <td>Santiago</td>\n",
       "    </tr>\n",
       "  </tbody>\n",
       "</table>\n",
       "</div>"
      ],
      "text/plain": [
       "         population   capital\n",
       "country                      \n",
       "Austria    10000000    Vienna\n",
       "Germany    83149300    Berlin\n",
       "Croatia     4076246    Zagreb\n",
       "Chile      17574003  Santiago"
      ]
     },
     "execution_count": 72,
     "metadata": {},
     "output_type": "execute_result"
    }
   ],
   "source": [
    "print(df.iloc[0, 0])\n",
    "df.iloc[0, 0] = 10000000\n",
    "print(df.iloc[0, 0])\n",
    "df"
   ]
  },
  {
   "cell_type": "code",
   "execution_count": 73,
   "id": "e1dce743-fb6b-458c-9663-d21cdbefe1ff",
   "metadata": {
    "ExecuteTime": {
     "end_time": "2023-10-23T21:24:22.828881378Z",
     "start_time": "2023-10-23T21:24:20.095184373Z"
    }
   },
   "outputs": [
    {
     "data": {
      "text/html": [
       "<div>\n",
       "<style scoped>\n",
       "    .dataframe tbody tr th:only-of-type {\n",
       "        vertical-align: middle;\n",
       "    }\n",
       "\n",
       "    .dataframe tbody tr th {\n",
       "        vertical-align: top;\n",
       "    }\n",
       "\n",
       "    .dataframe thead th {\n",
       "        text-align: right;\n",
       "    }\n",
       "</style>\n",
       "<table border=\"1\" class=\"dataframe\">\n",
       "  <thead>\n",
       "    <tr style=\"text-align: right;\">\n",
       "      <th></th>\n",
       "      <th>population</th>\n",
       "      <th>capital</th>\n",
       "      <th>newcol</th>\n",
       "    </tr>\n",
       "    <tr>\n",
       "      <th>country</th>\n",
       "      <th></th>\n",
       "      <th></th>\n",
       "      <th></th>\n",
       "    </tr>\n",
       "  </thead>\n",
       "  <tbody>\n",
       "    <tr>\n",
       "      <th>Austria</th>\n",
       "      <td>10000000</td>\n",
       "      <td>Vienna</td>\n",
       "      <td>a</td>\n",
       "    </tr>\n",
       "    <tr>\n",
       "      <th>Germany</th>\n",
       "      <td>83149300</td>\n",
       "      <td>Berlin</td>\n",
       "      <td>a</td>\n",
       "    </tr>\n",
       "    <tr>\n",
       "      <th>Croatia</th>\n",
       "      <td>4076246</td>\n",
       "      <td>Zagreb</td>\n",
       "      <td>a</td>\n",
       "    </tr>\n",
       "    <tr>\n",
       "      <th>Chile</th>\n",
       "      <td>17574003</td>\n",
       "      <td>Santiago</td>\n",
       "      <td>a</td>\n",
       "    </tr>\n",
       "  </tbody>\n",
       "</table>\n",
       "</div>"
      ],
      "text/plain": [
       "         population   capital newcol\n",
       "country                             \n",
       "Austria    10000000    Vienna      a\n",
       "Germany    83149300    Berlin      a\n",
       "Croatia     4076246    Zagreb      a\n",
       "Chile      17574003  Santiago      a"
      ]
     },
     "execution_count": 73,
     "metadata": {},
     "output_type": "execute_result"
    }
   ],
   "source": [
    "# df.newcol = 100 this does not work!\n",
    "df[\"newcol\"] = \"a\"\n",
    "df"
   ]
  },
  {
   "cell_type": "code",
   "execution_count": 74,
   "id": "b9c37105089fbf31",
   "metadata": {
    "ExecuteTime": {
     "end_time": "2023-10-23T21:24:22.829169824Z",
     "start_time": "2023-10-23T21:24:20.095474047Z"
    },
    "collapsed": false
   },
   "outputs": [
    {
     "data": {
      "text/html": [
       "<div>\n",
       "<style scoped>\n",
       "    .dataframe tbody tr th:only-of-type {\n",
       "        vertical-align: middle;\n",
       "    }\n",
       "\n",
       "    .dataframe tbody tr th {\n",
       "        vertical-align: top;\n",
       "    }\n",
       "\n",
       "    .dataframe thead th {\n",
       "        text-align: right;\n",
       "    }\n",
       "</style>\n",
       "<table border=\"1\" class=\"dataframe\">\n",
       "  <thead>\n",
       "    <tr style=\"text-align: right;\">\n",
       "      <th></th>\n",
       "      <th>population</th>\n",
       "      <th>capital</th>\n",
       "      <th>newcol</th>\n",
       "    </tr>\n",
       "    <tr>\n",
       "      <th>country</th>\n",
       "      <th></th>\n",
       "      <th></th>\n",
       "      <th></th>\n",
       "    </tr>\n",
       "  </thead>\n",
       "  <tbody>\n",
       "    <tr>\n",
       "      <th>Austria</th>\n",
       "      <td>10000000</td>\n",
       "      <td>Vienna</td>\n",
       "      <td>a</td>\n",
       "    </tr>\n",
       "    <tr>\n",
       "      <th>Germany</th>\n",
       "      <td>83149300</td>\n",
       "      <td>Berlin</td>\n",
       "      <td>a</td>\n",
       "    </tr>\n",
       "    <tr>\n",
       "      <th>Croatia</th>\n",
       "      <td>4076246</td>\n",
       "      <td>Zagreb</td>\n",
       "      <td>a</td>\n",
       "    </tr>\n",
       "    <tr>\n",
       "      <th>Chile</th>\n",
       "      <td>17574003</td>\n",
       "      <td>Santiago</td>\n",
       "      <td>a</td>\n",
       "    </tr>\n",
       "  </tbody>\n",
       "</table>\n",
       "</div>"
      ],
      "text/plain": [
       "         population   capital newcol\n",
       "country                             \n",
       "Austria    10000000    Vienna      a\n",
       "Germany    83149300    Berlin      a\n",
       "Croatia     4076246    Zagreb      a\n",
       "Chile      17574003  Santiago      a"
      ]
     },
     "execution_count": 74,
     "metadata": {},
     "output_type": "execute_result"
    }
   ],
   "source": [
    "data"
   ]
  },
  {
   "cell_type": "code",
   "execution_count": 75,
   "id": "ae44ac15-beee-4d6c-a5e9-36cb969e957a",
   "metadata": {
    "ExecuteTime": {
     "end_time": "2023-10-23T21:24:22.829460826Z",
     "start_time": "2023-10-23T21:24:20.095763789Z"
    }
   },
   "outputs": [
    {
     "data": {
      "text/html": [
       "<div>\n",
       "<style scoped>\n",
       "    .dataframe tbody tr th:only-of-type {\n",
       "        vertical-align: middle;\n",
       "    }\n",
       "\n",
       "    .dataframe tbody tr th {\n",
       "        vertical-align: top;\n",
       "    }\n",
       "\n",
       "    .dataframe thead th {\n",
       "        text-align: right;\n",
       "    }\n",
       "</style>\n",
       "<table border=\"1\" class=\"dataframe\">\n",
       "  <thead>\n",
       "    <tr style=\"text-align: right;\">\n",
       "      <th></th>\n",
       "      <th>population</th>\n",
       "      <th>capital</th>\n",
       "    </tr>\n",
       "    <tr>\n",
       "      <th>country</th>\n",
       "      <th></th>\n",
       "      <th></th>\n",
       "    </tr>\n",
       "  </thead>\n",
       "  <tbody>\n",
       "    <tr>\n",
       "      <th>Austria</th>\n",
       "      <td>8902600</td>\n",
       "      <td>Vienna</td>\n",
       "    </tr>\n",
       "    <tr>\n",
       "      <th>Germany</th>\n",
       "      <td>83149300</td>\n",
       "      <td>Berlin</td>\n",
       "    </tr>\n",
       "    <tr>\n",
       "      <th>Croatia</th>\n",
       "      <td>4076246</td>\n",
       "      <td>Zagreb</td>\n",
       "    </tr>\n",
       "    <tr>\n",
       "      <th>Chile</th>\n",
       "      <td>17574003</td>\n",
       "      <td>Santiago</td>\n",
       "    </tr>\n",
       "  </tbody>\n",
       "</table>\n",
       "</div>"
      ],
      "text/plain": [
       "         population   capital\n",
       "country                      \n",
       "Austria     8902600    Vienna\n",
       "Germany    83149300    Berlin\n",
       "Croatia     4076246    Zagreb\n",
       "Chile      17574003  Santiago"
      ]
     },
     "execution_count": 75,
     "metadata": {},
     "output_type": "execute_result"
    }
   ],
   "source": [
    "data_orig"
   ]
  },
  {
   "cell_type": "markdown",
   "id": "d7aea9c3-f65f-4fac-b870-7fb7977edb25",
   "metadata": {},
   "source": [
    "### some simple operations"
   ]
  },
  {
   "cell_type": "code",
   "execution_count": 76,
   "id": "f1fde936-b35d-4ca1-8ee1-b1660305410b",
   "metadata": {
    "ExecuteTime": {
     "end_time": "2023-10-23T21:24:22.829557720Z",
     "start_time": "2023-10-23T21:24:20.096094702Z"
    }
   },
   "outputs": [],
   "source": [
    "df = data_orig.copy()"
   ]
  },
  {
   "cell_type": "code",
   "execution_count": 77,
   "id": "dcc9877b-b2e7-4575-9907-55e3dd685d36",
   "metadata": {
    "ExecuteTime": {
     "end_time": "2023-10-23T21:24:22.829820917Z",
     "start_time": "2023-10-23T21:24:20.139126369Z"
    }
   },
   "outputs": [
    {
     "data": {
      "text/plain": [
       "population    28425537.25\n",
       "dtype: float64"
      ]
     },
     "execution_count": 77,
     "metadata": {},
     "output_type": "execute_result"
    }
   ],
   "source": [
    "# NOTE: future versions of pandas will raise the following warning\n",
    "# FutureWarning: The default value of numeric_only in DataFrame.mean is deprecated.\n",
    "# The idea is to explicitly say that the mean should be calculated only for numeric columns\n",
    "# ignoring NaN values (if any)\n",
    "df.mean(numeric_only=True)"
   ]
  },
  {
   "cell_type": "code",
   "execution_count": 78,
   "id": "dffdecca-330d-4078-8213-7a63ac6eef29",
   "metadata": {
    "ExecuteTime": {
     "end_time": "2023-10-23T21:24:22.830007374Z",
     "start_time": "2023-10-23T21:24:20.139381178Z"
    }
   },
   "outputs": [
    {
     "data": {
      "text/plain": [
       "population    4076246\n",
       "capital        Berlin\n",
       "dtype: object"
      ]
     },
     "execution_count": 78,
     "metadata": {},
     "output_type": "execute_result"
    }
   ],
   "source": [
    "df.min()"
   ]
  },
  {
   "cell_type": "code",
   "execution_count": 79,
   "id": "59c1a7e3-ba97-4503-9855-de12b41532aa",
   "metadata": {
    "ExecuteTime": {
     "end_time": "2023-10-23T21:24:22.830186119Z",
     "start_time": "2023-10-23T21:24:20.139516955Z"
    }
   },
   "outputs": [
    {
     "data": {
      "text/plain": [
       "population    83149300\n",
       "capital         Zagreb\n",
       "dtype: object"
      ]
     },
     "execution_count": 79,
     "metadata": {},
     "output_type": "execute_result"
    }
   ],
   "source": [
    "df.max()"
   ]
  },
  {
   "cell_type": "code",
   "execution_count": 80,
   "id": "eca00540-b3da-4c04-add6-bea49958a272",
   "metadata": {
    "ExecuteTime": {
     "end_time": "2023-10-23T21:24:22.830440798Z",
     "start_time": "2023-10-23T21:24:20.139662138Z"
    }
   },
   "outputs": [
    {
     "data": {
      "text/plain": [
       "population    13238301.5\n",
       "dtype: float64"
      ]
     },
     "execution_count": 80,
     "metadata": {},
     "output_type": "execute_result"
    }
   ],
   "source": [
    "df.median(numeric_only=True)"
   ]
  },
  {
   "cell_type": "code",
   "execution_count": 81,
   "id": "2527ce3e-9f13-4a08-b81b-5db39ed492aa",
   "metadata": {
    "ExecuteTime": {
     "end_time": "2023-10-23T21:24:22.830742683Z",
     "start_time": "2023-10-23T21:24:20.139841126Z"
    }
   },
   "outputs": [
    {
     "data": {
      "text/html": [
       "<div>\n",
       "<style scoped>\n",
       "    .dataframe tbody tr th:only-of-type {\n",
       "        vertical-align: middle;\n",
       "    }\n",
       "\n",
       "    .dataframe tbody tr th {\n",
       "        vertical-align: top;\n",
       "    }\n",
       "\n",
       "    .dataframe thead th {\n",
       "        text-align: right;\n",
       "    }\n",
       "</style>\n",
       "<table border=\"1\" class=\"dataframe\">\n",
       "  <thead>\n",
       "    <tr style=\"text-align: right;\">\n",
       "      <th></th>\n",
       "      <th>population</th>\n",
       "    </tr>\n",
       "  </thead>\n",
       "  <tbody>\n",
       "    <tr>\n",
       "      <th>count</th>\n",
       "      <td>4.000000e+00</td>\n",
       "    </tr>\n",
       "    <tr>\n",
       "      <th>mean</th>\n",
       "      <td>2.842554e+07</td>\n",
       "    </tr>\n",
       "    <tr>\n",
       "      <th>std</th>\n",
       "      <td>3.690745e+07</td>\n",
       "    </tr>\n",
       "    <tr>\n",
       "      <th>min</th>\n",
       "      <td>4.076246e+06</td>\n",
       "    </tr>\n",
       "    <tr>\n",
       "      <th>25%</th>\n",
       "      <td>7.696012e+06</td>\n",
       "    </tr>\n",
       "    <tr>\n",
       "      <th>50%</th>\n",
       "      <td>1.323830e+07</td>\n",
       "    </tr>\n",
       "    <tr>\n",
       "      <th>75%</th>\n",
       "      <td>3.396783e+07</td>\n",
       "    </tr>\n",
       "    <tr>\n",
       "      <th>max</th>\n",
       "      <td>8.314930e+07</td>\n",
       "    </tr>\n",
       "  </tbody>\n",
       "</table>\n",
       "</div>"
      ],
      "text/plain": [
       "         population\n",
       "count  4.000000e+00\n",
       "mean   2.842554e+07\n",
       "std    3.690745e+07\n",
       "min    4.076246e+06\n",
       "25%    7.696012e+06\n",
       "50%    1.323830e+07\n",
       "75%    3.396783e+07\n",
       "max    8.314930e+07"
      ]
     },
     "execution_count": 81,
     "metadata": {},
     "output_type": "execute_result"
    }
   ],
   "source": [
    "df.describe()"
   ]
  },
  {
   "cell_type": "code",
   "execution_count": 82,
   "id": "8c5be0cd-df09-44dc-baa7-f4cce2b87be2",
   "metadata": {
    "ExecuteTime": {
     "end_time": "2023-10-23T21:24:22.831041268Z",
     "start_time": "2023-10-23T21:24:20.147786128Z"
    }
   },
   "outputs": [
    {
     "data": {
      "text/html": [
       "<div>\n",
       "<style scoped>\n",
       "    .dataframe tbody tr th:only-of-type {\n",
       "        vertical-align: middle;\n",
       "    }\n",
       "\n",
       "    .dataframe tbody tr th {\n",
       "        vertical-align: top;\n",
       "    }\n",
       "\n",
       "    .dataframe thead th {\n",
       "        text-align: right;\n",
       "    }\n",
       "</style>\n",
       "<table border=\"1\" class=\"dataframe\">\n",
       "  <thead>\n",
       "    <tr style=\"text-align: right;\">\n",
       "      <th></th>\n",
       "      <th>population</th>\n",
       "      <th>capital</th>\n",
       "    </tr>\n",
       "    <tr>\n",
       "      <th>country</th>\n",
       "      <th></th>\n",
       "      <th></th>\n",
       "    </tr>\n",
       "  </thead>\n",
       "  <tbody>\n",
       "    <tr>\n",
       "      <th>Croatia</th>\n",
       "      <td>4076246</td>\n",
       "      <td>Zagreb</td>\n",
       "    </tr>\n",
       "    <tr>\n",
       "      <th>Austria</th>\n",
       "      <td>8902600</td>\n",
       "      <td>Vienna</td>\n",
       "    </tr>\n",
       "    <tr>\n",
       "      <th>Chile</th>\n",
       "      <td>17574003</td>\n",
       "      <td>Santiago</td>\n",
       "    </tr>\n",
       "    <tr>\n",
       "      <th>Germany</th>\n",
       "      <td>83149300</td>\n",
       "      <td>Berlin</td>\n",
       "    </tr>\n",
       "  </tbody>\n",
       "</table>\n",
       "</div>"
      ],
      "text/plain": [
       "         population   capital\n",
       "country                      \n",
       "Croatia     4076246    Zagreb\n",
       "Austria     8902600    Vienna\n",
       "Chile      17574003  Santiago\n",
       "Germany    83149300    Berlin"
      ]
     },
     "execution_count": 82,
     "metadata": {},
     "output_type": "execute_result"
    }
   ],
   "source": [
    "df.sort_values(\"population\")"
   ]
  },
  {
   "cell_type": "code",
   "execution_count": 83,
   "id": "1fec9750-5b26-439f-8090-69f55fc3dc31",
   "metadata": {
    "ExecuteTime": {
     "end_time": "2023-10-23T21:24:22.865367460Z",
     "start_time": "2023-10-23T21:24:20.156764563Z"
    }
   },
   "outputs": [
    {
     "data": {
      "text/html": [
       "<div>\n",
       "<style scoped>\n",
       "    .dataframe tbody tr th:only-of-type {\n",
       "        vertical-align: middle;\n",
       "    }\n",
       "\n",
       "    .dataframe tbody tr th {\n",
       "        vertical-align: top;\n",
       "    }\n",
       "\n",
       "    .dataframe thead th {\n",
       "        text-align: right;\n",
       "    }\n",
       "</style>\n",
       "<table border=\"1\" class=\"dataframe\">\n",
       "  <thead>\n",
       "    <tr style=\"text-align: right;\">\n",
       "      <th></th>\n",
       "      <th>population</th>\n",
       "      <th>capital</th>\n",
       "    </tr>\n",
       "    <tr>\n",
       "      <th>country</th>\n",
       "      <th></th>\n",
       "      <th></th>\n",
       "    </tr>\n",
       "  </thead>\n",
       "  <tbody>\n",
       "    <tr>\n",
       "      <th>Germany</th>\n",
       "      <td>83149300</td>\n",
       "      <td>Berlin</td>\n",
       "    </tr>\n",
       "    <tr>\n",
       "      <th>Chile</th>\n",
       "      <td>17574003</td>\n",
       "      <td>Santiago</td>\n",
       "    </tr>\n",
       "    <tr>\n",
       "      <th>Austria</th>\n",
       "      <td>8902600</td>\n",
       "      <td>Vienna</td>\n",
       "    </tr>\n",
       "    <tr>\n",
       "      <th>Croatia</th>\n",
       "      <td>4076246</td>\n",
       "      <td>Zagreb</td>\n",
       "    </tr>\n",
       "  </tbody>\n",
       "</table>\n",
       "</div>"
      ],
      "text/plain": [
       "         population   capital\n",
       "country                      \n",
       "Germany    83149300    Berlin\n",
       "Chile      17574003  Santiago\n",
       "Austria     8902600    Vienna\n",
       "Croatia     4076246    Zagreb"
      ]
     },
     "execution_count": 83,
     "metadata": {},
     "output_type": "execute_result"
    }
   ],
   "source": [
    "df.sort_values(\"population\", ascending=False)"
   ]
  },
  {
   "cell_type": "code",
   "execution_count": 84,
   "id": "5e9848a2-ac75-408f-aba3-f31041d0a73b",
   "metadata": {
    "ExecuteTime": {
     "end_time": "2023-10-23T21:24:22.866050282Z",
     "start_time": "2023-10-23T21:24:20.199058427Z"
    }
   },
   "outputs": [
    {
     "data": {
      "text/html": [
       "<div>\n",
       "<style scoped>\n",
       "    .dataframe tbody tr th:only-of-type {\n",
       "        vertical-align: middle;\n",
       "    }\n",
       "\n",
       "    .dataframe tbody tr th {\n",
       "        vertical-align: top;\n",
       "    }\n",
       "\n",
       "    .dataframe thead th {\n",
       "        text-align: right;\n",
       "    }\n",
       "</style>\n",
       "<table border=\"1\" class=\"dataframe\">\n",
       "  <thead>\n",
       "    <tr style=\"text-align: right;\">\n",
       "      <th></th>\n",
       "      <th>population</th>\n",
       "      <th>capital</th>\n",
       "    </tr>\n",
       "    <tr>\n",
       "      <th>country</th>\n",
       "      <th></th>\n",
       "      <th></th>\n",
       "    </tr>\n",
       "  </thead>\n",
       "  <tbody>\n",
       "    <tr>\n",
       "      <th>Austria</th>\n",
       "      <td>8902600</td>\n",
       "      <td>Vienna</td>\n",
       "    </tr>\n",
       "  </tbody>\n",
       "</table>\n",
       "</div>"
      ],
      "text/plain": [
       "         population capital\n",
       "country                    \n",
       "Austria     8902600  Vienna"
      ]
     },
     "execution_count": 84,
     "metadata": {},
     "output_type": "execute_result"
    }
   ],
   "source": [
    "df.drop([\"Germany\", \"Chile\", \"Croatia\"])"
   ]
  },
  {
   "cell_type": "code",
   "execution_count": 85,
   "id": "cd3ad56c-4e63-4cac-8c0b-53346d81a3d5",
   "metadata": {
    "ExecuteTime": {
     "end_time": "2023-10-23T21:24:22.866783819Z",
     "start_time": "2023-10-23T21:24:20.199238012Z"
    }
   },
   "outputs": [
    {
     "data": {
      "text/html": [
       "<div>\n",
       "<style scoped>\n",
       "    .dataframe tbody tr th:only-of-type {\n",
       "        vertical-align: middle;\n",
       "    }\n",
       "\n",
       "    .dataframe tbody tr th {\n",
       "        vertical-align: top;\n",
       "    }\n",
       "\n",
       "    .dataframe thead th {\n",
       "        text-align: right;\n",
       "    }\n",
       "</style>\n",
       "<table border=\"1\" class=\"dataframe\">\n",
       "  <thead>\n",
       "    <tr style=\"text-align: right;\">\n",
       "      <th></th>\n",
       "      <th>population</th>\n",
       "    </tr>\n",
       "    <tr>\n",
       "      <th>country</th>\n",
       "      <th></th>\n",
       "    </tr>\n",
       "  </thead>\n",
       "  <tbody>\n",
       "    <tr>\n",
       "      <th>Austria</th>\n",
       "      <td>8902600</td>\n",
       "    </tr>\n",
       "    <tr>\n",
       "      <th>Germany</th>\n",
       "      <td>83149300</td>\n",
       "    </tr>\n",
       "    <tr>\n",
       "      <th>Croatia</th>\n",
       "      <td>4076246</td>\n",
       "    </tr>\n",
       "    <tr>\n",
       "      <th>Chile</th>\n",
       "      <td>17574003</td>\n",
       "    </tr>\n",
       "  </tbody>\n",
       "</table>\n",
       "</div>"
      ],
      "text/plain": [
       "         population\n",
       "country            \n",
       "Austria     8902600\n",
       "Germany    83149300\n",
       "Croatia     4076246\n",
       "Chile      17574003"
      ]
     },
     "execution_count": 85,
     "metadata": {},
     "output_type": "execute_result"
    }
   ],
   "source": [
    "df.drop(\"capital\", axis=1)"
   ]
  },
  {
   "cell_type": "markdown",
   "id": "fa7505e1-cea1-4758-a4d8-3dc44348511f",
   "metadata": {},
   "source": [
    "### Plot"
   ]
  },
  {
   "cell_type": "code",
   "execution_count": 86,
   "id": "03b9b802-d3d9-43dd-b074-8cc4a8ce1e13",
   "metadata": {
    "ExecuteTime": {
     "end_time": "2023-10-23T21:24:22.871716412Z",
     "start_time": "2023-10-23T21:24:20.199335242Z"
    }
   },
   "outputs": [
    {
     "data": {
      "image/png": "[encoded data removed]",
      "text/plain": [
       "<Figure size 1600x300 with 4 Axes>"
      ]
     },
     "metadata": {},
     "output_type": "display_data"
    }
   ],
   "source": [
    "fig, ax = plt.subplots(figsize=(16, 3), ncols=4, nrows=1)\n",
    "df.plot(ax=ax[0])\n",
    "df.plot.bar(ax=ax[1])\n",
    "df.plot.box(ax=ax[2])\n",
    "df.plot.hist(ax=ax[3])\n",
    "plt.show()"
   ]
  },
  {
   "cell_type": "code",
   "execution_count": null,
   "id": "08264201-86fb-407c-b510-570b146a19f9",
   "metadata": {
    "ExecuteTime": {
     "end_time": "2023-10-23T21:24:22.871958729Z",
     "start_time": "2023-10-23T21:24:20.661051812Z"
    }
   },
   "outputs": [],
   "source": []
  }
 ],
 "metadata": {
  "kernelspec": {
   "display_name": ".venv",
   "language": "python",
   "name": "python3"
  },
  "language_info": {
   "codemirror_mode": {
    "name": "ipython",
    "version": 3
   },
   "file_extension": ".py",
   "mimetype": "text/x-python",
   "name": "python",
   "nbconvert_exporter": "python",
   "pygments_lexer": "ipython3",
   "version": "3.12.7"
  }
 },
 "nbformat": 4,
 "nbformat_minor": 5
}
