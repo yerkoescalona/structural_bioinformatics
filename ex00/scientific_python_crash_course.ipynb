{
 "cells": [
  {
   "cell_type": "markdown",
   "metadata": {},
   "source": [
    "# Scientific Python Crash Course for Structural Bioinformatics\n",
    "\n",
    "This crash course introduces the essential scientific Python libraries through structural bioinformatics examples.\n",
    "\n",
    "**Goal:** Learn NumPy, Plotly, SciPy, and Pandas by working with protein structure coordinates.\n",
    "\n",
    "**Context:** Proteins are 3D objects. We represent them as points (coordinates) in space. Today you'll learn to manipulate, analyze, and visualize these coordinates using Python's scientific computing tools."
   ]
  },
  {
   "cell_type": "code",
   "execution_count": 1,
   "metadata": {},
   "outputs": [],
   "source": [
    "# Check if running on Google Colab\n",
    "try:\n",
    "    from google.colab import drive\n",
    "\n",
    "    is_google_colab = True\n",
    "except ImportError:\n",
    "    is_google_colab = False\n",
    "\n",
    "# If on Google Colab, install packages\n",
    "if is_google_colab:\n",
    "    %pip install numpy==2.0.2 scipy==1.16.1 pandas==2.2.2 plotly==5.24.1"
   ]
  },
  {
   "cell_type": "code",
   "execution_count": 2,
   "metadata": {},
   "outputs": [],
   "source": [
    "import numpy as np\n",
    "import pandas as pd\n",
    "import scipy\n",
    "import plotly\n",
    "import plotly.graph_objects as go\n",
    "import plotly.express as px"
   ]
  },
  {
   "cell_type": "code",
   "execution_count": 3,
   "metadata": {},
   "outputs": [
    {
     "name": "stdout",
     "output_type": "stream",
     "text": [
      "Running on Google Colab: False\n",
      "numpy==2.0.2\n",
      "pandas==2.2.2\n",
      "scipy==1.16.1\n",
      "plotly==5.24.1\n"
     ]
    }
   ],
   "source": [
    "# Print versions\n",
    "print(f\"Running on Google Colab: {is_google_colab}\")\n",
    "print(f\"numpy=={np.__version__}\")\n",
    "print(f\"pandas=={pd.__version__}\")\n",
    "print(f\"scipy=={scipy.__version__}\")\n",
    "print(f\"plotly=={plotly.__version__}\")"
   ]
  },
  {
   "cell_type": "markdown",
   "metadata": {},
   "source": [
    "## Overview\n",
    "\n",
    "We'll cover:\n",
    "- **NumPy** - Working with 3D coordinates\n",
    "- **Plotly** - Interactive 3D visualizations (works everywhere!)\n",
    "- **SciPy** - Distance calculations and transformations\n",
    "- **Pandas** - Organizing residue properties"
   ]
  },
  {
   "cell_type": "markdown",
   "metadata": {},
   "source": [
    "---\n",
    "## NumPy - The Foundation of Scientific Computing\n",
    "\n",
    "[NumPy](https://numpy.org/) is the fundamental package for scientific computing with Python.\n",
    "\n",
    "**Why NumPy for structural bioinformatics?**\n",
    "- Proteins are 3D objects → we need multi-dimensional arrays\n",
    "- Operations on thousands of atoms → we need efficiency\n",
    "- Mathematical calculations (distances, angles, rotations) → we need convenient functions\n",
    "\n",
    "**Key concept:** NumPy arrays are like lists, but:\n",
    "- All elements must be the same type (usually numbers)\n",
    "- Operations work on entire arrays at once (vectorization)\n",
    "- Much faster for numerical computations"
   ]
  },
  {
   "cell_type": "markdown",
   "metadata": {},
   "source": [
    "### Creating Arrays: Protein Coordinates\n",
    "\n",
    "**Biological context:** Every atom in a protein has (x, y, z) coordinates in 3D space.\n",
    "\n",
    "The **CA (alpha carbon)** is the central carbon atom in each amino acid's backbone. It's commonly used to represent protein structure because:\n",
    "- One CA per amino acid (residue)\n",
    "- Traces the protein backbone path\n",
    "- Reduces complexity while preserving overall shape"
   ]
  },
  {
   "cell_type": "code",
   "execution_count": 4,
   "metadata": {},
   "outputs": [
    {
     "data": {
      "text/plain": [
       "array([[10.5, 12.3,  8.2],\n",
       "       [12.1, 15.8,  9.1],\n",
       "       [15.3, 17.2, 10.5],\n",
       "       [18.9, 19.1, 11.8],\n",
       "       [22.1, 20.5, 13.2]])"
      ]
     },
     "execution_count": 4,
     "metadata": {},
     "output_type": "execute_result"
    }
   ],
   "source": [
    "# Coordinates of CA atoms for 5 amino acids\n",
    "# Each row: [x, y, z] in Angstroms (Å)\n",
    "# Could be any 3D points: atoms, molecules, cells, etc.\n",
    "\n",
    "ca_coords = np.array(\n",
    "    [\n",
    "        [10.5, 12.3, 8.2],  # CA atom of residue 1\n",
    "        [12.1, 15.8, 9.1],  # CA atom of residue 2\n",
    "        [15.3, 17.2, 10.5],  # CA atom of residue 3\n",
    "        [18.9, 19.1, 11.8],  # CA atom of residue 4\n",
    "        [22.1, 20.5, 13.2],  # CA atom of residue 5\n",
    "    ]\n",
    ")\n",
    "\n",
    "ca_coords"
   ]
  },
  {
   "cell_type": "code",
   "execution_count": 5,
   "metadata": {},
   "outputs": [
    {
     "name": "stdout",
     "output_type": "stream",
     "text": [
      "Number of dimensions: 2\n",
      "Shape (rows, columns): (5, 3)\n",
      "Total number of elements: 15\n",
      "Data type: float64\n"
     ]
    }
   ],
   "source": [
    "# Array properties\n",
    "print(\"Number of dimensions:\", ca_coords.ndim)  # 2D array\n",
    "print(\"Shape (rows, columns):\", ca_coords.shape)  # 5 atoms × 3 coordinates\n",
    "print(\"Total number of elements:\", ca_coords.size)  # 15 numbers total\n",
    "print(\"Data type:\", ca_coords.dtype)  # float64 (decimal numbers)"
   ]
  },
  {
   "cell_type": "markdown",
   "metadata": {},
   "source": [
    "**Understanding shape:**\n",
    "- Shape `(5, 3)` means 5 rows (atoms) × 3 columns (x, y, z)\n",
    "- For N atoms: shape is always `(N, 3)` for 3D coordinates\n",
    "- This is the standard format for protein structure data"
   ]
  },
  {
   "cell_type": "markdown",
   "metadata": {},
   "source": [
    "### Indexing: Accessing Specific Atoms and Coordinates\n",
    "\n",
    "**Key Python concept:** Indexing starts at 0!\n",
    "- First element: index 0\n",
    "- Last element: index -1"
   ]
  },
  {
   "cell_type": "code",
   "execution_count": 6,
   "metadata": {},
   "outputs": [
    {
     "name": "stdout",
     "output_type": "stream",
     "text": [
      "First CA atom coordinates: [10.5 12.3  8.2]\n"
     ]
    }
   ],
   "source": [
    "# Get first atom (residue 1)\n",
    "first_atom = ca_coords[0]\n",
    "print(\"First CA atom coordinates:\", first_atom)"
   ]
  },
  {
   "cell_type": "code",
   "execution_count": 7,
   "metadata": {},
   "outputs": [
    {
     "name": "stdout",
     "output_type": "stream",
     "text": [
      "Last CA atom coordinates: [22.1 20.5 13.2]\n"
     ]
    }
   ],
   "source": [
    "# Get last atom (residue 5)\n",
    "last_atom = ca_coords[-1]\n",
    "print(\"Last CA atom coordinates:\", last_atom)"
   ]
  },
  {
   "cell_type": "code",
   "execution_count": 8,
   "metadata": {},
   "outputs": [
    {
     "name": "stdout",
     "output_type": "stream",
     "text": [
      "Z-coordinate of first atom: 8.2 Å\n"
     ]
    }
   ],
   "source": [
    "# Get specific coordinate: atom 0, z-coordinate (index 2)\n",
    "z_coord = ca_coords[0, 2]\n",
    "print(\"Z-coordinate of first atom:\", z_coord, \"Å\")"
   ]
  },
  {
   "cell_type": "code",
   "execution_count": 9,
   "metadata": {},
   "outputs": [
    {
     "name": "stdout",
     "output_type": "stream",
     "text": [
      "All x-coordinates: [10.5 12.1 15.3 18.9 22.1]\n"
     ]
    }
   ],
   "source": [
    "# Get all x-coordinates (first column)\n",
    "all_x = ca_coords[:, 0]\n",
    "print(\"All x-coordinates:\", all_x)"
   ]
  },
  {
   "cell_type": "code",
   "execution_count": 10,
   "metadata": {},
   "outputs": [
    {
     "name": "stdout",
     "output_type": "stream",
     "text": [
      "First 3 atoms:\n",
      "[[10.5 12.3  8.2]\n",
      " [12.1 15.8  9.1]\n",
      " [15.3 17.2 10.5]]\n"
     ]
    }
   ],
   "source": [
    "# Get first 3 atoms (slicing)\n",
    "first_three = ca_coords[0:3]  # or ca_coords[:3]\n",
    "print(\"First 3 atoms:\")\n",
    "print(first_three)"
   ]
  },
  {
   "cell_type": "markdown",
   "metadata": {},
   "source": [
    "**Slicing notation:** `[start:stop]`\n",
    "- Includes `start` index\n",
    "- Excludes `stop` index\n",
    "- `[0:3]` gives indices 0, 1, 2 (not 3!)"
   ]
  },
  {
   "cell_type": "markdown",
   "metadata": {},
   "source": [
    "### Array Operations: Transforming Coordinates\n",
    "\n",
    "**Biological operations:**\n",
    "1. **Translation** - Moving protein in space (shift all coordinates)\n",
    "2. **Centering** - Place geometric center at origin\n",
    "3. **Scaling** - Convert units (e.g., Å to nm)"
   ]
  },
  {
   "cell_type": "code",
   "execution_count": 11,
   "metadata": {},
   "outputs": [
    {
     "name": "stdout",
     "output_type": "stream",
     "text": [
      "Original first atom: [10.5 12.3  8.2]\n",
      "Translated first atom: [15.5 12.3  8.2]\n",
      "Difference: [5. 0. 0.]\n"
     ]
    }
   ],
   "source": [
    "# Translation: shift entire protein by 5 Å in x-direction\n",
    "shift = np.array([5.0, 0.0, 0.0])\n",
    "translated = ca_coords + shift\n",
    "\n",
    "print(\"Original first atom:\", ca_coords[0])\n",
    "print(\"Translated first atom:\", translated[0])\n",
    "print(\"Difference:\", translated[0] - ca_coords[0])"
   ]
  },
  {
   "cell_type": "markdown",
   "metadata": {},
   "source": [
    "**Broadcasting:** NumPy automatically extends the 1D shift `[5, 0, 0]` to work with all 5 atoms. This is much faster than looping!"
   ]
  },
  {
   "cell_type": "code",
   "execution_count": 12,
   "metadata": {},
   "outputs": [
    {
     "name": "stdout",
     "output_type": "stream",
     "text": [
      "Geometric center: [15.78 16.98 10.56] Å\n",
      "This is the 'middle point' of the protein\n"
     ]
    }
   ],
   "source": [
    "# Calculate geometric center (centroid)\n",
    "center = np.mean(ca_coords, axis=0)  # axis=0 means average over rows (atoms)\n",
    "print(\"Geometric center:\", center, \"Å\")\n",
    "print(\"This is the 'middle point' of the protein\")"
   ]
  },
  {
   "cell_type": "code",
   "execution_count": 13,
   "metadata": {},
   "outputs": [
    {
     "name": "stdout",
     "output_type": "stream",
     "text": [
      "Centered coordinates:\n",
      "[[-5.28 -4.68 -2.36]\n",
      " [-3.68 -1.18 -1.46]\n",
      " [-0.48  0.22 -0.06]\n",
      " [ 3.12  2.12  1.24]\n",
      " [ 6.32  3.52  2.64]]\n",
      "\n",
      "New center: [-1.0658141e-15  0.0000000e+00  1.0658141e-15]\n"
     ]
    }
   ],
   "source": [
    "# Center the protein (move center to origin [0, 0, 0])\n",
    "centered_coords = ca_coords - center\n",
    "\n",
    "print(\"Centered coordinates:\")\n",
    "print(centered_coords)\n",
    "print(\"\\nNew center:\", np.mean(centered_coords, axis=0))  # Should be ~[0, 0, 0]"
   ]
  },
  {
   "cell_type": "markdown",
   "metadata": {},
   "source": [
    "**Why centering matters:**\n",
    "- Before comparing two proteins, we center them both\n",
    "- Removes arbitrary position in space\n",
    "- Focuses on the shape, not the location"
   ]
  },
  {
   "cell_type": "code",
   "execution_count": 14,
   "metadata": {},
   "outputs": [
    {
     "name": "stdout",
     "output_type": "stream",
     "text": [
      "Original (Å): [10.5 12.3  8.2]\n",
      "Converted (nm): [1.05 1.23 0.82]\n"
     ]
    }
   ],
   "source": [
    "# Scaling: convert Angstroms to nanometers (1 nm = 10 Å)\n",
    "coords_nm = ca_coords / 10.0\n",
    "print(\"Original (Å):\", ca_coords[0])\n",
    "print(\"Converted (nm):\", coords_nm[0])"
   ]
  },
  {
   "cell_type": "markdown",
   "metadata": {},
   "source": [
    "### Mathematical Operations: Analyzing Structure\n",
    "\n",
    "**Common structural biology calculations:**\n",
    "- Distance between atoms\n",
    "- Radius of gyration (compactness)\n",
    "- Root Mean Square Deviation (RMSD)"
   ]
  },
  {
   "cell_type": "code",
   "execution_count": 15,
   "metadata": {},
   "outputs": [
    {
     "name": "stdout",
     "output_type": "stream",
     "text": [
      "Distance between first and last CA: 15.06 Å\n",
      "Same calculation, compact: 15.06 Å\n"
     ]
    }
   ],
   "source": [
    "# Distance between first and last atom\n",
    "# Formula: distance = √[(x₂-x₁)² + (y₂-y₁)² + (z₂-z₁)²]\n",
    "\n",
    "atom1 = ca_coords[0]\n",
    "atom2 = ca_coords[-1]\n",
    "\n",
    "# Method 1: Step by step\n",
    "diff = atom2 - atom1  # Vector difference\n",
    "squared_diff = diff**2  # Square each component\n",
    "sum_squared = np.sum(squared_diff)  # Sum x², y², z²\n",
    "distance = np.sqrt(sum_squared)  # Take square root\n",
    "\n",
    "print(f\"Distance between first and last CA: {distance:.2f} Å\")\n",
    "\n",
    "# Method 2: Compact (same result)\n",
    "distance_compact = np.sqrt(np.sum((atom2 - atom1) ** 2))\n",
    "print(f\"Same calculation, compact: {distance_compact:.2f} Å\")"
   ]
  },
  {
   "cell_type": "markdown",
   "metadata": {},
   "source": [
    "**Biological interpretation:**\n",
    "- Our 5-residue fragment spans ~14 Å end-to-end\n",
    "- Extended peptide: ~3.5 Å per residue → 5 residues ≈ 17.5 Å\n",
    "- Our value is less → structure is slightly compact (expected)"
   ]
  },
  {
   "cell_type": "code",
   "execution_count": 16,
   "metadata": {},
   "outputs": [
    {
     "name": "stdout",
     "output_type": "stream",
     "text": [
      "Radius of gyration: 5.44 Å\n",
      "This tells us how 'spread out' the structure is\n"
     ]
    }
   ],
   "source": [
    "# Radius of gyration - measure of structural compactness\n",
    "# Rg = √[mean(distance² from center)]\n",
    "\n",
    "distances_from_center = centered_coords  # Already centered\n",
    "squared_distances = np.sum(\n",
    "    distances_from_center**2, axis=1\n",
    ")  # Sum x²+y²+z² for each atom\n",
    "rg = np.sqrt(np.mean(squared_distances))\n",
    "\n",
    "print(f\"Radius of gyration: {rg:.2f} Å\")\n",
    "print(\"This tells us how 'spread out' the structure is\")"
   ]
  },
  {
   "cell_type": "markdown",
   "metadata": {},
   "source": [
    "### Creating Special Arrays - Useful Patterns"
   ]
  },
  {
   "cell_type": "code",
   "execution_count": 17,
   "metadata": {},
   "outputs": [
    {
     "name": "stdout",
     "output_type": "stream",
     "text": [
      "Empty coordinate array:\n",
      "[[0. 0. 0.]\n",
      " [0. 0. 0.]\n",
      " [0. 0. 0.]\n",
      " [0. 0. 0.]\n",
      " [0. 0. 0.]\n",
      " [0. 0. 0.]\n",
      " [0. 0. 0.]\n",
      " [0. 0. 0.]\n",
      " [0. 0. 0.]\n",
      " [0. 0. 0.]]\n"
     ]
    }
   ],
   "source": [
    "# Array of zeros - initialize empty coordinates\n",
    "empty_coords = np.zeros((10, 3))  # 10 atoms, 3 coordinates each\n",
    "print(\"Empty coordinate array:\")\n",
    "print(empty_coords)"
   ]
  },
  {
   "cell_type": "code",
   "execution_count": 18,
   "metadata": {},
   "outputs": [
    {
     "name": "stdout",
     "output_type": "stream",
     "text": [
      "Unit vector: [1. 1. 1.]\n"
     ]
    }
   ],
   "source": [
    "# Array of ones - useful for scaling operations\n",
    "unit_vector = np.ones(3)\n",
    "print(\"Unit vector:\", unit_vector)"
   ]
  },
  {
   "cell_type": "code",
   "execution_count": 19,
   "metadata": {},
   "outputs": [
    {
     "name": "stdout",
     "output_type": "stream",
     "text": [
      "3×3 Identity matrix:\n",
      "[[1. 0. 0.]\n",
      " [0. 1. 0.]\n",
      " [0. 0. 1.]]\n"
     ]
    }
   ],
   "source": [
    "# Identity matrix - useful for rotations (no rotation)\n",
    "identity = np.eye(3)\n",
    "print(\"3×3 Identity matrix:\")\n",
    "print(identity)"
   ]
  },
  {
   "cell_type": "code",
   "execution_count": 20,
   "metadata": {},
   "outputs": [
    {
     "name": "stdout",
     "output_type": "stream",
     "text": [
      "Evenly spaced x-coordinates: [ 0.  5. 10. 15. 20.]\n"
     ]
    }
   ],
   "source": [
    "# Evenly spaced values - useful for generating test coordinates\n",
    "x_line = np.linspace(0, 20, 5)  # 5 points from 0 to 20\n",
    "print(\"Evenly spaced x-coordinates:\", x_line)"
   ]
  },
  {
   "cell_type": "code",
   "execution_count": 21,
   "metadata": {},
   "outputs": [
    {
     "name": "stdout",
     "output_type": "stream",
     "text": [
      "Random coordinates:\n",
      "[[ 0.70501077  1.21458847 -0.4368845 ]\n",
      " [-0.0464494  -0.20241228  1.38322103]\n",
      " [-0.93768468  1.27601327  0.24282305]\n",
      " [-0.45400306 -0.05542865 -2.41252814]\n",
      " [-1.54202099 -0.78678115 -0.2174304 ]]\n"
     ]
    }
   ],
   "source": [
    "# Random coordinates - useful for testing\n",
    "random_coords = np.random.randn(5, 3)  # 5 atoms, random positions\n",
    "print(\"Random coordinates:\")\n",
    "print(random_coords)"
   ]
  },
  {
   "cell_type": "markdown",
   "metadata": {},
   "source": [
    "### Boolean Indexing: Finding Specific Atoms"
   ]
  },
  {
   "cell_type": "code",
   "execution_count": 22,
   "metadata": {},
   "outputs": [
    {
     "name": "stdout",
     "output_type": "stream",
     "text": [
      "Which atoms have x > 15? [False False  True  True  True]\n",
      "\n",
      "Atoms with x > 15 Å:\n",
      "[[15.3 17.2 10.5]\n",
      " [18.9 19.1 11.8]\n",
      " [22.1 20.5 13.2]]\n"
     ]
    }
   ],
   "source": [
    "# Find atoms with x-coordinate > 15 Å\n",
    "mask = ca_coords[:, 0] > 15  # Boolean array: True/False for each atom\n",
    "print(\"Which atoms have x > 15?\", mask)\n",
    "\n",
    "# Get coordinates of those atoms\n",
    "filtered_atoms = ca_coords[mask]\n",
    "print(\"\\nAtoms with x > 15 Å:\")\n",
    "print(filtered_atoms)"
   ]
  },
  {
   "cell_type": "code",
   "execution_count": 23,
   "metadata": {},
   "outputs": [
    {
     "name": "stdout",
     "output_type": "stream",
     "text": [
      "Atoms in region (x>12 and y<20):\n",
      "[[12.1 15.8  9.1]\n",
      " [15.3 17.2 10.5]\n",
      " [18.9 19.1 11.8]]\n"
     ]
    }
   ],
   "source": [
    "# Find atoms in a specific region: x > 12 AND y < 20\n",
    "region_mask = (ca_coords[:, 0] > 12) & (ca_coords[:, 1] < 20)\n",
    "print(\"Atoms in region (x>12 and y<20):\")\n",
    "print(ca_coords[region_mask])"
   ]
  },
  {
   "cell_type": "markdown",
   "metadata": {},
   "source": [
    "**Use case:** Finding atoms in a specific region of space (e.g., binding pocket, membrane interface)"
   ]
  },
  {
   "cell_type": "markdown",
   "metadata": {},
   "source": [
    "---\n",
    "## Plotly - Interactive 3D Visualizations\n",
    "\n",
    "[Plotly](https://plotly.com/python/) is a powerful interactive visualization library.\n",
    "\n",
    "**Why interactive visualization matters:**\n",
    "- Verify calculations make sense through exploration\n",
    "- Understand protein shape and features from all angles\n",
    "- Communicate results with engaging, interactive plots\n",
    "\n",
    "**For structural bioinformatics:**\n",
    "- Interactive 3D scatter plots show atom positions\n",
    "- Rotatable structures reveal hidden features\n",
    "- Hover information provides instant details\n",
    "- Professional plots ready for presentations"
   ]
  },
  {
   "cell_type": "markdown",
   "metadata": {},
   "source": [
    "### Interactive 3D Visualization: Exploring Protein Structures"
   ]
  },
  {
   "cell_type": "markdown",
   "metadata": {},
   "source": [
    "### Customizing Plots: Labels, Colors, Styles"
   ]
  },
  {
   "cell_type": "markdown",
   "metadata": {},
   "source": [
    "### 🎯 Interactive 3D Visualizations with Plotly\n",
    "\n",
    "**Universal Compatibility:**\n",
    "- ✅ **Local Jupyter Notebook** - Perfect interactive experience\n",
    "- ✅ **Google Colab** - Full interactivity supported\n",
    "- ✅ **VS Code Jupyter** - Excellent integration\n",
    "- ✅ **JupyterLab** - Works seamlessly\n",
    "\n",
    "**Why Plotly for Structural Bioinformatics:**\n",
    "- 🔄 **Full 3D rotation** - Click and drag to explore structure\n",
    "- 🔍 **Zoom and Pan** - Detailed examination of regions\n",
    "- 📍 **Hover information** - Instant residue details\n",
    "- 💾 **Export options** - Save as interactive HTML\n",
    "- � **Professional styling** - Publication-ready plots"
   ]
  },
  {
   "cell_type": "code",
   "execution_count": 24,
   "metadata": {},
   "outputs": [
    {
     "data": {
      "application/vnd.plotly.v1+json": {
       "config": {
        "plotlyServerURL": "https://plot.ly"
       },
       "data": [
        {
         "hovertemplate": "<b>Residue %{text}</b><br>X: %{x:.2f} Å<br>Y: %{y:.2f} Å<br>Z: %{z:.2f} Å<extra></extra>",
         "marker": {
          "color": [
           0,
           0.25,
           0.5,
           0.75,
           1
          ],
          "colorscale": [
           [
            0,
            "rgb(5,48,97)"
           ],
           [
            0.1,
            "rgb(33,102,172)"
           ],
           [
            0.2,
            "rgb(67,147,195)"
           ],
           [
            0.3,
            "rgb(146,197,222)"
           ],
           [
            0.4,
            "rgb(209,229,240)"
           ],
           [
            0.5,
            "rgb(247,247,247)"
           ],
           [
            0.6,
            "rgb(253,219,199)"
           ],
           [
            0.7,
            "rgb(244,165,130)"
           ],
           [
            0.8,
            "rgb(214,96,77)"
           ],
           [
            0.9,
            "rgb(178,24,43)"
           ],
           [
            1,
            "rgb(103,0,31)"
           ]
          ],
          "line": {
           "color": "black",
           "width": 2
          },
          "opacity": 0.8,
          "size": 15
         },
         "mode": "markers+text",
         "name": "CA atoms",
         "text": [
          "Res 1",
          "Res 2",
          "Res 3",
          "Res 4",
          "Res 5"
         ],
         "textposition": "middle right",
         "type": "scatter3d",
         "x": [
          10.5,
          12.1,
          15.3,
          18.9,
          22.1
         ],
         "y": [
          12.3,
          15.8,
          17.2,
          19.1,
          20.5
         ],
         "z": [
          8.2,
          9.1,
          10.5,
          11.8,
          13.2
         ]
        },
        {
         "hoverinfo": "skip",
         "line": {
          "color": "black",
          "width": 8
         },
         "mode": "lines",
         "name": "Backbone",
         "showlegend": true,
         "type": "scatter3d",
         "x": [
          10.5,
          12.1,
          15.3,
          18.9,
          22.1
         ],
         "y": [
          12.3,
          15.8,
          17.2,
          19.1,
          20.5
         ],
         "z": [
          8.2,
          9.1,
          10.5,
          11.8,
          13.2
         ]
        }
       ],
       "layout": {
        "height": 700,
        "scene": {
         "aspectmode": "cube",
         "camera": {
          "eye": {
           "x": 1.2,
           "y": 1.2,
           "z": 1.2
          }
         },
         "xaxis": {
          "title": {
           "text": "X coordinate (Å)"
          }
         },
         "yaxis": {
          "title": {
           "text": "Y coordinate (Å)"
          }
         },
         "zaxis": {
          "title": {
           "text": "Z coordinate (Å)"
          }
         }
        },
        "showlegend": true,
        "template": {
         "data": {
          "bar": [
           {
            "error_x": {
             "color": "#2a3f5f"
            },
            "error_y": {
             "color": "#2a3f5f"
            },
            "marker": {
             "line": {
              "color": "#E5ECF6",
              "width": 0.5
             },
             "pattern": {
              "fillmode": "overlay",
              "size": 10,
              "solidity": 0.2
             }
            },
            "type": "bar"
           }
          ],
          "barpolar": [
           {
            "marker": {
             "line": {
              "color": "#E5ECF6",
              "width": 0.5
             },
             "pattern": {
              "fillmode": "overlay",
              "size": 10,
              "solidity": 0.2
             }
            },
            "type": "barpolar"
           }
          ],
          "carpet": [
           {
            "aaxis": {
             "endlinecolor": "#2a3f5f",
             "gridcolor": "white",
             "linecolor": "white",
             "minorgridcolor": "white",
             "startlinecolor": "#2a3f5f"
            },
            "baxis": {
             "endlinecolor": "#2a3f5f",
             "gridcolor": "white",
             "linecolor": "white",
             "minorgridcolor": "white",
             "startlinecolor": "#2a3f5f"
            },
            "type": "carpet"
           }
          ],
          "choropleth": [
           {
            "colorbar": {
             "outlinewidth": 0,
             "ticks": ""
            },
            "type": "choropleth"
           }
          ],
          "contour": [
           {
            "colorbar": {
             "outlinewidth": 0,
             "ticks": ""
            },
            "colorscale": [
             [
              0,
              "#0d0887"
             ],
             [
              0.1111111111111111,
              "#46039f"
             ],
             [
              0.2222222222222222,
              "#7201a8"
             ],
             [
              0.3333333333333333,
              "#9c179e"
             ],
             [
              0.4444444444444444,
              "#bd3786"
             ],
             [
              0.5555555555555556,
              "#d8576b"
             ],
             [
              0.6666666666666666,
              "#ed7953"
             ],
             [
              0.7777777777777778,
              "#fb9f3a"
             ],
             [
              0.8888888888888888,
              "#fdca26"
             ],
             [
              1,
              "#f0f921"
             ]
            ],
            "type": "contour"
           }
          ],
          "contourcarpet": [
           {
            "colorbar": {
             "outlinewidth": 0,
             "ticks": ""
            },
            "type": "contourcarpet"
           }
          ],
          "heatmap": [
           {
            "colorbar": {
             "outlinewidth": 0,
             "ticks": ""
            },
            "colorscale": [
             [
              0,
              "#0d0887"
             ],
             [
              0.1111111111111111,
              "#46039f"
             ],
             [
              0.2222222222222222,
              "#7201a8"
             ],
             [
              0.3333333333333333,
              "#9c179e"
             ],
             [
              0.4444444444444444,
              "#bd3786"
             ],
             [
              0.5555555555555556,
              "#d8576b"
             ],
             [
              0.6666666666666666,
              "#ed7953"
             ],
             [
              0.7777777777777778,
              "#fb9f3a"
             ],
             [
              0.8888888888888888,
              "#fdca26"
             ],
             [
              1,
              "#f0f921"
             ]
            ],
            "type": "heatmap"
           }
          ],
          "heatmapgl": [
           {
            "colorbar": {
             "outlinewidth": 0,
             "ticks": ""
            },
            "colorscale": [
             [
              0,
              "#0d0887"
             ],
             [
              0.1111111111111111,
              "#46039f"
             ],
             [
              0.2222222222222222,
              "#7201a8"
             ],
             [
              0.3333333333333333,
              "#9c179e"
             ],
             [
              0.4444444444444444,
              "#bd3786"
             ],
             [
              0.5555555555555556,
              "#d8576b"
             ],
             [
              0.6666666666666666,
              "#ed7953"
             ],
             [
              0.7777777777777778,
              "#fb9f3a"
             ],
             [
              0.8888888888888888,
              "#fdca26"
             ],
             [
              1,
              "#f0f921"
             ]
            ],
            "type": "heatmapgl"
           }
          ],
          "histogram": [
           {
            "marker": {
             "pattern": {
              "fillmode": "overlay",
              "size": 10,
              "solidity": 0.2
             }
            },
            "type": "histogram"
           }
          ],
          "histogram2d": [
           {
            "colorbar": {
             "outlinewidth": 0,
             "ticks": ""
            },
            "colorscale": [
             [
              0,
              "#0d0887"
             ],
             [
              0.1111111111111111,
              "#46039f"
             ],
             [
              0.2222222222222222,
              "#7201a8"
             ],
             [
              0.3333333333333333,
              "#9c179e"
             ],
             [
              0.4444444444444444,
              "#bd3786"
             ],
             [
              0.5555555555555556,
              "#d8576b"
             ],
             [
              0.6666666666666666,
              "#ed7953"
             ],
             [
              0.7777777777777778,
              "#fb9f3a"
             ],
             [
              0.8888888888888888,
              "#fdca26"
             ],
             [
              1,
              "#f0f921"
             ]
            ],
            "type": "histogram2d"
           }
          ],
          "histogram2dcontour": [
           {
            "colorbar": {
             "outlinewidth": 0,
             "ticks": ""
            },
            "colorscale": [
             [
              0,
              "#0d0887"
             ],
             [
              0.1111111111111111,
              "#46039f"
             ],
             [
              0.2222222222222222,
              "#7201a8"
             ],
             [
              0.3333333333333333,
              "#9c179e"
             ],
             [
              0.4444444444444444,
              "#bd3786"
             ],
             [
              0.5555555555555556,
              "#d8576b"
             ],
             [
              0.6666666666666666,
              "#ed7953"
             ],
             [
              0.7777777777777778,
              "#fb9f3a"
             ],
             [
              0.8888888888888888,
              "#fdca26"
             ],
             [
              1,
              "#f0f921"
             ]
            ],
            "type": "histogram2dcontour"
           }
          ],
          "mesh3d": [
           {
            "colorbar": {
             "outlinewidth": 0,
             "ticks": ""
            },
            "type": "mesh3d"
           }
          ],
          "parcoords": [
           {
            "line": {
             "colorbar": {
              "outlinewidth": 0,
              "ticks": ""
             }
            },
            "type": "parcoords"
           }
          ],
          "pie": [
           {
            "automargin": true,
            "type": "pie"
           }
          ],
          "scatter": [
           {
            "fillpattern": {
             "fillmode": "overlay",
             "size": 10,
             "solidity": 0.2
            },
            "type": "scatter"
           }
          ],
          "scatter3d": [
           {
            "line": {
             "colorbar": {
              "outlinewidth": 0,
              "ticks": ""
             }
            },
            "marker": {
             "colorbar": {
              "outlinewidth": 0,
              "ticks": ""
             }
            },
            "type": "scatter3d"
           }
          ],
          "scattercarpet": [
           {
            "marker": {
             "colorbar": {
              "outlinewidth": 0,
              "ticks": ""
             }
            },
            "type": "scattercarpet"
           }
          ],
          "scattergeo": [
           {
            "marker": {
             "colorbar": {
              "outlinewidth": 0,
              "ticks": ""
             }
            },
            "type": "scattergeo"
           }
          ],
          "scattergl": [
           {
            "marker": {
             "colorbar": {
              "outlinewidth": 0,
              "ticks": ""
             }
            },
            "type": "scattergl"
           }
          ],
          "scattermapbox": [
           {
            "marker": {
             "colorbar": {
              "outlinewidth": 0,
              "ticks": ""
             }
            },
            "type": "scattermapbox"
           }
          ],
          "scatterpolar": [
           {
            "marker": {
             "colorbar": {
              "outlinewidth": 0,
              "ticks": ""
             }
            },
            "type": "scatterpolar"
           }
          ],
          "scatterpolargl": [
           {
            "marker": {
             "colorbar": {
              "outlinewidth": 0,
              "ticks": ""
             }
            },
            "type": "scatterpolargl"
           }
          ],
          "scatterternary": [
           {
            "marker": {
             "colorbar": {
              "outlinewidth": 0,
              "ticks": ""
             }
            },
            "type": "scatterternary"
           }
          ],
          "surface": [
           {
            "colorbar": {
             "outlinewidth": 0,
             "ticks": ""
            },
            "colorscale": [
             [
              0,
              "#0d0887"
             ],
             [
              0.1111111111111111,
              "#46039f"
             ],
             [
              0.2222222222222222,
              "#7201a8"
             ],
             [
              0.3333333333333333,
              "#9c179e"
             ],
             [
              0.4444444444444444,
              "#bd3786"
             ],
             [
              0.5555555555555556,
              "#d8576b"
             ],
             [
              0.6666666666666666,
              "#ed7953"
             ],
             [
              0.7777777777777778,
              "#fb9f3a"
             ],
             [
              0.8888888888888888,
              "#fdca26"
             ],
             [
              1,
              "#f0f921"
             ]
            ],
            "type": "surface"
           }
          ],
          "table": [
           {
            "cells": {
             "fill": {
              "color": "#EBF0F8"
             },
             "line": {
              "color": "white"
             }
            },
            "header": {
             "fill": {
              "color": "#C8D4E3"
             },
             "line": {
              "color": "white"
             }
            },
            "type": "table"
           }
          ]
         },
         "layout": {
          "annotationdefaults": {
           "arrowcolor": "#2a3f5f",
           "arrowhead": 0,
           "arrowwidth": 1
          },
          "autotypenumbers": "strict",
          "coloraxis": {
           "colorbar": {
            "outlinewidth": 0,
            "ticks": ""
           }
          },
          "colorscale": {
           "diverging": [
            [
             0,
             "#8e0152"
            ],
            [
             0.1,
             "#c51b7d"
            ],
            [
             0.2,
             "#de77ae"
            ],
            [
             0.3,
             "#f1b6da"
            ],
            [
             0.4,
             "#fde0ef"
            ],
            [
             0.5,
             "#f7f7f7"
            ],
            [
             0.6,
             "#e6f5d0"
            ],
            [
             0.7,
             "#b8e186"
            ],
            [
             0.8,
             "#7fbc41"
            ],
            [
             0.9,
             "#4d9221"
            ],
            [
             1,
             "#276419"
            ]
           ],
           "sequential": [
            [
             0,
             "#0d0887"
            ],
            [
             0.1111111111111111,
             "#46039f"
            ],
            [
             0.2222222222222222,
             "#7201a8"
            ],
            [
             0.3333333333333333,
             "#9c179e"
            ],
            [
             0.4444444444444444,
             "#bd3786"
            ],
            [
             0.5555555555555556,
             "#d8576b"
            ],
            [
             0.6666666666666666,
             "#ed7953"
            ],
            [
             0.7777777777777778,
             "#fb9f3a"
            ],
            [
             0.8888888888888888,
             "#fdca26"
            ],
            [
             1,
             "#f0f921"
            ]
           ],
           "sequentialminus": [
            [
             0,
             "#0d0887"
            ],
            [
             0.1111111111111111,
             "#46039f"
            ],
            [
             0.2222222222222222,
             "#7201a8"
            ],
            [
             0.3333333333333333,
             "#9c179e"
            ],
            [
             0.4444444444444444,
             "#bd3786"
            ],
            [
             0.5555555555555556,
             "#d8576b"
            ],
            [
             0.6666666666666666,
             "#ed7953"
            ],
            [
             0.7777777777777778,
             "#fb9f3a"
            ],
            [
             0.8888888888888888,
             "#fdca26"
            ],
            [
             1,
             "#f0f921"
            ]
           ]
          },
          "colorway": [
           "#636efa",
           "#EF553B",
           "#00cc96",
           "#ab63fa",
           "#FFA15A",
           "#19d3f3",
           "#FF6692",
           "#B6E880",
           "#FF97FF",
           "#FECB52"
          ],
          "font": {
           "color": "#2a3f5f"
          },
          "geo": {
           "bgcolor": "white",
           "lakecolor": "white",
           "landcolor": "#E5ECF6",
           "showlakes": true,
           "showland": true,
           "subunitcolor": "white"
          },
          "hoverlabel": {
           "align": "left"
          },
          "hovermode": "closest",
          "mapbox": {
           "style": "light"
          },
          "paper_bgcolor": "white",
          "plot_bgcolor": "#E5ECF6",
          "polar": {
           "angularaxis": {
            "gridcolor": "white",
            "linecolor": "white",
            "ticks": ""
           },
           "bgcolor": "#E5ECF6",
           "radialaxis": {
            "gridcolor": "white",
            "linecolor": "white",
            "ticks": ""
           }
          },
          "scene": {
           "xaxis": {
            "backgroundcolor": "#E5ECF6",
            "gridcolor": "white",
            "gridwidth": 2,
            "linecolor": "white",
            "showbackground": true,
            "ticks": "",
            "zerolinecolor": "white"
           },
           "yaxis": {
            "backgroundcolor": "#E5ECF6",
            "gridcolor": "white",
            "gridwidth": 2,
            "linecolor": "white",
            "showbackground": true,
            "ticks": "",
            "zerolinecolor": "white"
           },
           "zaxis": {
            "backgroundcolor": "#E5ECF6",
            "gridcolor": "white",
            "gridwidth": 2,
            "linecolor": "white",
            "showbackground": true,
            "ticks": "",
            "zerolinecolor": "white"
           }
          },
          "shapedefaults": {
           "line": {
            "color": "#2a3f5f"
           }
          },
          "ternary": {
           "aaxis": {
            "gridcolor": "white",
            "linecolor": "white",
            "ticks": ""
           },
           "baxis": {
            "gridcolor": "white",
            "linecolor": "white",
            "ticks": ""
           },
           "bgcolor": "#E5ECF6",
           "caxis": {
            "gridcolor": "white",
            "linecolor": "white",
            "ticks": ""
           }
          },
          "title": {
           "x": 0.05
          },
          "xaxis": {
           "automargin": true,
           "gridcolor": "white",
           "linecolor": "white",
           "ticks": "",
           "title": {
            "standoff": 15
           },
           "zerolinecolor": "white",
           "zerolinewidth": 2
          },
          "yaxis": {
           "automargin": true,
           "gridcolor": "white",
           "linecolor": "white",
           "ticks": "",
           "title": {
            "standoff": 15
           },
           "zerolinecolor": "white",
           "zerolinewidth": 2
          }
         }
        },
        "title": {
         "font": {
          "size": 16
         },
         "text": "Interactive 3D Protein Structure<br><sub>Blue=N-terminus, Red=C-terminus</sub>",
         "x": 0.5
        },
        "width": 900
       }
      }
     },
     "metadata": {},
     "output_type": "display_data"
    },
    {
     "name": "stdout",
     "output_type": "stream",
     "text": [
      "✅ Interactive plot created! You can:\n",
      "   🔄 Click and drag to rotate\n",
      "   🔍 Scroll to zoom\n",
      "   📍 Hover over points for details\n"
     ]
    }
   ],
   "source": [
    "# Interactive 3D plot with Plotly (works everywhere!)\n",
    "# Create colors: gradient from blue to red for N-terminus to C-terminus\n",
    "residue_numbers = np.arange(len(ca_coords))\n",
    "colors = residue_numbers / (len(ca_coords) - 1)  # Normalize to 0-1\n",
    "\n",
    "fig_plotly = go.Figure()\n",
    "\n",
    "# Add CA atoms as scatter points\n",
    "fig_plotly.add_trace(\n",
    "    go.Scatter3d(\n",
    "        x=ca_coords[:, 0],\n",
    "        y=ca_coords[:, 1],\n",
    "        z=ca_coords[:, 2],\n",
    "        mode=\"markers+text\",\n",
    "        marker=dict(\n",
    "            size=15,\n",
    "            color=colors,\n",
    "            colorscale=\"RdBu_r\",  # Blue to Red (N-terminus to C-terminus)\n",
    "            opacity=0.8,\n",
    "            line=dict(width=2, color=\"black\"),\n",
    "        ),\n",
    "        text=[f\"Res {i + 1}\" for i in range(len(ca_coords))],\n",
    "        textposition=\"middle right\",\n",
    "        name=\"CA atoms\",\n",
    "        hovertemplate=\"<b>Residue %{text}</b><br>\"\n",
    "        + \"X: %{x:.2f} Å<br>\"\n",
    "        + \"Y: %{y:.2f} Å<br>\"\n",
    "        + \"Z: %{z:.2f} Å<extra></extra>\",\n",
    "    )\n",
    ")\n",
    "\n",
    "# Add backbone trace\n",
    "fig_plotly.add_trace(\n",
    "    go.Scatter3d(\n",
    "        x=ca_coords[:, 0],\n",
    "        y=ca_coords[:, 1],\n",
    "        z=ca_coords[:, 2],\n",
    "        mode=\"lines\",\n",
    "        line=dict(color=\"black\", width=8),\n",
    "        name=\"Backbone\",\n",
    "        showlegend=True,\n",
    "        hoverinfo=\"skip\",\n",
    "    )\n",
    ")\n",
    "\n",
    "# Update layout for better visualization\n",
    "fig_plotly.update_layout(\n",
    "    title={\n",
    "        \"text\": \"Interactive 3D Protein Structure<br><sub>Blue=N-terminus, Red=C-terminus</sub>\",\n",
    "        \"x\": 0.5,\n",
    "        \"font\": {\"size\": 16},\n",
    "    },\n",
    "    scene=dict(\n",
    "        xaxis_title=\"X coordinate (Å)\",\n",
    "        yaxis_title=\"Y coordinate (Å)\",\n",
    "        zaxis_title=\"Z coordinate (Å)\",\n",
    "        camera=dict(eye=dict(x=1.2, y=1.2, z=1.2)),\n",
    "        aspectmode=\"cube\",\n",
    "    ),\n",
    "    width=900,\n",
    "    height=700,\n",
    "    showlegend=True,\n",
    ")\n",
    "\n",
    "fig_plotly.show()\n",
    "\n",
    "print(\"✅ Interactive plot created! You can:\")\n",
    "print(\"   🔄 Click and drag to rotate\")\n",
    "print(\"   🔍 Scroll to zoom\")\n",
    "print(\"   📍 Hover over points for details\")"
   ]
  },
  {
   "cell_type": "markdown",
   "metadata": {},
   "source": [
    "---\n",
    "## SciPy - Scientific Computing Tools\n",
    "\n",
    "[SciPy](https://scipy.org/) builds on NumPy with advanced scientific functions.\n",
    "\n",
    "**For structural bioinformatics:**\n",
    "- Distance calculations (all pairwise distances)\n",
    "- Spatial data structures (fast neighbor finding)\n",
    "- Linear algebra (rotations, transformations)\n",
    "- Optimization (structure fitting)"
   ]
  },
  {
   "cell_type": "markdown",
   "metadata": {},
   "source": [
    "### Distance Calculations: Contact Analysis"
   ]
  },
  {
   "cell_type": "code",
   "execution_count": 25,
   "metadata": {},
   "outputs": [
    {
     "name": "stdout",
     "output_type": "stream",
     "text": [
      "Number of pairwise distances: 10\n",
      "Formula: N*(N-1)/2 = 5*4/2 = 10\n",
      "\n",
      "Distance matrix shape: (5, 5)\n",
      "\n",
      "Distance matrix (Å):\n",
      "[[ 0.    3.95  7.23 11.39 15.06]\n",
      " [ 3.95  0.    3.76  8.03 11.79]\n",
      " [ 7.23  3.76  0.    4.27  8.03]\n",
      " [11.39  8.03  4.27  0.    3.76]\n",
      " [15.06 11.79  8.03  3.76  0.  ]]\n"
     ]
    }
   ],
   "source": [
    "from scipy.spatial.distance import pdist, squareform\n",
    "\n",
    "# Calculate all pairwise distances\n",
    "# pdist computes distances efficiently (N*(N-1)/2 comparisons)\n",
    "distances_condensed = pdist(ca_coords)  # Condensed format\n",
    "print(\"Number of pairwise distances:\", len(distances_condensed))\n",
    "print(\"Formula: N*(N-1)/2 = 5*4/2 =\", 5 * 4 // 2)\n",
    "\n",
    "# Convert to square matrix for easier interpretation\n",
    "distance_matrix = squareform(distances_condensed)\n",
    "print(\"\\nDistance matrix shape:\", distance_matrix.shape)\n",
    "print(\"\\nDistance matrix (Å):\")\n",
    "print(distance_matrix.round(2))"
   ]
  },
  {
   "cell_type": "markdown",
   "metadata": {},
   "source": [
    "**Understanding the distance matrix:**\n",
    "- Symmetric: distance(i,j) = distance(j,i)\n",
    "- Diagonal is zero: distance from atom to itself = 0\n",
    "- Each number is distance in Angstroms between two atoms"
   ]
  },
  {
   "cell_type": "code",
   "execution_count": 26,
   "metadata": {},
   "outputs": [
    {
     "data": {
      "application/vnd.plotly.v1+json": {
       "config": {
        "plotlyServerURL": "https://plot.ly"
       },
       "data": [
        {
         "colorbar": {
          "title": {
           "text": "Distance (Å)"
          }
         },
         "colorscale": [
          [
           0,
           "#440154"
          ],
          [
           0.1111111111111111,
           "#482878"
          ],
          [
           0.2222222222222222,
           "#3e4989"
          ],
          [
           0.3333333333333333,
           "#31688e"
          ],
          [
           0.4444444444444444,
           "#26828e"
          ],
          [
           0.5555555555555556,
           "#1f9e89"
          ],
          [
           0.6666666666666666,
           "#35b779"
          ],
          [
           0.7777777777777778,
           "#6ece58"
          ],
          [
           0.8888888888888888,
           "#b5de2b"
          ],
          [
           1,
           "#fde725"
          ]
         ],
         "hovertemplate": "<b>%{y} → %{x}</b><br>Distance: %{z:.2f} Å<extra></extra>",
         "type": "heatmap",
         "x": [
          "Res 1",
          "Res 2",
          "Res 3",
          "Res 4",
          "Res 5"
         ],
         "y": [
          "Res 1",
          "Res 2",
          "Res 3",
          "Res 4",
          "Res 5"
         ],
         "z": [
          [
           0,
           3.9522145690739006,
           7.234638899074369,
           11.391224692718513,
           15.05988047761336
          ],
          [
           3.9522145690739006,
           0,
           3.762977544445356,
           8.026207074328447,
           11.785584414868872
          ],
          [
           7.234638899074369,
           3.762977544445356,
           0,
           4.273172123844299,
           8.026207074328447
          ],
          [
           11.391224692718513,
           8.026207074328447,
           4.273172123844299,
           0,
           3.762977544445357
          ],
          [
           15.05988047761336,
           11.785584414868872,
           8.026207074328447,
           3.762977544445357,
           0
          ]
         ]
        }
       ],
       "layout": {
        "height": 500,
        "template": {
         "data": {
          "bar": [
           {
            "error_x": {
             "color": "#2a3f5f"
            },
            "error_y": {
             "color": "#2a3f5f"
            },
            "marker": {
             "line": {
              "color": "#E5ECF6",
              "width": 0.5
             },
             "pattern": {
              "fillmode": "overlay",
              "size": 10,
              "solidity": 0.2
             }
            },
            "type": "bar"
           }
          ],
          "barpolar": [
           {
            "marker": {
             "line": {
              "color": "#E5ECF6",
              "width": 0.5
             },
             "pattern": {
              "fillmode": "overlay",
              "size": 10,
              "solidity": 0.2
             }
            },
            "type": "barpolar"
           }
          ],
          "carpet": [
           {
            "aaxis": {
             "endlinecolor": "#2a3f5f",
             "gridcolor": "white",
             "linecolor": "white",
             "minorgridcolor": "white",
             "startlinecolor": "#2a3f5f"
            },
            "baxis": {
             "endlinecolor": "#2a3f5f",
             "gridcolor": "white",
             "linecolor": "white",
             "minorgridcolor": "white",
             "startlinecolor": "#2a3f5f"
            },
            "type": "carpet"
           }
          ],
          "choropleth": [
           {
            "colorbar": {
             "outlinewidth": 0,
             "ticks": ""
            },
            "type": "choropleth"
           }
          ],
          "contour": [
           {
            "colorbar": {
             "outlinewidth": 0,
             "ticks": ""
            },
            "colorscale": [
             [
              0,
              "#0d0887"
             ],
             [
              0.1111111111111111,
              "#46039f"
             ],
             [
              0.2222222222222222,
              "#7201a8"
             ],
             [
              0.3333333333333333,
              "#9c179e"
             ],
             [
              0.4444444444444444,
              "#bd3786"
             ],
             [
              0.5555555555555556,
              "#d8576b"
             ],
             [
              0.6666666666666666,
              "#ed7953"
             ],
             [
              0.7777777777777778,
              "#fb9f3a"
             ],
             [
              0.8888888888888888,
              "#fdca26"
             ],
             [
              1,
              "#f0f921"
             ]
            ],
            "type": "contour"
           }
          ],
          "contourcarpet": [
           {
            "colorbar": {
             "outlinewidth": 0,
             "ticks": ""
            },
            "type": "contourcarpet"
           }
          ],
          "heatmap": [
           {
            "colorbar": {
             "outlinewidth": 0,
             "ticks": ""
            },
            "colorscale": [
             [
              0,
              "#0d0887"
             ],
             [
              0.1111111111111111,
              "#46039f"
             ],
             [
              0.2222222222222222,
              "#7201a8"
             ],
             [
              0.3333333333333333,
              "#9c179e"
             ],
             [
              0.4444444444444444,
              "#bd3786"
             ],
             [
              0.5555555555555556,
              "#d8576b"
             ],
             [
              0.6666666666666666,
              "#ed7953"
             ],
             [
              0.7777777777777778,
              "#fb9f3a"
             ],
             [
              0.8888888888888888,
              "#fdca26"
             ],
             [
              1,
              "#f0f921"
             ]
            ],
            "type": "heatmap"
           }
          ],
          "heatmapgl": [
           {
            "colorbar": {
             "outlinewidth": 0,
             "ticks": ""
            },
            "colorscale": [
             [
              0,
              "#0d0887"
             ],
             [
              0.1111111111111111,
              "#46039f"
             ],
             [
              0.2222222222222222,
              "#7201a8"
             ],
             [
              0.3333333333333333,
              "#9c179e"
             ],
             [
              0.4444444444444444,
              "#bd3786"
             ],
             [
              0.5555555555555556,
              "#d8576b"
             ],
             [
              0.6666666666666666,
              "#ed7953"
             ],
             [
              0.7777777777777778,
              "#fb9f3a"
             ],
             [
              0.8888888888888888,
              "#fdca26"
             ],
             [
              1,
              "#f0f921"
             ]
            ],
            "type": "heatmapgl"
           }
          ],
          "histogram": [
           {
            "marker": {
             "pattern": {
              "fillmode": "overlay",
              "size": 10,
              "solidity": 0.2
             }
            },
            "type": "histogram"
           }
          ],
          "histogram2d": [
           {
            "colorbar": {
             "outlinewidth": 0,
             "ticks": ""
            },
            "colorscale": [
             [
              0,
              "#0d0887"
             ],
             [
              0.1111111111111111,
              "#46039f"
             ],
             [
              0.2222222222222222,
              "#7201a8"
             ],
             [
              0.3333333333333333,
              "#9c179e"
             ],
             [
              0.4444444444444444,
              "#bd3786"
             ],
             [
              0.5555555555555556,
              "#d8576b"
             ],
             [
              0.6666666666666666,
              "#ed7953"
             ],
             [
              0.7777777777777778,
              "#fb9f3a"
             ],
             [
              0.8888888888888888,
              "#fdca26"
             ],
             [
              1,
              "#f0f921"
             ]
            ],
            "type": "histogram2d"
           }
          ],
          "histogram2dcontour": [
           {
            "colorbar": {
             "outlinewidth": 0,
             "ticks": ""
            },
            "colorscale": [
             [
              0,
              "#0d0887"
             ],
             [
              0.1111111111111111,
              "#46039f"
             ],
             [
              0.2222222222222222,
              "#7201a8"
             ],
             [
              0.3333333333333333,
              "#9c179e"
             ],
             [
              0.4444444444444444,
              "#bd3786"
             ],
             [
              0.5555555555555556,
              "#d8576b"
             ],
             [
              0.6666666666666666,
              "#ed7953"
             ],
             [
              0.7777777777777778,
              "#fb9f3a"
             ],
             [
              0.8888888888888888,
              "#fdca26"
             ],
             [
              1,
              "#f0f921"
             ]
            ],
            "type": "histogram2dcontour"
           }
          ],
          "mesh3d": [
           {
            "colorbar": {
             "outlinewidth": 0,
             "ticks": ""
            },
            "type": "mesh3d"
           }
          ],
          "parcoords": [
           {
            "line": {
             "colorbar": {
              "outlinewidth": 0,
              "ticks": ""
             }
            },
            "type": "parcoords"
           }
          ],
          "pie": [
           {
            "automargin": true,
            "type": "pie"
           }
          ],
          "scatter": [
           {
            "fillpattern": {
             "fillmode": "overlay",
             "size": 10,
             "solidity": 0.2
            },
            "type": "scatter"
           }
          ],
          "scatter3d": [
           {
            "line": {
             "colorbar": {
              "outlinewidth": 0,
              "ticks": ""
             }
            },
            "marker": {
             "colorbar": {
              "outlinewidth": 0,
              "ticks": ""
             }
            },
            "type": "scatter3d"
           }
          ],
          "scattercarpet": [
           {
            "marker": {
             "colorbar": {
              "outlinewidth": 0,
              "ticks": ""
             }
            },
            "type": "scattercarpet"
           }
          ],
          "scattergeo": [
           {
            "marker": {
             "colorbar": {
              "outlinewidth": 0,
              "ticks": ""
             }
            },
            "type": "scattergeo"
           }
          ],
          "scattergl": [
           {
            "marker": {
             "colorbar": {
              "outlinewidth": 0,
              "ticks": ""
             }
            },
            "type": "scattergl"
           }
          ],
          "scattermapbox": [
           {
            "marker": {
             "colorbar": {
              "outlinewidth": 0,
              "ticks": ""
             }
            },
            "type": "scattermapbox"
           }
          ],
          "scatterpolar": [
           {
            "marker": {
             "colorbar": {
              "outlinewidth": 0,
              "ticks": ""
             }
            },
            "type": "scatterpolar"
           }
          ],
          "scatterpolargl": [
           {
            "marker": {
             "colorbar": {
              "outlinewidth": 0,
              "ticks": ""
             }
            },
            "type": "scatterpolargl"
           }
          ],
          "scatterternary": [
           {
            "marker": {
             "colorbar": {
              "outlinewidth": 0,
              "ticks": ""
             }
            },
            "type": "scatterternary"
           }
          ],
          "surface": [
           {
            "colorbar": {
             "outlinewidth": 0,
             "ticks": ""
            },
            "colorscale": [
             [
              0,
              "#0d0887"
             ],
             [
              0.1111111111111111,
              "#46039f"
             ],
             [
              0.2222222222222222,
              "#7201a8"
             ],
             [
              0.3333333333333333,
              "#9c179e"
             ],
             [
              0.4444444444444444,
              "#bd3786"
             ],
             [
              0.5555555555555556,
              "#d8576b"
             ],
             [
              0.6666666666666666,
              "#ed7953"
             ],
             [
              0.7777777777777778,
              "#fb9f3a"
             ],
             [
              0.8888888888888888,
              "#fdca26"
             ],
             [
              1,
              "#f0f921"
             ]
            ],
            "type": "surface"
           }
          ],
          "table": [
           {
            "cells": {
             "fill": {
              "color": "#EBF0F8"
             },
             "line": {
              "color": "white"
             }
            },
            "header": {
             "fill": {
              "color": "#C8D4E3"
             },
             "line": {
              "color": "white"
             }
            },
            "type": "table"
           }
          ]
         },
         "layout": {
          "annotationdefaults": {
           "arrowcolor": "#2a3f5f",
           "arrowhead": 0,
           "arrowwidth": 1
          },
          "autotypenumbers": "strict",
          "coloraxis": {
           "colorbar": {
            "outlinewidth": 0,
            "ticks": ""
           }
          },
          "colorscale": {
           "diverging": [
            [
             0,
             "#8e0152"
            ],
            [
             0.1,
             "#c51b7d"
            ],
            [
             0.2,
             "#de77ae"
            ],
            [
             0.3,
             "#f1b6da"
            ],
            [
             0.4,
             "#fde0ef"
            ],
            [
             0.5,
             "#f7f7f7"
            ],
            [
             0.6,
             "#e6f5d0"
            ],
            [
             0.7,
             "#b8e186"
            ],
            [
             0.8,
             "#7fbc41"
            ],
            [
             0.9,
             "#4d9221"
            ],
            [
             1,
             "#276419"
            ]
           ],
           "sequential": [
            [
             0,
             "#0d0887"
            ],
            [
             0.1111111111111111,
             "#46039f"
            ],
            [
             0.2222222222222222,
             "#7201a8"
            ],
            [
             0.3333333333333333,
             "#9c179e"
            ],
            [
             0.4444444444444444,
             "#bd3786"
            ],
            [
             0.5555555555555556,
             "#d8576b"
            ],
            [
             0.6666666666666666,
             "#ed7953"
            ],
            [
             0.7777777777777778,
             "#fb9f3a"
            ],
            [
             0.8888888888888888,
             "#fdca26"
            ],
            [
             1,
             "#f0f921"
            ]
           ],
           "sequentialminus": [
            [
             0,
             "#0d0887"
            ],
            [
             0.1111111111111111,
             "#46039f"
            ],
            [
             0.2222222222222222,
             "#7201a8"
            ],
            [
             0.3333333333333333,
             "#9c179e"
            ],
            [
             0.4444444444444444,
             "#bd3786"
            ],
            [
             0.5555555555555556,
             "#d8576b"
            ],
            [
             0.6666666666666666,
             "#ed7953"
            ],
            [
             0.7777777777777778,
             "#fb9f3a"
            ],
            [
             0.8888888888888888,
             "#fdca26"
            ],
            [
             1,
             "#f0f921"
            ]
           ]
          },
          "colorway": [
           "#636efa",
           "#EF553B",
           "#00cc96",
           "#ab63fa",
           "#FFA15A",
           "#19d3f3",
           "#FF6692",
           "#B6E880",
           "#FF97FF",
           "#FECB52"
          ],
          "font": {
           "color": "#2a3f5f"
          },
          "geo": {
           "bgcolor": "white",
           "lakecolor": "white",
           "landcolor": "#E5ECF6",
           "showlakes": true,
           "showland": true,
           "subunitcolor": "white"
          },
          "hoverlabel": {
           "align": "left"
          },
          "hovermode": "closest",
          "mapbox": {
           "style": "light"
          },
          "paper_bgcolor": "white",
          "plot_bgcolor": "#E5ECF6",
          "polar": {
           "angularaxis": {
            "gridcolor": "white",
            "linecolor": "white",
            "ticks": ""
           },
           "bgcolor": "#E5ECF6",
           "radialaxis": {
            "gridcolor": "white",
            "linecolor": "white",
            "ticks": ""
           }
          },
          "scene": {
           "xaxis": {
            "backgroundcolor": "#E5ECF6",
            "gridcolor": "white",
            "gridwidth": 2,
            "linecolor": "white",
            "showbackground": true,
            "ticks": "",
            "zerolinecolor": "white"
           },
           "yaxis": {
            "backgroundcolor": "#E5ECF6",
            "gridcolor": "white",
            "gridwidth": 2,
            "linecolor": "white",
            "showbackground": true,
            "ticks": "",
            "zerolinecolor": "white"
           },
           "zaxis": {
            "backgroundcolor": "#E5ECF6",
            "gridcolor": "white",
            "gridwidth": 2,
            "linecolor": "white",
            "showbackground": true,
            "ticks": "",
            "zerolinecolor": "white"
           }
          },
          "shapedefaults": {
           "line": {
            "color": "#2a3f5f"
           }
          },
          "ternary": {
           "aaxis": {
            "gridcolor": "white",
            "linecolor": "white",
            "ticks": ""
           },
           "baxis": {
            "gridcolor": "white",
            "linecolor": "white",
            "ticks": ""
           },
           "bgcolor": "#E5ECF6",
           "caxis": {
            "gridcolor": "white",
            "linecolor": "white",
            "ticks": ""
           }
          },
          "title": {
           "x": 0.05
          },
          "xaxis": {
           "automargin": true,
           "gridcolor": "white",
           "linecolor": "white",
           "ticks": "",
           "title": {
            "standoff": 15
           },
           "zerolinecolor": "white",
           "zerolinewidth": 2
          },
          "yaxis": {
           "automargin": true,
           "gridcolor": "white",
           "linecolor": "white",
           "ticks": "",
           "title": {
            "standoff": 15
           },
           "zerolinecolor": "white",
           "zerolinewidth": 2
          }
         }
        },
        "title": {
         "text": "CA-CA Distance Matrix<br><sub>Interactive heatmap - hover for details</sub>"
        },
        "width": 600,
        "xaxis": {
         "title": {
          "text": "Residue"
         }
        },
        "yaxis": {
         "title": {
          "text": "Residue"
         }
        }
       }
      }
     },
     "metadata": {},
     "output_type": "display_data"
    }
   ],
   "source": [
    "# Interactive distance matrix heatmap with Plotly\n",
    "fig_heatmap = go.Figure(\n",
    "    data=go.Heatmap(\n",
    "        z=distance_matrix,\n",
    "        x=[f\"Res {i + 1}\" for i in range(len(distance_matrix))],\n",
    "        y=[f\"Res {i + 1}\" for i in range(len(distance_matrix))],\n",
    "        colorscale=\"Viridis\",\n",
    "        colorbar=dict(title=\"Distance (Å)\"),\n",
    "        hovertemplate=\"<b>%{y} → %{x}</b><br>\" + \"Distance: %{z:.2f} Å<extra></extra>\",\n",
    "    )\n",
    ")\n",
    "\n",
    "fig_heatmap.update_layout(\n",
    "    title=\"CA-CA Distance Matrix<br><sub>Interactive heatmap - hover for details</sub>\",\n",
    "    xaxis_title=\"Residue\",\n",
    "    yaxis_title=\"Residue\",\n",
    "    width=600,\n",
    "    height=500,\n",
    ")\n",
    "\n",
    "fig_heatmap.show()"
   ]
  },
  {
   "cell_type": "markdown",
   "metadata": {},
   "source": [
    "**Interpreting distance patterns:**\n",
    "- Diagonal: sequential residues are ~3.8 Å apart (peptide bond length)\n",
    "- Dark blue off-diagonal: residues close in 3D space (contacts)\n",
    "- Yellow: residues far apart in 3D space"
   ]
  },
  {
   "cell_type": "code",
   "execution_count": 27,
   "metadata": {},
   "outputs": [
    {
     "name": "stdout",
     "output_type": "stream",
     "text": [
      "Contact map (True = within 8 Å):\n",
      "[[ True  True  True False False]\n",
      " [ True  True  True False False]\n",
      " [ True  True  True  True False]\n",
      " [False False  True  True  True]\n",
      " [False False False  True  True]]\n",
      "\n",
      "Number of contacts per residue: [2 2 3 2 1]\n"
     ]
    }
   ],
   "source": [
    "# Contact map: which residues are \"in contact\"?\n",
    "contact_threshold = 8.0  # Å\n",
    "contact_map = distance_matrix < contact_threshold\n",
    "\n",
    "print(\"Contact map (True = within 8 Å):\")\n",
    "print(contact_map)\n",
    "\n",
    "# Count contacts for each residue (exclude self-contact)\n",
    "np.fill_diagonal(contact_map, False)  # Remove diagonal\n",
    "contact_counts = np.sum(contact_map, axis=1)\n",
    "print(\"\\nNumber of contacts per residue:\", contact_counts)"
   ]
  },
  {
   "cell_type": "code",
   "execution_count": 28,
   "metadata": {},
   "outputs": [
    {
     "data": {
      "application/vnd.plotly.v1+json": {
       "config": {
        "plotlyServerURL": "https://plot.ly"
       },
       "data": [
        {
         "colorbar": {
          "ticktext": [
           "No",
           "Yes"
          ],
          "tickvals": [
           0,
           1
          ],
          "title": {
           "text": "In Contact?"
          }
         },
         "colorscale": [
          [
           0,
           "lightblue"
          ],
          [
           1,
           "darkred"
          ]
         ],
         "hovertemplate": "<b>%{y} → %{x}</b><br>In contact: %{z}<br>Threshold: 8.0 Å<extra></extra>",
         "type": "heatmap",
         "x": [
          "Res 1",
          "Res 2",
          "Res 3",
          "Res 4",
          "Res 5"
         ],
         "y": [
          "Res 1",
          "Res 2",
          "Res 3",
          "Res 4",
          "Res 5"
         ],
         "z": [
          [
           0,
           1,
           1,
           0,
           0
          ],
          [
           1,
           0,
           1,
           0,
           0
          ],
          [
           1,
           1,
           0,
           1,
           0
          ],
          [
           0,
           0,
           1,
           0,
           1
          ],
          [
           0,
           0,
           0,
           1,
           0
          ]
         ]
        }
       ],
       "layout": {
        "height": 500,
        "template": {
         "data": {
          "bar": [
           {
            "error_x": {
             "color": "#2a3f5f"
            },
            "error_y": {
             "color": "#2a3f5f"
            },
            "marker": {
             "line": {
              "color": "#E5ECF6",
              "width": 0.5
             },
             "pattern": {
              "fillmode": "overlay",
              "size": 10,
              "solidity": 0.2
             }
            },
            "type": "bar"
           }
          ],
          "barpolar": [
           {
            "marker": {
             "line": {
              "color": "#E5ECF6",
              "width": 0.5
             },
             "pattern": {
              "fillmode": "overlay",
              "size": 10,
              "solidity": 0.2
             }
            },
            "type": "barpolar"
           }
          ],
          "carpet": [
           {
            "aaxis": {
             "endlinecolor": "#2a3f5f",
             "gridcolor": "white",
             "linecolor": "white",
             "minorgridcolor": "white",
             "startlinecolor": "#2a3f5f"
            },
            "baxis": {
             "endlinecolor": "#2a3f5f",
             "gridcolor": "white",
             "linecolor": "white",
             "minorgridcolor": "white",
             "startlinecolor": "#2a3f5f"
            },
            "type": "carpet"
           }
          ],
          "choropleth": [
           {
            "colorbar": {
             "outlinewidth": 0,
             "ticks": ""
            },
            "type": "choropleth"
           }
          ],
          "contour": [
           {
            "colorbar": {
             "outlinewidth": 0,
             "ticks": ""
            },
            "colorscale": [
             [
              0,
              "#0d0887"
             ],
             [
              0.1111111111111111,
              "#46039f"
             ],
             [
              0.2222222222222222,
              "#7201a8"
             ],
             [
              0.3333333333333333,
              "#9c179e"
             ],
             [
              0.4444444444444444,
              "#bd3786"
             ],
             [
              0.5555555555555556,
              "#d8576b"
             ],
             [
              0.6666666666666666,
              "#ed7953"
             ],
             [
              0.7777777777777778,
              "#fb9f3a"
             ],
             [
              0.8888888888888888,
              "#fdca26"
             ],
             [
              1,
              "#f0f921"
             ]
            ],
            "type": "contour"
           }
          ],
          "contourcarpet": [
           {
            "colorbar": {
             "outlinewidth": 0,
             "ticks": ""
            },
            "type": "contourcarpet"
           }
          ],
          "heatmap": [
           {
            "colorbar": {
             "outlinewidth": 0,
             "ticks": ""
            },
            "colorscale": [
             [
              0,
              "#0d0887"
             ],
             [
              0.1111111111111111,
              "#46039f"
             ],
             [
              0.2222222222222222,
              "#7201a8"
             ],
             [
              0.3333333333333333,
              "#9c179e"
             ],
             [
              0.4444444444444444,
              "#bd3786"
             ],
             [
              0.5555555555555556,
              "#d8576b"
             ],
             [
              0.6666666666666666,
              "#ed7953"
             ],
             [
              0.7777777777777778,
              "#fb9f3a"
             ],
             [
              0.8888888888888888,
              "#fdca26"
             ],
             [
              1,
              "#f0f921"
             ]
            ],
            "type": "heatmap"
           }
          ],
          "heatmapgl": [
           {
            "colorbar": {
             "outlinewidth": 0,
             "ticks": ""
            },
            "colorscale": [
             [
              0,
              "#0d0887"
             ],
             [
              0.1111111111111111,
              "#46039f"
             ],
             [
              0.2222222222222222,
              "#7201a8"
             ],
             [
              0.3333333333333333,
              "#9c179e"
             ],
             [
              0.4444444444444444,
              "#bd3786"
             ],
             [
              0.5555555555555556,
              "#d8576b"
             ],
             [
              0.6666666666666666,
              "#ed7953"
             ],
             [
              0.7777777777777778,
              "#fb9f3a"
             ],
             [
              0.8888888888888888,
              "#fdca26"
             ],
             [
              1,
              "#f0f921"
             ]
            ],
            "type": "heatmapgl"
           }
          ],
          "histogram": [
           {
            "marker": {
             "pattern": {
              "fillmode": "overlay",
              "size": 10,
              "solidity": 0.2
             }
            },
            "type": "histogram"
           }
          ],
          "histogram2d": [
           {
            "colorbar": {
             "outlinewidth": 0,
             "ticks": ""
            },
            "colorscale": [
             [
              0,
              "#0d0887"
             ],
             [
              0.1111111111111111,
              "#46039f"
             ],
             [
              0.2222222222222222,
              "#7201a8"
             ],
             [
              0.3333333333333333,
              "#9c179e"
             ],
             [
              0.4444444444444444,
              "#bd3786"
             ],
             [
              0.5555555555555556,
              "#d8576b"
             ],
             [
              0.6666666666666666,
              "#ed7953"
             ],
             [
              0.7777777777777778,
              "#fb9f3a"
             ],
             [
              0.8888888888888888,
              "#fdca26"
             ],
             [
              1,
              "#f0f921"
             ]
            ],
            "type": "histogram2d"
           }
          ],
          "histogram2dcontour": [
           {
            "colorbar": {
             "outlinewidth": 0,
             "ticks": ""
            },
            "colorscale": [
             [
              0,
              "#0d0887"
             ],
             [
              0.1111111111111111,
              "#46039f"
             ],
             [
              0.2222222222222222,
              "#7201a8"
             ],
             [
              0.3333333333333333,
              "#9c179e"
             ],
             [
              0.4444444444444444,
              "#bd3786"
             ],
             [
              0.5555555555555556,
              "#d8576b"
             ],
             [
              0.6666666666666666,
              "#ed7953"
             ],
             [
              0.7777777777777778,
              "#fb9f3a"
             ],
             [
              0.8888888888888888,
              "#fdca26"
             ],
             [
              1,
              "#f0f921"
             ]
            ],
            "type": "histogram2dcontour"
           }
          ],
          "mesh3d": [
           {
            "colorbar": {
             "outlinewidth": 0,
             "ticks": ""
            },
            "type": "mesh3d"
           }
          ],
          "parcoords": [
           {
            "line": {
             "colorbar": {
              "outlinewidth": 0,
              "ticks": ""
             }
            },
            "type": "parcoords"
           }
          ],
          "pie": [
           {
            "automargin": true,
            "type": "pie"
           }
          ],
          "scatter": [
           {
            "fillpattern": {
             "fillmode": "overlay",
             "size": 10,
             "solidity": 0.2
            },
            "type": "scatter"
           }
          ],
          "scatter3d": [
           {
            "line": {
             "colorbar": {
              "outlinewidth": 0,
              "ticks": ""
             }
            },
            "marker": {
             "colorbar": {
              "outlinewidth": 0,
              "ticks": ""
             }
            },
            "type": "scatter3d"
           }
          ],
          "scattercarpet": [
           {
            "marker": {
             "colorbar": {
              "outlinewidth": 0,
              "ticks": ""
             }
            },
            "type": "scattercarpet"
           }
          ],
          "scattergeo": [
           {
            "marker": {
             "colorbar": {
              "outlinewidth": 0,
              "ticks": ""
             }
            },
            "type": "scattergeo"
           }
          ],
          "scattergl": [
           {
            "marker": {
             "colorbar": {
              "outlinewidth": 0,
              "ticks": ""
             }
            },
            "type": "scattergl"
           }
          ],
          "scattermapbox": [
           {
            "marker": {
             "colorbar": {
              "outlinewidth": 0,
              "ticks": ""
             }
            },
            "type": "scattermapbox"
           }
          ],
          "scatterpolar": [
           {
            "marker": {
             "colorbar": {
              "outlinewidth": 0,
              "ticks": ""
             }
            },
            "type": "scatterpolar"
           }
          ],
          "scatterpolargl": [
           {
            "marker": {
             "colorbar": {
              "outlinewidth": 0,
              "ticks": ""
             }
            },
            "type": "scatterpolargl"
           }
          ],
          "scatterternary": [
           {
            "marker": {
             "colorbar": {
              "outlinewidth": 0,
              "ticks": ""
             }
            },
            "type": "scatterternary"
           }
          ],
          "surface": [
           {
            "colorbar": {
             "outlinewidth": 0,
             "ticks": ""
            },
            "colorscale": [
             [
              0,
              "#0d0887"
             ],
             [
              0.1111111111111111,
              "#46039f"
             ],
             [
              0.2222222222222222,
              "#7201a8"
             ],
             [
              0.3333333333333333,
              "#9c179e"
             ],
             [
              0.4444444444444444,
              "#bd3786"
             ],
             [
              0.5555555555555556,
              "#d8576b"
             ],
             [
              0.6666666666666666,
              "#ed7953"
             ],
             [
              0.7777777777777778,
              "#fb9f3a"
             ],
             [
              0.8888888888888888,
              "#fdca26"
             ],
             [
              1,
              "#f0f921"
             ]
            ],
            "type": "surface"
           }
          ],
          "table": [
           {
            "cells": {
             "fill": {
              "color": "#EBF0F8"
             },
             "line": {
              "color": "white"
             }
            },
            "header": {
             "fill": {
              "color": "#C8D4E3"
             },
             "line": {
              "color": "white"
             }
            },
            "type": "table"
           }
          ]
         },
         "layout": {
          "annotationdefaults": {
           "arrowcolor": "#2a3f5f",
           "arrowhead": 0,
           "arrowwidth": 1
          },
          "autotypenumbers": "strict",
          "coloraxis": {
           "colorbar": {
            "outlinewidth": 0,
            "ticks": ""
           }
          },
          "colorscale": {
           "diverging": [
            [
             0,
             "#8e0152"
            ],
            [
             0.1,
             "#c51b7d"
            ],
            [
             0.2,
             "#de77ae"
            ],
            [
             0.3,
             "#f1b6da"
            ],
            [
             0.4,
             "#fde0ef"
            ],
            [
             0.5,
             "#f7f7f7"
            ],
            [
             0.6,
             "#e6f5d0"
            ],
            [
             0.7,
             "#b8e186"
            ],
            [
             0.8,
             "#7fbc41"
            ],
            [
             0.9,
             "#4d9221"
            ],
            [
             1,
             "#276419"
            ]
           ],
           "sequential": [
            [
             0,
             "#0d0887"
            ],
            [
             0.1111111111111111,
             "#46039f"
            ],
            [
             0.2222222222222222,
             "#7201a8"
            ],
            [
             0.3333333333333333,
             "#9c179e"
            ],
            [
             0.4444444444444444,
             "#bd3786"
            ],
            [
             0.5555555555555556,
             "#d8576b"
            ],
            [
             0.6666666666666666,
             "#ed7953"
            ],
            [
             0.7777777777777778,
             "#fb9f3a"
            ],
            [
             0.8888888888888888,
             "#fdca26"
            ],
            [
             1,
             "#f0f921"
            ]
           ],
           "sequentialminus": [
            [
             0,
             "#0d0887"
            ],
            [
             0.1111111111111111,
             "#46039f"
            ],
            [
             0.2222222222222222,
             "#7201a8"
            ],
            [
             0.3333333333333333,
             "#9c179e"
            ],
            [
             0.4444444444444444,
             "#bd3786"
            ],
            [
             0.5555555555555556,
             "#d8576b"
            ],
            [
             0.6666666666666666,
             "#ed7953"
            ],
            [
             0.7777777777777778,
             "#fb9f3a"
            ],
            [
             0.8888888888888888,
             "#fdca26"
            ],
            [
             1,
             "#f0f921"
            ]
           ]
          },
          "colorway": [
           "#636efa",
           "#EF553B",
           "#00cc96",
           "#ab63fa",
           "#FFA15A",
           "#19d3f3",
           "#FF6692",
           "#B6E880",
           "#FF97FF",
           "#FECB52"
          ],
          "font": {
           "color": "#2a3f5f"
          },
          "geo": {
           "bgcolor": "white",
           "lakecolor": "white",
           "landcolor": "#E5ECF6",
           "showlakes": true,
           "showland": true,
           "subunitcolor": "white"
          },
          "hoverlabel": {
           "align": "left"
          },
          "hovermode": "closest",
          "mapbox": {
           "style": "light"
          },
          "paper_bgcolor": "white",
          "plot_bgcolor": "#E5ECF6",
          "polar": {
           "angularaxis": {
            "gridcolor": "white",
            "linecolor": "white",
            "ticks": ""
           },
           "bgcolor": "#E5ECF6",
           "radialaxis": {
            "gridcolor": "white",
            "linecolor": "white",
            "ticks": ""
           }
          },
          "scene": {
           "xaxis": {
            "backgroundcolor": "#E5ECF6",
            "gridcolor": "white",
            "gridwidth": 2,
            "linecolor": "white",
            "showbackground": true,
            "ticks": "",
            "zerolinecolor": "white"
           },
           "yaxis": {
            "backgroundcolor": "#E5ECF6",
            "gridcolor": "white",
            "gridwidth": 2,
            "linecolor": "white",
            "showbackground": true,
            "ticks": "",
            "zerolinecolor": "white"
           },
           "zaxis": {
            "backgroundcolor": "#E5ECF6",
            "gridcolor": "white",
            "gridwidth": 2,
            "linecolor": "white",
            "showbackground": true,
            "ticks": "",
            "zerolinecolor": "white"
           }
          },
          "shapedefaults": {
           "line": {
            "color": "#2a3f5f"
           }
          },
          "ternary": {
           "aaxis": {
            "gridcolor": "white",
            "linecolor": "white",
            "ticks": ""
           },
           "baxis": {
            "gridcolor": "white",
            "linecolor": "white",
            "ticks": ""
           },
           "bgcolor": "#E5ECF6",
           "caxis": {
            "gridcolor": "white",
            "linecolor": "white",
            "ticks": ""
           }
          },
          "title": {
           "x": 0.05
          },
          "xaxis": {
           "automargin": true,
           "gridcolor": "white",
           "linecolor": "white",
           "ticks": "",
           "title": {
            "standoff": 15
           },
           "zerolinecolor": "white",
           "zerolinewidth": 2
          },
          "yaxis": {
           "automargin": true,
           "gridcolor": "white",
           "linecolor": "white",
           "ticks": "",
           "title": {
            "standoff": 15
           },
           "zerolinecolor": "white",
           "zerolinewidth": 2
          }
         }
        },
        "title": {
         "text": "Contact Map (threshold = 8.0 Å)<br><sub>Red = in contact, Blue = distant</sub>"
        },
        "width": 600,
        "xaxis": {
         "title": {
          "text": "Residue"
         }
        },
        "yaxis": {
         "title": {
          "text": "Residue"
         }
        }
       }
      }
     },
     "metadata": {},
     "output_type": "display_data"
    }
   ],
   "source": [
    "# Interactive contact map with Plotly\n",
    "fig_contact = go.Figure(\n",
    "    data=go.Heatmap(\n",
    "        z=contact_map.astype(int),\n",
    "        x=[f\"Res {i + 1}\" for i in range(len(contact_map))],\n",
    "        y=[f\"Res {i + 1}\" for i in range(len(contact_map))],\n",
    "        colorscale=[[0, \"lightblue\"], [1, \"darkred\"]],\n",
    "        colorbar=dict(title=\"In Contact?\", tickvals=[0, 1], ticktext=[\"No\", \"Yes\"]),\n",
    "        hovertemplate=\"<b>%{y} → %{x}</b><br>\"\n",
    "        + \"In contact: %{z}<br>\"\n",
    "        + f\"Threshold: {contact_threshold} Å<extra></extra>\",\n",
    "    )\n",
    ")\n",
    "\n",
    "fig_contact.update_layout(\n",
    "    title=f\"Contact Map (threshold = {contact_threshold} Å)<br><sub>Red = in contact, Blue = distant</sub>\",\n",
    "    xaxis_title=\"Residue\",\n",
    "    yaxis_title=\"Residue\",\n",
    "    width=600,\n",
    "    height=500,\n",
    ")\n",
    "\n",
    "fig_contact.show()"
   ]
  },
  {
   "cell_type": "markdown",
   "metadata": {},
   "source": [
    "**Biological significance of contacts:**\n",
    "- Residues in contact can interact (hydrogen bonds, hydrophobic interactions)\n",
    "- Contact patterns define protein fold\n",
    "- Modern structure prediction (AlphaFold) predicts contact maps"
   ]
  },
  {
   "cell_type": "markdown",
   "metadata": {},
   "source": [
    "### Spatial Data Structures: Finding Neighbors Efficiently"
   ]
  },
  {
   "cell_type": "code",
   "execution_count": 29,
   "metadata": {},
   "outputs": [
    {
     "name": "stdout",
     "output_type": "stream",
     "text": [
      "Atoms within 8.0 Å of first atom:\n",
      "Indices: [0, 1, 2]\n",
      "Number of neighbors: 3\n"
     ]
    }
   ],
   "source": [
    "from scipy.spatial import KDTree\n",
    "\n",
    "# Build KDTree for fast spatial queries\n",
    "tree = KDTree(ca_coords)\n",
    "\n",
    "# Find all neighbors within 8 Å of first atom\n",
    "query_point = ca_coords[0]\n",
    "radius = 8.0\n",
    "\n",
    "indices = tree.query_ball_point(query_point, radius)\n",
    "print(f\"Atoms within {radius} Å of first atom:\")\n",
    "print(f\"Indices: {indices}\")\n",
    "print(f\"Number of neighbors: {len(indices)}\")"
   ]
  },
  {
   "cell_type": "markdown",
   "metadata": {},
   "source": [
    "**Why KDTree?**\n",
    "- For N atoms, simple approach: N² comparisons\n",
    "- KDTree: ~N log(N) comparisons\n",
    "- Essential for proteins with thousands of atoms"
   ]
  },
  {
   "cell_type": "markdown",
   "metadata": {},
   "source": [
    "### Linear Algebra: Rotation and Alignment\n",
    "\n",
    "**Common operation:** Rotate protein to align with reference orientation"
   ]
  },
  {
   "cell_type": "code",
   "execution_count": 30,
   "metadata": {},
   "outputs": [
    {
     "name": "stdout",
     "output_type": "stream",
     "text": [
      "SVD components:\n",
      "U shape: (3, 3) - Left singular vectors\n",
      "S shape: (3,) - Singular values\n",
      "Vt shape: (5, 5) - Right singular vectors\n",
      "\n",
      "Singular values: [12.04775508  1.61384289  0.1229176 ]\n",
      "These describe the 'spread' along principal axes\n"
     ]
    }
   ],
   "source": [
    "from scipy.linalg import svd\n",
    "\n",
    "# Singular Value Decomposition (SVD) - used in Kabsch algorithm\n",
    "# This is how we find optimal rotation to align two structures\n",
    "\n",
    "# Center coordinates first\n",
    "coords_centered = ca_coords - np.mean(ca_coords, axis=0)\n",
    "\n",
    "# Compute SVD (mathematical details not essential)\n",
    "U, S, Vt = svd(coords_centered.T)\n",
    "\n",
    "print(\"SVD components:\")\n",
    "print(\"U shape:\", U.shape, \"- Left singular vectors\")\n",
    "print(\"S shape:\", S.shape, \"- Singular values\")\n",
    "print(\"Vt shape:\", Vt.shape, \"- Right singular vectors\")\n",
    "print(\"\\nSingular values:\", S)\n",
    "print(\"These describe the 'spread' along principal axes\")"
   ]
  },
  {
   "cell_type": "markdown",
   "metadata": {},
   "source": [
    "**SVD in structural biology:**\n",
    "- Kabsch algorithm (protein alignment) uses SVD\n",
    "- Principal Component Analysis (PCA) uses SVD  \n",
    "- Essential for comparing structures (RMSD calculation)\n",
    "\n",
    "You don't need to understand the math, just that:\n",
    "- SVD finds optimal rotations\n",
    "- It's the gold standard for structure alignment"
   ]
  },
  {
   "cell_type": "markdown",
   "metadata": {},
   "source": [
    "### Statistical Analysis: Distribution of Distances"
   ]
  },
  {
   "cell_type": "code",
   "execution_count": 31,
   "metadata": {},
   "outputs": [
    {
     "name": "stdout",
     "output_type": "stream",
     "text": [
      "Distance statistics:\n",
      "Mean distance: 7.73 Å\n",
      "Std deviation: 3.76 Å\n",
      "Min distance: 3.76 Å\n",
      "Max distance: 15.06 Å\n"
     ]
    },
    {
     "data": {
      "application/vnd.plotly.v1+json": {
       "config": {
        "plotlyServerURL": "https://plot.ly"
       },
       "data": [
        {
         "hovertemplate": "Distance: %{x:.2f} Å<br>Count: %{y}<extra></extra>",
         "marker": {
          "color": "steelblue"
         },
         "name": "Distance Distribution",
         "nbinsx": 10,
         "opacity": 0.7,
         "type": "histogram",
         "x": [
          3.9522145690739006,
          7.234638899074369,
          11.391224692718513,
          15.05988047761336,
          3.762977544445356,
          8.026207074328447,
          11.785584414868872,
          4.273172123844299,
          8.026207074328447,
          3.762977544445357
         ]
        }
       ],
       "layout": {
        "annotations": [
         {
          "showarrow": false,
          "text": "Mean = 7.73 Å",
          "x": 7.727508441474091,
          "xanchor": "left",
          "xref": "x",
          "y": 1,
          "yanchor": "top",
          "yref": "y domain"
         }
        ],
        "height": 500,
        "shapes": [
         {
          "line": {
           "color": "red",
           "dash": "dash"
          },
          "type": "line",
          "x0": 7.727508441474091,
          "x1": 7.727508441474091,
          "xref": "x",
          "y0": 0,
          "y1": 1,
          "yref": "y domain"
         }
        ],
        "template": {
         "data": {
          "bar": [
           {
            "error_x": {
             "color": "#2a3f5f"
            },
            "error_y": {
             "color": "#2a3f5f"
            },
            "marker": {
             "line": {
              "color": "#E5ECF6",
              "width": 0.5
             },
             "pattern": {
              "fillmode": "overlay",
              "size": 10,
              "solidity": 0.2
             }
            },
            "type": "bar"
           }
          ],
          "barpolar": [
           {
            "marker": {
             "line": {
              "color": "#E5ECF6",
              "width": 0.5
             },
             "pattern": {
              "fillmode": "overlay",
              "size": 10,
              "solidity": 0.2
             }
            },
            "type": "barpolar"
           }
          ],
          "carpet": [
           {
            "aaxis": {
             "endlinecolor": "#2a3f5f",
             "gridcolor": "white",
             "linecolor": "white",
             "minorgridcolor": "white",
             "startlinecolor": "#2a3f5f"
            },
            "baxis": {
             "endlinecolor": "#2a3f5f",
             "gridcolor": "white",
             "linecolor": "white",
             "minorgridcolor": "white",
             "startlinecolor": "#2a3f5f"
            },
            "type": "carpet"
           }
          ],
          "choropleth": [
           {
            "colorbar": {
             "outlinewidth": 0,
             "ticks": ""
            },
            "type": "choropleth"
           }
          ],
          "contour": [
           {
            "colorbar": {
             "outlinewidth": 0,
             "ticks": ""
            },
            "colorscale": [
             [
              0,
              "#0d0887"
             ],
             [
              0.1111111111111111,
              "#46039f"
             ],
             [
              0.2222222222222222,
              "#7201a8"
             ],
             [
              0.3333333333333333,
              "#9c179e"
             ],
             [
              0.4444444444444444,
              "#bd3786"
             ],
             [
              0.5555555555555556,
              "#d8576b"
             ],
             [
              0.6666666666666666,
              "#ed7953"
             ],
             [
              0.7777777777777778,
              "#fb9f3a"
             ],
             [
              0.8888888888888888,
              "#fdca26"
             ],
             [
              1,
              "#f0f921"
             ]
            ],
            "type": "contour"
           }
          ],
          "contourcarpet": [
           {
            "colorbar": {
             "outlinewidth": 0,
             "ticks": ""
            },
            "type": "contourcarpet"
           }
          ],
          "heatmap": [
           {
            "colorbar": {
             "outlinewidth": 0,
             "ticks": ""
            },
            "colorscale": [
             [
              0,
              "#0d0887"
             ],
             [
              0.1111111111111111,
              "#46039f"
             ],
             [
              0.2222222222222222,
              "#7201a8"
             ],
             [
              0.3333333333333333,
              "#9c179e"
             ],
             [
              0.4444444444444444,
              "#bd3786"
             ],
             [
              0.5555555555555556,
              "#d8576b"
             ],
             [
              0.6666666666666666,
              "#ed7953"
             ],
             [
              0.7777777777777778,
              "#fb9f3a"
             ],
             [
              0.8888888888888888,
              "#fdca26"
             ],
             [
              1,
              "#f0f921"
             ]
            ],
            "type": "heatmap"
           }
          ],
          "heatmapgl": [
           {
            "colorbar": {
             "outlinewidth": 0,
             "ticks": ""
            },
            "colorscale": [
             [
              0,
              "#0d0887"
             ],
             [
              0.1111111111111111,
              "#46039f"
             ],
             [
              0.2222222222222222,
              "#7201a8"
             ],
             [
              0.3333333333333333,
              "#9c179e"
             ],
             [
              0.4444444444444444,
              "#bd3786"
             ],
             [
              0.5555555555555556,
              "#d8576b"
             ],
             [
              0.6666666666666666,
              "#ed7953"
             ],
             [
              0.7777777777777778,
              "#fb9f3a"
             ],
             [
              0.8888888888888888,
              "#fdca26"
             ],
             [
              1,
              "#f0f921"
             ]
            ],
            "type": "heatmapgl"
           }
          ],
          "histogram": [
           {
            "marker": {
             "pattern": {
              "fillmode": "overlay",
              "size": 10,
              "solidity": 0.2
             }
            },
            "type": "histogram"
           }
          ],
          "histogram2d": [
           {
            "colorbar": {
             "outlinewidth": 0,
             "ticks": ""
            },
            "colorscale": [
             [
              0,
              "#0d0887"
             ],
             [
              0.1111111111111111,
              "#46039f"
             ],
             [
              0.2222222222222222,
              "#7201a8"
             ],
             [
              0.3333333333333333,
              "#9c179e"
             ],
             [
              0.4444444444444444,
              "#bd3786"
             ],
             [
              0.5555555555555556,
              "#d8576b"
             ],
             [
              0.6666666666666666,
              "#ed7953"
             ],
             [
              0.7777777777777778,
              "#fb9f3a"
             ],
             [
              0.8888888888888888,
              "#fdca26"
             ],
             [
              1,
              "#f0f921"
             ]
            ],
            "type": "histogram2d"
           }
          ],
          "histogram2dcontour": [
           {
            "colorbar": {
             "outlinewidth": 0,
             "ticks": ""
            },
            "colorscale": [
             [
              0,
              "#0d0887"
             ],
             [
              0.1111111111111111,
              "#46039f"
             ],
             [
              0.2222222222222222,
              "#7201a8"
             ],
             [
              0.3333333333333333,
              "#9c179e"
             ],
             [
              0.4444444444444444,
              "#bd3786"
             ],
             [
              0.5555555555555556,
              "#d8576b"
             ],
             [
              0.6666666666666666,
              "#ed7953"
             ],
             [
              0.7777777777777778,
              "#fb9f3a"
             ],
             [
              0.8888888888888888,
              "#fdca26"
             ],
             [
              1,
              "#f0f921"
             ]
            ],
            "type": "histogram2dcontour"
           }
          ],
          "mesh3d": [
           {
            "colorbar": {
             "outlinewidth": 0,
             "ticks": ""
            },
            "type": "mesh3d"
           }
          ],
          "parcoords": [
           {
            "line": {
             "colorbar": {
              "outlinewidth": 0,
              "ticks": ""
             }
            },
            "type": "parcoords"
           }
          ],
          "pie": [
           {
            "automargin": true,
            "type": "pie"
           }
          ],
          "scatter": [
           {
            "fillpattern": {
             "fillmode": "overlay",
             "size": 10,
             "solidity": 0.2
            },
            "type": "scatter"
           }
          ],
          "scatter3d": [
           {
            "line": {
             "colorbar": {
              "outlinewidth": 0,
              "ticks": ""
             }
            },
            "marker": {
             "colorbar": {
              "outlinewidth": 0,
              "ticks": ""
             }
            },
            "type": "scatter3d"
           }
          ],
          "scattercarpet": [
           {
            "marker": {
             "colorbar": {
              "outlinewidth": 0,
              "ticks": ""
             }
            },
            "type": "scattercarpet"
           }
          ],
          "scattergeo": [
           {
            "marker": {
             "colorbar": {
              "outlinewidth": 0,
              "ticks": ""
             }
            },
            "type": "scattergeo"
           }
          ],
          "scattergl": [
           {
            "marker": {
             "colorbar": {
              "outlinewidth": 0,
              "ticks": ""
             }
            },
            "type": "scattergl"
           }
          ],
          "scattermapbox": [
           {
            "marker": {
             "colorbar": {
              "outlinewidth": 0,
              "ticks": ""
             }
            },
            "type": "scattermapbox"
           }
          ],
          "scatterpolar": [
           {
            "marker": {
             "colorbar": {
              "outlinewidth": 0,
              "ticks": ""
             }
            },
            "type": "scatterpolar"
           }
          ],
          "scatterpolargl": [
           {
            "marker": {
             "colorbar": {
              "outlinewidth": 0,
              "ticks": ""
             }
            },
            "type": "scatterpolargl"
           }
          ],
          "scatterternary": [
           {
            "marker": {
             "colorbar": {
              "outlinewidth": 0,
              "ticks": ""
             }
            },
            "type": "scatterternary"
           }
          ],
          "surface": [
           {
            "colorbar": {
             "outlinewidth": 0,
             "ticks": ""
            },
            "colorscale": [
             [
              0,
              "#0d0887"
             ],
             [
              0.1111111111111111,
              "#46039f"
             ],
             [
              0.2222222222222222,
              "#7201a8"
             ],
             [
              0.3333333333333333,
              "#9c179e"
             ],
             [
              0.4444444444444444,
              "#bd3786"
             ],
             [
              0.5555555555555556,
              "#d8576b"
             ],
             [
              0.6666666666666666,
              "#ed7953"
             ],
             [
              0.7777777777777778,
              "#fb9f3a"
             ],
             [
              0.8888888888888888,
              "#fdca26"
             ],
             [
              1,
              "#f0f921"
             ]
            ],
            "type": "surface"
           }
          ],
          "table": [
           {
            "cells": {
             "fill": {
              "color": "#EBF0F8"
             },
             "line": {
              "color": "white"
             }
            },
            "header": {
             "fill": {
              "color": "#C8D4E3"
             },
             "line": {
              "color": "white"
             }
            },
            "type": "table"
           }
          ]
         },
         "layout": {
          "annotationdefaults": {
           "arrowcolor": "#2a3f5f",
           "arrowhead": 0,
           "arrowwidth": 1
          },
          "autotypenumbers": "strict",
          "coloraxis": {
           "colorbar": {
            "outlinewidth": 0,
            "ticks": ""
           }
          },
          "colorscale": {
           "diverging": [
            [
             0,
             "#8e0152"
            ],
            [
             0.1,
             "#c51b7d"
            ],
            [
             0.2,
             "#de77ae"
            ],
            [
             0.3,
             "#f1b6da"
            ],
            [
             0.4,
             "#fde0ef"
            ],
            [
             0.5,
             "#f7f7f7"
            ],
            [
             0.6,
             "#e6f5d0"
            ],
            [
             0.7,
             "#b8e186"
            ],
            [
             0.8,
             "#7fbc41"
            ],
            [
             0.9,
             "#4d9221"
            ],
            [
             1,
             "#276419"
            ]
           ],
           "sequential": [
            [
             0,
             "#0d0887"
            ],
            [
             0.1111111111111111,
             "#46039f"
            ],
            [
             0.2222222222222222,
             "#7201a8"
            ],
            [
             0.3333333333333333,
             "#9c179e"
            ],
            [
             0.4444444444444444,
             "#bd3786"
            ],
            [
             0.5555555555555556,
             "#d8576b"
            ],
            [
             0.6666666666666666,
             "#ed7953"
            ],
            [
             0.7777777777777778,
             "#fb9f3a"
            ],
            [
             0.8888888888888888,
             "#fdca26"
            ],
            [
             1,
             "#f0f921"
            ]
           ],
           "sequentialminus": [
            [
             0,
             "#0d0887"
            ],
            [
             0.1111111111111111,
             "#46039f"
            ],
            [
             0.2222222222222222,
             "#7201a8"
            ],
            [
             0.3333333333333333,
             "#9c179e"
            ],
            [
             0.4444444444444444,
             "#bd3786"
            ],
            [
             0.5555555555555556,
             "#d8576b"
            ],
            [
             0.6666666666666666,
             "#ed7953"
            ],
            [
             0.7777777777777778,
             "#fb9f3a"
            ],
            [
             0.8888888888888888,
             "#fdca26"
            ],
            [
             1,
             "#f0f921"
            ]
           ]
          },
          "colorway": [
           "#636efa",
           "#EF553B",
           "#00cc96",
           "#ab63fa",
           "#FFA15A",
           "#19d3f3",
           "#FF6692",
           "#B6E880",
           "#FF97FF",
           "#FECB52"
          ],
          "font": {
           "color": "#2a3f5f"
          },
          "geo": {
           "bgcolor": "white",
           "lakecolor": "white",
           "landcolor": "#E5ECF6",
           "showlakes": true,
           "showland": true,
           "subunitcolor": "white"
          },
          "hoverlabel": {
           "align": "left"
          },
          "hovermode": "closest",
          "mapbox": {
           "style": "light"
          },
          "paper_bgcolor": "white",
          "plot_bgcolor": "#E5ECF6",
          "polar": {
           "angularaxis": {
            "gridcolor": "white",
            "linecolor": "white",
            "ticks": ""
           },
           "bgcolor": "#E5ECF6",
           "radialaxis": {
            "gridcolor": "white",
            "linecolor": "white",
            "ticks": ""
           }
          },
          "scene": {
           "xaxis": {
            "backgroundcolor": "#E5ECF6",
            "gridcolor": "white",
            "gridwidth": 2,
            "linecolor": "white",
            "showbackground": true,
            "ticks": "",
            "zerolinecolor": "white"
           },
           "yaxis": {
            "backgroundcolor": "#E5ECF6",
            "gridcolor": "white",
            "gridwidth": 2,
            "linecolor": "white",
            "showbackground": true,
            "ticks": "",
            "zerolinecolor": "white"
           },
           "zaxis": {
            "backgroundcolor": "#E5ECF6",
            "gridcolor": "white",
            "gridwidth": 2,
            "linecolor": "white",
            "showbackground": true,
            "ticks": "",
            "zerolinecolor": "white"
           }
          },
          "shapedefaults": {
           "line": {
            "color": "#2a3f5f"
           }
          },
          "ternary": {
           "aaxis": {
            "gridcolor": "white",
            "linecolor": "white",
            "ticks": ""
           },
           "baxis": {
            "gridcolor": "white",
            "linecolor": "white",
            "ticks": ""
           },
           "bgcolor": "#E5ECF6",
           "caxis": {
            "gridcolor": "white",
            "linecolor": "white",
            "ticks": ""
           }
          },
          "title": {
           "x": 0.05
          },
          "xaxis": {
           "automargin": true,
           "gridcolor": "white",
           "linecolor": "white",
           "ticks": "",
           "title": {
            "standoff": 15
           },
           "zerolinecolor": "white",
           "zerolinewidth": 2
          },
          "yaxis": {
           "automargin": true,
           "gridcolor": "white",
           "linecolor": "white",
           "ticks": "",
           "title": {
            "standoff": 15
           },
           "zerolinecolor": "white",
           "zerolinewidth": 2
          }
         }
        },
        "title": {
         "text": "Distribution of CA-CA Distances<br><sub>Interactive histogram with statistics</sub>"
        },
        "width": 800,
        "xaxis": {
         "title": {
          "text": "Distance (Å)"
         }
        },
        "yaxis": {
         "title": {
          "text": "Count"
         }
        }
       }
      }
     },
     "metadata": {},
     "output_type": "display_data"
    }
   ],
   "source": [
    "# Interactive distance distribution with Plotly\n",
    "distances_list = distance_matrix[np.triu_indices_from(distance_matrix, k=1)]\n",
    "\n",
    "print(\"Distance statistics:\")\n",
    "print(f\"Mean distance: {np.mean(distances_list):.2f} Å\")\n",
    "print(f\"Std deviation: {np.std(distances_list):.2f} Å\")\n",
    "print(f\"Min distance: {np.min(distances_list):.2f} Å\")\n",
    "print(f\"Max distance: {np.max(distances_list):.2f} Å\")\n",
    "\n",
    "# Create interactive histogram\n",
    "fig_hist = go.Figure()\n",
    "\n",
    "fig_hist.add_trace(\n",
    "    go.Histogram(\n",
    "        x=distances_list,\n",
    "        nbinsx=10,\n",
    "        name=\"Distance Distribution\",\n",
    "        opacity=0.7,\n",
    "        marker_color=\"steelblue\",\n",
    "        hovertemplate=\"Distance: %{x:.2f} Å<br>Count: %{y}<extra></extra>\",\n",
    "    )\n",
    ")\n",
    "\n",
    "# Add mean line\n",
    "mean_dist = np.mean(distances_list)\n",
    "fig_hist.add_vline(\n",
    "    x=mean_dist,\n",
    "    line_dash=\"dash\",\n",
    "    line_color=\"red\",\n",
    "    annotation_text=f\"Mean = {mean_dist:.2f} Å\",\n",
    ")\n",
    "\n",
    "fig_hist.update_layout(\n",
    "    title=\"Distribution of CA-CA Distances<br><sub>Interactive histogram with statistics</sub>\",\n",
    "    xaxis_title=\"Distance (Å)\",\n",
    "    yaxis_title=\"Count\",\n",
    "    width=800,\n",
    "    height=500,\n",
    ")\n",
    "\n",
    "fig_hist.show()"
   ]
  },
  {
   "cell_type": "markdown",
   "metadata": {},
   "source": [
    "---\n",
    "## Pandas - Organizing Residue Properties\n",
    "\n",
    "[Pandas](https://pandas.pydata.org/) provides DataFrames - spreadsheet-like data structures.\n",
    "\n",
    "**Why Pandas for structural bioinformatics?**\n",
    "- Proteins have multiple properties per residue (coordinates, B-factor, type, etc.)\n",
    "- Need to filter, sort, and analyze these properties\n",
    "- Easy to export results to CSV for other tools\n",
    "\n",
    "**DataFrame = table with labeled columns**"
   ]
  },
  {
   "cell_type": "markdown",
   "metadata": {},
   "source": [
    "### Creating a DataFrame: Residue Properties"
   ]
  },
  {
   "cell_type": "code",
   "execution_count": null,
   "metadata": {},
   "outputs": [
    {
     "data": {
      "text/html": [
       "<div>\n",
       "<style scoped>\n",
       "    .dataframe tbody tr th:only-of-type {\n",
       "        vertical-align: middle;\n",
       "    }\n",
       "\n",
       "    .dataframe tbody tr th {\n",
       "        vertical-align: top;\n",
       "    }\n",
       "\n",
       "    .dataframe thead th {\n",
       "        text-align: right;\n",
       "    }\n",
       "</style>\n",
       "<table border=\"1\" class=\"dataframe\">\n",
       "  <thead>\n",
       "    <tr style=\"text-align: right;\">\n",
       "      <th></th>\n",
       "      <th>residue_number</th>\n",
       "      <th>residue_name</th>\n",
       "      <th>chain</th>\n",
       "      <th>atom_name</th>\n",
       "      <th>x</th>\n",
       "      <th>y</th>\n",
       "      <th>z</th>\n",
       "      <th>b_factor</th>\n",
       "    </tr>\n",
       "  </thead>\n",
       "  <tbody>\n",
       "    <tr>\n",
       "      <th>0</th>\n",
       "      <td>1</td>\n",
       "      <td>ALA</td>\n",
       "      <td>A</td>\n",
       "      <td>CA</td>\n",
       "      <td>10.5</td>\n",
       "      <td>12.3</td>\n",
       "      <td>8.2</td>\n",
       "      <td>25.3</td>\n",
       "    </tr>\n",
       "    <tr>\n",
       "      <th>1</th>\n",
       "      <td>2</td>\n",
       "      <td>VAL</td>\n",
       "      <td>A</td>\n",
       "      <td>CA</td>\n",
       "      <td>12.1</td>\n",
       "      <td>15.8</td>\n",
       "      <td>9.1</td>\n",
       "      <td>18.7</td>\n",
       "    </tr>\n",
       "    <tr>\n",
       "      <th>2</th>\n",
       "      <td>3</td>\n",
       "      <td>GLY</td>\n",
       "      <td>A</td>\n",
       "      <td>CA</td>\n",
       "      <td>15.3</td>\n",
       "      <td>17.2</td>\n",
       "      <td>10.5</td>\n",
       "      <td>32.1</td>\n",
       "    </tr>\n",
       "    <tr>\n",
       "      <th>3</th>\n",
       "      <td>4</td>\n",
       "      <td>LEU</td>\n",
       "      <td>A</td>\n",
       "      <td>CA</td>\n",
       "      <td>18.9</td>\n",
       "      <td>19.1</td>\n",
       "      <td>11.8</td>\n",
       "      <td>15.2</td>\n",
       "    </tr>\n",
       "    <tr>\n",
       "      <th>4</th>\n",
       "      <td>5</td>\n",
       "      <td>GLY</td>\n",
       "      <td>A</td>\n",
       "      <td>CA</td>\n",
       "      <td>22.1</td>\n",
       "      <td>20.5</td>\n",
       "      <td>13.2</td>\n",
       "      <td>28.9</td>\n",
       "    </tr>\n",
       "  </tbody>\n",
       "</table>\n",
       "</div>"
      ],
      "text/plain": [
       "   residue_number residue_name chain atom_name     x     y     z  b_factor\n",
       "0               1          ALA     A        CA  10.5  12.3   8.2      25.3\n",
       "1               2          VAL     A        CA  12.1  15.8   9.1      18.7\n",
       "2               3          GLY     A        CA  15.3  17.2  10.5      32.1\n",
       "3               4          LEU     A        CA  18.9  19.1  11.8      15.2\n",
       "4               5          GLY     A        CA  22.1  20.5  13.2      28.9"
      ]
     },
     "execution_count": 32,
     "metadata": {},
     "output_type": "execute_result"
    }
   ],
   "source": [
    "# Create DataFrame with residue information\n",
    "residue_data = pd.DataFrame(\n",
    "    {\n",
    "        \"residue_number\": [1, 2, 3, 4, 5],\n",
    "        \"residue_name\": [\"ALA\", \"VAL\", \"GLY\", \"LEU\", \"GLY\"],\n",
    "        \"chain\": [\"A\", \"A\", \"A\", \"A\", \"A\"],\n",
    "        \"atom_name\": [\"CA\", \"CA\", \"CA\", \"CA\", \"CA\"],  # Atom type\n",
    "        \"x\": ca_coords[:, 0],\n",
    "        \"y\": ca_coords[:, 1],\n",
    "        \"z\": ca_coords[:, 2],\n",
    "        \"b_factor\": [25.3, 18.7, 32.1, 15.2, 28.9],  # Temperature factor (Å²)\n",
    "    }\n",
    ")\n",
    "\n",
    "residue_data"
   ]
  },
  {
   "cell_type": "markdown",
   "metadata": {},
   "source": [
    "**Understanding the properties:**\n",
    "- **residue_number**: Position in chain (1, 2, 3...)\n",
    "- **residue_name**: 3-letter amino acid code (ALA = alanine, GLY = glycine, etc.)\n",
    "- **chain**: Protein chain identifier (A, B, C...)\n",
    "- **atom_name**: Type of atom (CA = alpha carbon)\n",
    "- **x, y, z**: CA atom coordinates (Å)\n",
    "- **b_factor**: Thermal motion/disorder (higher = more flexible)"
   ]
  },
  {
   "cell_type": "markdown",
   "metadata": {},
   "source": [
    "### Basic DataFrame Operations"
   ]
  },
  {
   "cell_type": "code",
   "execution_count": 33,
   "metadata": {},
   "outputs": [
    {
     "name": "stdout",
     "output_type": "stream",
     "text": [
      "Columns: ['residue_number', 'residue_name', 'chain', 'atom_name', 'x', 'y', 'z', 'b_factor']\n",
      "Shape: 5 rows × 8 columns\n",
      "\n",
      "Data types:\n",
      "residue_number      int64\n",
      "residue_name       object\n",
      "chain              object\n",
      "atom_name          object\n",
      "x                 float64\n",
      "y                 float64\n",
      "z                 float64\n",
      "b_factor          float64\n",
      "dtype: object\n"
     ]
    }
   ],
   "source": [
    "# Get column names\n",
    "print(\"Columns:\", residue_data.columns.tolist())\n",
    "\n",
    "# Get shape\n",
    "print(f\"Shape: {residue_data.shape[0]} rows × {residue_data.shape[1]} columns\")\n",
    "\n",
    "# Get data types\n",
    "print(\"\\nData types:\")\n",
    "print(residue_data.dtypes)"
   ]
  },
  {
   "cell_type": "code",
   "execution_count": 34,
   "metadata": {},
   "outputs": [
    {
     "name": "stdout",
     "output_type": "stream",
     "text": [
      "B-factors:\n",
      "0    25.3\n",
      "1    18.7\n",
      "2    32.1\n",
      "3    15.2\n",
      "4    28.9\n",
      "Name: b_factor, dtype: float64\n"
     ]
    }
   ],
   "source": [
    "# Select single column\n",
    "bfactors = residue_data[\"b_factor\"]\n",
    "print(\"B-factors:\")\n",
    "print(bfactors)"
   ]
  },
  {
   "cell_type": "code",
   "execution_count": 35,
   "metadata": {},
   "outputs": [
    {
     "name": "stdout",
     "output_type": "stream",
     "text": [
      "Coordinate columns:\n",
      "      x     y     z\n",
      "0  10.5  12.3   8.2\n",
      "1  12.1  15.8   9.1\n",
      "2  15.3  17.2  10.5\n",
      "3  18.9  19.1  11.8\n",
      "4  22.1  20.5  13.2\n"
     ]
    }
   ],
   "source": [
    "# Select multiple columns\n",
    "coords_df = residue_data[[\"x\", \"y\", \"z\"]]\n",
    "print(\"Coordinate columns:\")\n",
    "print(coords_df)"
   ]
  },
  {
   "cell_type": "code",
   "execution_count": 36,
   "metadata": {},
   "outputs": [
    {
     "name": "stdout",
     "output_type": "stream",
     "text": [
      "First residue:\n",
      "residue_number       1\n",
      "residue_name       ALA\n",
      "chain                A\n",
      "atom_name           CA\n",
      "x                 10.5\n",
      "y                 12.3\n",
      "z                  8.2\n",
      "b_factor          25.3\n",
      "Name: 0, dtype: object\n"
     ]
    }
   ],
   "source": [
    "# Select row by index\n",
    "first_residue = residue_data.iloc[0]  # iloc = integer location\n",
    "print(\"First residue:\")\n",
    "print(first_residue)"
   ]
  },
  {
   "cell_type": "code",
   "execution_count": 37,
   "metadata": {},
   "outputs": [
    {
     "name": "stdout",
     "output_type": "stream",
     "text": [
      "B-factor of residue 3: 32.1\n"
     ]
    }
   ],
   "source": [
    "# Select specific value\n",
    "bfactor_res3 = residue_data.loc[2, \"b_factor\"]  # Row 2 (3rd row), b_factor column\n",
    "print(f\"B-factor of residue 3: {bfactor_res3}\")"
   ]
  },
  {
   "cell_type": "markdown",
   "metadata": {},
   "source": [
    "### Filtering Data: Finding Specific Residues"
   ]
  },
  {
   "cell_type": "code",
   "execution_count": 38,
   "metadata": {},
   "outputs": [
    {
     "name": "stdout",
     "output_type": "stream",
     "text": [
      "Flexible residues (B-factor > 25):\n",
      "   residue_number residue_name chain atom_name     x     y     z  b_factor\n",
      "0               1          ALA     A        CA  10.5  12.3   8.2      25.3\n",
      "2               3          GLY     A        CA  15.3  17.2  10.5      32.1\n",
      "4               5          GLY     A        CA  22.1  20.5  13.2      28.9\n"
     ]
    }
   ],
   "source": [
    "# Find residues with high B-factor (flexible regions)\n",
    "flexible = residue_data[residue_data[\"b_factor\"] > 25]\n",
    "print(\"Flexible residues (B-factor > 25):\")\n",
    "print(flexible)"
   ]
  },
  {
   "cell_type": "code",
   "execution_count": 39,
   "metadata": {},
   "outputs": [
    {
     "name": "stdout",
     "output_type": "stream",
     "text": [
      "Glycine residues:\n",
      "   residue_number residue_name chain atom_name     x     y     z  b_factor\n",
      "2               3          GLY     A        CA  15.3  17.2  10.5      32.1\n",
      "4               5          GLY     A        CA  22.1  20.5  13.2      28.9\n"
     ]
    }
   ],
   "source": [
    "# Find glycine residues (most flexible amino acid - no sidechain)\n",
    "glycines = residue_data[residue_data[\"residue_name\"] == \"GLY\"]\n",
    "print(\"Glycine residues:\")\n",
    "print(glycines)"
   ]
  },
  {
   "cell_type": "code",
   "execution_count": 40,
   "metadata": {},
   "outputs": [
    {
     "name": "stdout",
     "output_type": "stream",
     "text": [
      "Flexible residues in first half:\n",
      "   residue_number residue_name chain atom_name     x     y     z  b_factor\n",
      "0               1          ALA     A        CA  10.5  12.3   8.2      25.3\n",
      "2               3          GLY     A        CA  15.3  17.2  10.5      32.1\n"
     ]
    }
   ],
   "source": [
    "# Multiple conditions: flexible AND in first half of structure\n",
    "condition = (residue_data[\"b_factor\"] > 20) & (residue_data[\"residue_number\"] <= 3)\n",
    "filtered = residue_data[condition]\n",
    "print(\"Flexible residues in first half:\")\n",
    "print(filtered)"
   ]
  },
  {
   "cell_type": "markdown",
   "metadata": {},
   "source": [
    "### Adding Calculated Columns"
   ]
  },
  {
   "cell_type": "code",
   "execution_count": 41,
   "metadata": {},
   "outputs": [
    {
     "name": "stdout",
     "output_type": "stream",
     "text": [
      "DataFrame with calculated column:\n",
      "   residue_number residue_name  distance_from_origin\n",
      "0               1          ALA             18.132292\n",
      "1               2          VAL             21.882870\n",
      "2               3          GLY             25.301779\n",
      "3               4          LEU             29.347232\n",
      "4               5          GLY             32.907446\n"
     ]
    }
   ],
   "source": [
    "# Calculate distance from origin for each residue\n",
    "residue_data[\"distance_from_origin\"] = np.sqrt(\n",
    "    residue_data[\"x\"] ** 2 + residue_data[\"y\"] ** 2 + residue_data[\"z\"] ** 2\n",
    ")\n",
    "\n",
    "print(\"DataFrame with calculated column:\")\n",
    "print(residue_data[[\"residue_number\", \"residue_name\", \"distance_from_origin\"]])"
   ]
  },
  {
   "cell_type": "markdown",
   "metadata": {},
   "source": [
    "### Summary Statistics"
   ]
  },
  {
   "cell_type": "code",
   "execution_count": 42,
   "metadata": {},
   "outputs": [
    {
     "name": "stdout",
     "output_type": "stream",
     "text": [
      "Summary statistics:\n",
      "       residue_number          x          y          z   b_factor  \\\n",
      "count        5.000000   5.000000   5.000000   5.000000   5.000000   \n",
      "mean         3.000000  15.780000  16.980000  10.560000  24.040000   \n",
      "std          1.581139   4.778284   3.171277   2.013206   7.014841   \n",
      "min          1.000000  10.500000  12.300000   8.200000  15.200000   \n",
      "25%          2.000000  12.100000  15.800000   9.100000  18.700000   \n",
      "50%          3.000000  15.300000  17.200000  10.500000  25.300000   \n",
      "75%          4.000000  18.900000  19.100000  11.800000  28.900000   \n",
      "max          5.000000  22.100000  20.500000  13.200000  32.100000   \n",
      "\n",
      "       distance_from_origin  \n",
      "count              5.000000  \n",
      "mean              25.514324  \n",
      "std                5.853983  \n",
      "min               18.132292  \n",
      "25%               21.882870  \n",
      "50%               25.301779  \n",
      "75%               29.347232  \n",
      "max               32.907446  \n",
      "       residue_number          x          y          z   b_factor  \\\n",
      "count        5.000000   5.000000   5.000000   5.000000   5.000000   \n",
      "mean         3.000000  15.780000  16.980000  10.560000  24.040000   \n",
      "std          1.581139   4.778284   3.171277   2.013206   7.014841   \n",
      "min          1.000000  10.500000  12.300000   8.200000  15.200000   \n",
      "25%          2.000000  12.100000  15.800000   9.100000  18.700000   \n",
      "50%          3.000000  15.300000  17.200000  10.500000  25.300000   \n",
      "75%          4.000000  18.900000  19.100000  11.800000  28.900000   \n",
      "max          5.000000  22.100000  20.500000  13.200000  32.100000   \n",
      "\n",
      "       distance_from_origin  \n",
      "count              5.000000  \n",
      "mean              25.514324  \n",
      "std                5.853983  \n",
      "min               18.132292  \n",
      "25%               21.882870  \n",
      "50%               25.301779  \n",
      "75%               29.347232  \n",
      "max               32.907446  \n"
     ]
    }
   ],
   "source": [
    "# Statistical summary of numerical columns\n",
    "print(\"Summary statistics:\")\n",
    "print(residue_data.describe())"
   ]
  },
  {
   "cell_type": "code",
   "execution_count": null,
   "metadata": {},
   "outputs": [
    {
     "name": "stdout",
     "output_type": "stream",
     "text": [
      "B-factor statistics by residue type:\n",
      "              count  mean   min   max\n",
      "residue_name                         \n",
      "ALA               1  25.3  25.3  25.3\n",
      "GLY               2  30.5  28.9  32.1\n",
      "LEU               1  15.2  15.2  15.2\n",
      "VAL               1  18.7  18.7  18.7\n",
      "\n",
      "Notice that GLY appears twice with different B-factors!\n"
     ]
    }
   ],
   "source": [
    "# Group by residue type (GLY appears twice in our protein)\n",
    "residue_stats = residue_data.groupby(\"residue_name\")[\"b_factor\"].agg(\n",
    "    [\"count\", \"mean\", \"min\", \"max\"]\n",
    ")\n",
    "print(\"B-factor statistics by residue type:\")\n",
    "print(residue_stats)\n",
    "print(\"\\nNotice that GLY appears twice with different B-factors!\")"
   ]
  },
  {
   "cell_type": "markdown",
   "metadata": {},
   "source": [
    "### Sorting and Ranking"
   ]
  },
  {
   "cell_type": "code",
   "execution_count": 44,
   "metadata": {},
   "outputs": [
    {
     "name": "stdout",
     "output_type": "stream",
     "text": [
      "Residues sorted by B-factor (rigid → flexible):\n",
      "   residue_number residue_name  b_factor\n",
      "3               4          LEU      15.2\n",
      "1               2          VAL      18.7\n",
      "0               1          ALA      25.3\n",
      "4               5          GLY      28.9\n",
      "2               3          GLY      32.1\n"
     ]
    }
   ],
   "source": [
    "# Sort by B-factor (most rigid to most flexible)\n",
    "sorted_by_bfactor = residue_data.sort_values(\"b_factor\")\n",
    "print(\"Residues sorted by B-factor (rigid → flexible):\")\n",
    "print(sorted_by_bfactor[[\"residue_number\", \"residue_name\", \"b_factor\"]])"
   ]
  },
  {
   "cell_type": "code",
   "execution_count": 45,
   "metadata": {},
   "outputs": [
    {
     "name": "stdout",
     "output_type": "stream",
     "text": [
      "Residues sorted by distance from origin:\n",
      "   residue_number  distance_from_origin\n",
      "0               1             18.132292\n",
      "1               2             21.882870\n",
      "2               3             25.301779\n",
      "3               4             29.347232\n",
      "4               5             32.907446\n"
     ]
    }
   ],
   "source": [
    "# Sort by distance from origin (closest to farthest)\n",
    "sorted_by_distance = residue_data.sort_values(\"distance_from_origin\")\n",
    "print(\"Residues sorted by distance from origin:\")\n",
    "print(sorted_by_distance[[\"residue_number\", \"distance_from_origin\"]])"
   ]
  },
  {
   "cell_type": "markdown",
   "metadata": {},
   "source": [
    "### Visualization with Pandas"
   ]
  },
  {
   "cell_type": "code",
   "execution_count": null,
   "metadata": {},
   "outputs": [
    {
     "data": {
      "application/vnd.plotly.v1+json": {
       "config": {
        "plotlyServerURL": "https://plot.ly"
       },
       "data": [
        {
         "customdata": [
          [
           "ALA",
           "CA"
          ],
          [
           "VAL",
           "CA"
          ],
          [
           "GLY",
           "CA"
          ],
          [
           "LEU",
           "CA"
          ],
          [
           "GLY",
           "CA"
          ]
         ],
         "hovertemplate": "Residue Number=%{x}<br>Distance from Origin (Å)=%{y}<br>B-factor (Å²)=%{marker.color}<br>residue_name=%{customdata[0]}<br>atom_name=%{customdata[1]}<extra></extra>",
         "legendgroup": "",
         "marker": {
          "color": [
           25.3,
           18.7,
           32.1,
           15.2,
           28.9
          ],
          "coloraxis": "coloraxis",
          "size": [
           25.3,
           18.7,
           32.1,
           15.2,
           28.9
          ],
          "sizemode": "area",
          "sizeref": 0.08025,
          "symbol": "circle"
         },
         "mode": "markers",
         "name": "",
         "orientation": "v",
         "showlegend": false,
         "type": "scatter",
         "x": [
          1,
          2,
          3,
          4,
          5
         ],
         "xaxis": "x",
         "y": [
          18.132291636745755,
          21.882870012866228,
          25.30177859360879,
          29.347231555974748,
          32.90744596592084
         ],
         "yaxis": "y"
        }
       ],
       "layout": {
        "coloraxis": {
         "colorbar": {
          "title": {
           "text": "B-factor (Å²)"
          }
         },
         "colorscale": [
          [
           0,
           "#440154"
          ],
          [
           0.1111111111111111,
           "#482878"
          ],
          [
           0.2222222222222222,
           "#3e4989"
          ],
          [
           0.3333333333333333,
           "#31688e"
          ],
          [
           0.4444444444444444,
           "#26828e"
          ],
          [
           0.5555555555555556,
           "#1f9e89"
          ],
          [
           0.6666666666666666,
           "#35b779"
          ],
          [
           0.7777777777777778,
           "#6ece58"
          ],
          [
           0.8888888888888888,
           "#b5de2b"
          ],
          [
           1,
           "#fde725"
          ]
         ]
        },
        "legend": {
         "itemsizing": "constant",
         "tracegroupgap": 0
        },
        "template": {
         "data": {
          "bar": [
           {
            "error_x": {
             "color": "#2a3f5f"
            },
            "error_y": {
             "color": "#2a3f5f"
            },
            "marker": {
             "line": {
              "color": "#E5ECF6",
              "width": 0.5
             },
             "pattern": {
              "fillmode": "overlay",
              "size": 10,
              "solidity": 0.2
             }
            },
            "type": "bar"
           }
          ],
          "barpolar": [
           {
            "marker": {
             "line": {
              "color": "#E5ECF6",
              "width": 0.5
             },
             "pattern": {
              "fillmode": "overlay",
              "size": 10,
              "solidity": 0.2
             }
            },
            "type": "barpolar"
           }
          ],
          "carpet": [
           {
            "aaxis": {
             "endlinecolor": "#2a3f5f",
             "gridcolor": "white",
             "linecolor": "white",
             "minorgridcolor": "white",
             "startlinecolor": "#2a3f5f"
            },
            "baxis": {
             "endlinecolor": "#2a3f5f",
             "gridcolor": "white",
             "linecolor": "white",
             "minorgridcolor": "white",
             "startlinecolor": "#2a3f5f"
            },
            "type": "carpet"
           }
          ],
          "choropleth": [
           {
            "colorbar": {
             "outlinewidth": 0,
             "ticks": ""
            },
            "type": "choropleth"
           }
          ],
          "contour": [
           {
            "colorbar": {
             "outlinewidth": 0,
             "ticks": ""
            },
            "colorscale": [
             [
              0,
              "#0d0887"
             ],
             [
              0.1111111111111111,
              "#46039f"
             ],
             [
              0.2222222222222222,
              "#7201a8"
             ],
             [
              0.3333333333333333,
              "#9c179e"
             ],
             [
              0.4444444444444444,
              "#bd3786"
             ],
             [
              0.5555555555555556,
              "#d8576b"
             ],
             [
              0.6666666666666666,
              "#ed7953"
             ],
             [
              0.7777777777777778,
              "#fb9f3a"
             ],
             [
              0.8888888888888888,
              "#fdca26"
             ],
             [
              1,
              "#f0f921"
             ]
            ],
            "type": "contour"
           }
          ],
          "contourcarpet": [
           {
            "colorbar": {
             "outlinewidth": 0,
             "ticks": ""
            },
            "type": "contourcarpet"
           }
          ],
          "heatmap": [
           {
            "colorbar": {
             "outlinewidth": 0,
             "ticks": ""
            },
            "colorscale": [
             [
              0,
              "#0d0887"
             ],
             [
              0.1111111111111111,
              "#46039f"
             ],
             [
              0.2222222222222222,
              "#7201a8"
             ],
             [
              0.3333333333333333,
              "#9c179e"
             ],
             [
              0.4444444444444444,
              "#bd3786"
             ],
             [
              0.5555555555555556,
              "#d8576b"
             ],
             [
              0.6666666666666666,
              "#ed7953"
             ],
             [
              0.7777777777777778,
              "#fb9f3a"
             ],
             [
              0.8888888888888888,
              "#fdca26"
             ],
             [
              1,
              "#f0f921"
             ]
            ],
            "type": "heatmap"
           }
          ],
          "heatmapgl": [
           {
            "colorbar": {
             "outlinewidth": 0,
             "ticks": ""
            },
            "colorscale": [
             [
              0,
              "#0d0887"
             ],
             [
              0.1111111111111111,
              "#46039f"
             ],
             [
              0.2222222222222222,
              "#7201a8"
             ],
             [
              0.3333333333333333,
              "#9c179e"
             ],
             [
              0.4444444444444444,
              "#bd3786"
             ],
             [
              0.5555555555555556,
              "#d8576b"
             ],
             [
              0.6666666666666666,
              "#ed7953"
             ],
             [
              0.7777777777777778,
              "#fb9f3a"
             ],
             [
              0.8888888888888888,
              "#fdca26"
             ],
             [
              1,
              "#f0f921"
             ]
            ],
            "type": "heatmapgl"
           }
          ],
          "histogram": [
           {
            "marker": {
             "pattern": {
              "fillmode": "overlay",
              "size": 10,
              "solidity": 0.2
             }
            },
            "type": "histogram"
           }
          ],
          "histogram2d": [
           {
            "colorbar": {
             "outlinewidth": 0,
             "ticks": ""
            },
            "colorscale": [
             [
              0,
              "#0d0887"
             ],
             [
              0.1111111111111111,
              "#46039f"
             ],
             [
              0.2222222222222222,
              "#7201a8"
             ],
             [
              0.3333333333333333,
              "#9c179e"
             ],
             [
              0.4444444444444444,
              "#bd3786"
             ],
             [
              0.5555555555555556,
              "#d8576b"
             ],
             [
              0.6666666666666666,
              "#ed7953"
             ],
             [
              0.7777777777777778,
              "#fb9f3a"
             ],
             [
              0.8888888888888888,
              "#fdca26"
             ],
             [
              1,
              "#f0f921"
             ]
            ],
            "type": "histogram2d"
           }
          ],
          "histogram2dcontour": [
           {
            "colorbar": {
             "outlinewidth": 0,
             "ticks": ""
            },
            "colorscale": [
             [
              0,
              "#0d0887"
             ],
             [
              0.1111111111111111,
              "#46039f"
             ],
             [
              0.2222222222222222,
              "#7201a8"
             ],
             [
              0.3333333333333333,
              "#9c179e"
             ],
             [
              0.4444444444444444,
              "#bd3786"
             ],
             [
              0.5555555555555556,
              "#d8576b"
             ],
             [
              0.6666666666666666,
              "#ed7953"
             ],
             [
              0.7777777777777778,
              "#fb9f3a"
             ],
             [
              0.8888888888888888,
              "#fdca26"
             ],
             [
              1,
              "#f0f921"
             ]
            ],
            "type": "histogram2dcontour"
           }
          ],
          "mesh3d": [
           {
            "colorbar": {
             "outlinewidth": 0,
             "ticks": ""
            },
            "type": "mesh3d"
           }
          ],
          "parcoords": [
           {
            "line": {
             "colorbar": {
              "outlinewidth": 0,
              "ticks": ""
             }
            },
            "type": "parcoords"
           }
          ],
          "pie": [
           {
            "automargin": true,
            "type": "pie"
           }
          ],
          "scatter": [
           {
            "fillpattern": {
             "fillmode": "overlay",
             "size": 10,
             "solidity": 0.2
            },
            "type": "scatter"
           }
          ],
          "scatter3d": [
           {
            "line": {
             "colorbar": {
              "outlinewidth": 0,
              "ticks": ""
             }
            },
            "marker": {
             "colorbar": {
              "outlinewidth": 0,
              "ticks": ""
             }
            },
            "type": "scatter3d"
           }
          ],
          "scattercarpet": [
           {
            "marker": {
             "colorbar": {
              "outlinewidth": 0,
              "ticks": ""
             }
            },
            "type": "scattercarpet"
           }
          ],
          "scattergeo": [
           {
            "marker": {
             "colorbar": {
              "outlinewidth": 0,
              "ticks": ""
             }
            },
            "type": "scattergeo"
           }
          ],
          "scattergl": [
           {
            "marker": {
             "colorbar": {
              "outlinewidth": 0,
              "ticks": ""
             }
            },
            "type": "scattergl"
           }
          ],
          "scattermapbox": [
           {
            "marker": {
             "colorbar": {
              "outlinewidth": 0,
              "ticks": ""
             }
            },
            "type": "scattermapbox"
           }
          ],
          "scatterpolar": [
           {
            "marker": {
             "colorbar": {
              "outlinewidth": 0,
              "ticks": ""
             }
            },
            "type": "scatterpolar"
           }
          ],
          "scatterpolargl": [
           {
            "marker": {
             "colorbar": {
              "outlinewidth": 0,
              "ticks": ""
             }
            },
            "type": "scatterpolargl"
           }
          ],
          "scatterternary": [
           {
            "marker": {
             "colorbar": {
              "outlinewidth": 0,
              "ticks": ""
             }
            },
            "type": "scatterternary"
           }
          ],
          "surface": [
           {
            "colorbar": {
             "outlinewidth": 0,
             "ticks": ""
            },
            "colorscale": [
             [
              0,
              "#0d0887"
             ],
             [
              0.1111111111111111,
              "#46039f"
             ],
             [
              0.2222222222222222,
              "#7201a8"
             ],
             [
              0.3333333333333333,
              "#9c179e"
             ],
             [
              0.4444444444444444,
              "#bd3786"
             ],
             [
              0.5555555555555556,
              "#d8576b"
             ],
             [
              0.6666666666666666,
              "#ed7953"
             ],
             [
              0.7777777777777778,
              "#fb9f3a"
             ],
             [
              0.8888888888888888,
              "#fdca26"
             ],
             [
              1,
              "#f0f921"
             ]
            ],
            "type": "surface"
           }
          ],
          "table": [
           {
            "cells": {
             "fill": {
              "color": "#EBF0F8"
             },
             "line": {
              "color": "white"
             }
            },
            "header": {
             "fill": {
              "color": "#C8D4E3"
             },
             "line": {
              "color": "white"
             }
            },
            "type": "table"
           }
          ]
         },
         "layout": {
          "annotationdefaults": {
           "arrowcolor": "#2a3f5f",
           "arrowhead": 0,
           "arrowwidth": 1
          },
          "autotypenumbers": "strict",
          "coloraxis": {
           "colorbar": {
            "outlinewidth": 0,
            "ticks": ""
           }
          },
          "colorscale": {
           "diverging": [
            [
             0,
             "#8e0152"
            ],
            [
             0.1,
             "#c51b7d"
            ],
            [
             0.2,
             "#de77ae"
            ],
            [
             0.3,
             "#f1b6da"
            ],
            [
             0.4,
             "#fde0ef"
            ],
            [
             0.5,
             "#f7f7f7"
            ],
            [
             0.6,
             "#e6f5d0"
            ],
            [
             0.7,
             "#b8e186"
            ],
            [
             0.8,
             "#7fbc41"
            ],
            [
             0.9,
             "#4d9221"
            ],
            [
             1,
             "#276419"
            ]
           ],
           "sequential": [
            [
             0,
             "#0d0887"
            ],
            [
             0.1111111111111111,
             "#46039f"
            ],
            [
             0.2222222222222222,
             "#7201a8"
            ],
            [
             0.3333333333333333,
             "#9c179e"
            ],
            [
             0.4444444444444444,
             "#bd3786"
            ],
            [
             0.5555555555555556,
             "#d8576b"
            ],
            [
             0.6666666666666666,
             "#ed7953"
            ],
            [
             0.7777777777777778,
             "#fb9f3a"
            ],
            [
             0.8888888888888888,
             "#fdca26"
            ],
            [
             1,
             "#f0f921"
            ]
           ],
           "sequentialminus": [
            [
             0,
             "#0d0887"
            ],
            [
             0.1111111111111111,
             "#46039f"
            ],
            [
             0.2222222222222222,
             "#7201a8"
            ],
            [
             0.3333333333333333,
             "#9c179e"
            ],
            [
             0.4444444444444444,
             "#bd3786"
            ],
            [
             0.5555555555555556,
             "#d8576b"
            ],
            [
             0.6666666666666666,
             "#ed7953"
            ],
            [
             0.7777777777777778,
             "#fb9f3a"
            ],
            [
             0.8888888888888888,
             "#fdca26"
            ],
            [
             1,
             "#f0f921"
            ]
           ]
          },
          "colorway": [
           "#636efa",
           "#EF553B",
           "#00cc96",
           "#ab63fa",
           "#FFA15A",
           "#19d3f3",
           "#FF6692",
           "#B6E880",
           "#FF97FF",
           "#FECB52"
          ],
          "font": {
           "color": "#2a3f5f"
          },
          "geo": {
           "bgcolor": "white",
           "lakecolor": "white",
           "landcolor": "#E5ECF6",
           "showlakes": true,
           "showland": true,
           "subunitcolor": "white"
          },
          "hoverlabel": {
           "align": "left"
          },
          "hovermode": "closest",
          "mapbox": {
           "style": "light"
          },
          "paper_bgcolor": "white",
          "plot_bgcolor": "#E5ECF6",
          "polar": {
           "angularaxis": {
            "gridcolor": "white",
            "linecolor": "white",
            "ticks": ""
           },
           "bgcolor": "#E5ECF6",
           "radialaxis": {
            "gridcolor": "white",
            "linecolor": "white",
            "ticks": ""
           }
          },
          "scene": {
           "xaxis": {
            "backgroundcolor": "#E5ECF6",
            "gridcolor": "white",
            "gridwidth": 2,
            "linecolor": "white",
            "showbackground": true,
            "ticks": "",
            "zerolinecolor": "white"
           },
           "yaxis": {
            "backgroundcolor": "#E5ECF6",
            "gridcolor": "white",
            "gridwidth": 2,
            "linecolor": "white",
            "showbackground": true,
            "ticks": "",
            "zerolinecolor": "white"
           },
           "zaxis": {
            "backgroundcolor": "#E5ECF6",
            "gridcolor": "white",
            "gridwidth": 2,
            "linecolor": "white",
            "showbackground": true,
            "ticks": "",
            "zerolinecolor": "white"
           }
          },
          "shapedefaults": {
           "line": {
            "color": "#2a3f5f"
           }
          },
          "ternary": {
           "aaxis": {
            "gridcolor": "white",
            "linecolor": "white",
            "ticks": ""
           },
           "baxis": {
            "gridcolor": "white",
            "linecolor": "white",
            "ticks": ""
           },
           "bgcolor": "#E5ECF6",
           "caxis": {
            "gridcolor": "white",
            "linecolor": "white",
            "ticks": ""
           }
          },
          "title": {
           "x": 0.05
          },
          "xaxis": {
           "automargin": true,
           "gridcolor": "white",
           "linecolor": "white",
           "ticks": "",
           "title": {
            "standoff": 15
           },
           "zerolinecolor": "white",
           "zerolinewidth": 2
          },
          "yaxis": {
           "automargin": true,
           "gridcolor": "white",
           "linecolor": "white",
           "ticks": "",
           "title": {
            "standoff": 15
           },
           "zerolinecolor": "white",
           "zerolinewidth": 2
          }
         }
        },
        "title": {
         "text": "Residues Colored by B-factor<br><sub>Size and color represent flexibility</sub>"
        },
        "xaxis": {
         "anchor": "y",
         "domain": [
          0,
          1
         ],
         "title": {
          "text": "Residue Number"
         }
        },
        "yaxis": {
         "anchor": "x",
         "domain": [
          0,
          1
         ],
         "title": {
          "text": "Distance from Origin (Å)"
         }
        }
       }
      }
     },
     "metadata": {},
     "output_type": "display_data"
    },
    {
     "name": "stdout",
     "output_type": "stream",
     "text": [
      "✅ Pandas + Plotly backend makes visualization much easier!\n",
      "📊 The plot shows residue position vs distance, colored by flexibility\n"
     ]
    }
   ],
   "source": [
    "# Pandas with Plotly backend - much easier!\n",
    "# Set Plotly as the plotting backend for pandas\n",
    "pd.options.plotting.backend = \"plotly\"\n",
    "\n",
    "# Simple scatter plot colored by B-factor\n",
    "fig = residue_data.plot.scatter(\n",
    "    x=\"residue_number\",\n",
    "    y=\"distance_from_origin\",\n",
    "    color=\"b_factor\",\n",
    "    size=\"b_factor\",\n",
    "    hover_data=[\"residue_name\", \"atom_name\"],\n",
    "    title=\"Residues Colored by B-factor<br><sub>Size and color represent flexibility</sub>\",\n",
    "    labels={\n",
    "        \"residue_number\": \"Residue Number\",\n",
    "        \"distance_from_origin\": \"Distance from Origin (Å)\",\n",
    "        \"b_factor\": \"B-factor (Å²)\",\n",
    "    },\n",
    "    color_continuous_scale=\"Viridis\",\n",
    ")\n",
    "\n",
    "fig.show()\n",
    "\n",
    "print(\"✅ Pandas + Plotly backend makes visualization much easier!\")\n",
    "print(\"📊 The plot shows residue position vs distance, colored by flexibility\")"
   ]
  },
  {
   "cell_type": "markdown",
   "metadata": {},
   "source": [
    "### Exporting Results"
   ]
  },
  {
   "cell_type": "code",
   "execution_count": 47,
   "metadata": {},
   "outputs": [
    {
     "name": "stdout",
     "output_type": "stream",
     "text": [
      "To export: uncomment the lines above\n"
     ]
    }
   ],
   "source": [
    "# Save to CSV file\n",
    "# residue_data.to_csv('residue_analysis.csv', index=False)\n",
    "# print(\"Data saved to residue_analysis.csv\")\n",
    "\n",
    "# Save to Excel (requires openpyxl or xlsxwriter)\n",
    "# residue_data.to_excel('residue_analysis.xlsx', index=False)\n",
    "\n",
    "print(\"To export: uncomment the lines above\")"
   ]
  },
  {
   "cell_type": "markdown",
   "metadata": {},
   "source": [
    "---\n",
    "## Summary: What You've Learned\n",
    "\n",
    "### NumPy - Arrays and Operations\n",
    "- Create arrays for 3D coordinates\n",
    "- Index and slice to access specific atoms\n",
    "- Perform vector operations (translation, centering)\n",
    "- Calculate geometric properties (distances, center of mass)\n",
    "- Boolean indexing to filter atoms\n",
    "\n",
    "### Plotly - Interactive Visualization\n",
    "- Create interactive 3D scatter plots of structures\n",
    "- Customize colors, sizes, hover information\n",
    "- Rotate, zoom, and explore structures from all angles\n",
    "- Generate publication-quality interactive figures\n",
    "- Export as interactive HTML for sharing\n",
    "\n",
    "### SciPy - Scientific Computing\n",
    "- Calculate pairwise distances efficiently\n",
    "- Create contact maps\n",
    "- Use spatial data structures (KDTree)\n",
    "- Apply linear algebra (SVD for alignment)\n",
    "- Analyze distance distributions\n",
    "\n",
    "### Pandas - Data Organization\n",
    "- Create DataFrames for residue properties\n",
    "- Filter and select specific residues\n",
    "- Add calculated columns\n",
    "- Compute summary statistics\n",
    "- Sort and rank residues\n",
    "- Export results for further analysis\n",
    "\n"
   ]
  }
 ],
 "metadata": {
  "kernelspec": {
   "display_name": ".venv",
   "language": "python",
   "name": "python3"
  },
  "language_info": {
   "codemirror_mode": {
    "name": "ipython",
    "version": 3
   },
   "file_extension": ".py",
   "mimetype": "text/x-python",
   "name": "python",
   "nbconvert_exporter": "python",
   "pygments_lexer": "ipython3",
   "version": "3.12.7"
  }
 },
 "nbformat": 4,
 "nbformat_minor": 4
}
